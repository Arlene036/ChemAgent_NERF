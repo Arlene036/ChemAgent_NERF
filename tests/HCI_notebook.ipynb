{
 "cells": [
  {
   "cell_type": "code",
   "execution_count": 1,
   "metadata": {
    "ExecuteTime": {
     "end_time": "2023-08-28T18:19:05.656006Z",
     "start_time": "2023-08-28T18:19:00.230909700Z"
    }
   },
   "outputs": [],
   "source": [
    "\n",
    "import sys\n",
    "sys.path.append('../chemagent/tools/NERF')\n",
    "import os\n",
    "os.environ[\"OPENAI_API_KEY\"] = \"YOUR_API_KEY\"\n"
   ]
  },
  {
   "cell_type": "markdown",
   "metadata": {},
   "source": [
    "# Baseline"
   ]
  },
  {
   "cell_type": "code",
   "execution_count": 4,
   "metadata": {},
   "outputs": [],
   "source": [
    "from langchain import PromptTemplate, OpenAI, LLMChain\n",
    "\n",
    "prompt_template = \"Now You are given the reactants: {reactants}, and reagents: {reagents}. \\\n",
    "                   There are 3 tasks: \\\n",
    "                   Question1. What are the predicted products in SMILES? \\\n",
    "                   Question2. Analyze the changes of functional groups during the reaction. \\\n",
    "                    You should answer in the format: Answer1: ...; Answer2: ...; ...\"\n",
    "\n",
    "llm = OpenAI(temperature=0)\n",
    "llm_chain = LLMChain(\n",
    "    llm=llm,\n",
    "    prompt=PromptTemplate.from_template(prompt_template)\n",
    ")"
   ]
  },
  {
   "cell_type": "code",
   "execution_count": 5,
   "metadata": {
    "ExecuteTime": {
     "end_time": "2023-08-28T18:19:05.670038700Z",
     "start_time": "2023-08-28T18:19:05.658056100Z"
    }
   },
   "outputs": [],
   "source": [
    "import pandas as pd\n",
    "# out: sample1_gpt_only_result-2.csv\n",
    "d = pd.read_csv('fg_sample_data_0911_200.csv').iloc[0:5]\n",
    "\n",
    "result_list = []\n",
    "for index, row in d.iterrows():\n",
    "    reactants = row['reactants']\n",
    "    reagents = row['reagents']\n",
    "    result = llm_chain({'reactants': reactants, 'reagents': reagents})['text']\n",
    "    result_list.append({'reactants': reactants, 'reagents': reagents, 'result': result})\n",
    "\n",
    "r = pd.DataFrame(result_list)\n",
    "r.to_csv('f_sample_baseline_result_0911_5.csv', index=False)"
   ]
  }
 ],
 "metadata": {
  "kernelspec": {
   "display_name": "Python 3 (ipykernel)",
   "language": "python",
   "name": "python3"
  },
  "language_info": {
   "codemirror_mode": {
    "name": "ipython",
    "version": 3
   },
   "file_extension": ".py",
   "mimetype": "text/x-python",
   "name": "python",
   "nbconvert_exporter": "python",
   "pygments_lexer": "ipython3",
   "version": "3.8.17"
  }
 },
 "nbformat": 4,
 "nbformat_minor": 1
}
