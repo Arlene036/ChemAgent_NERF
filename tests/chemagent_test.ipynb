{
 "cells": [
  {
   "cell_type": "code",
   "execution_count": 1,
   "metadata": {
    "ExecuteTime": {
     "start_time": "2023-08-22T08:15:24.004554900Z"
    }
   },
   "outputs": [],
   "source": [
    "import sys\n",
    "sys.path.append('..')\n",
    "from chemagent import *\n",
    "from chemagent.agents.chem_agent import ChemAgent\n"
   ]
  },
  {
   "cell_type": "code",
   "execution_count": 5,
   "metadata": {
    "ExecuteTime": {
     "end_time": "2023-08-17T05:45:29.364032900Z",
     "start_time": "2023-08-17T05:45:29.348407700Z"
    }
   },
   "outputs": [
    {
     "name": "stdout",
     "output_type": "stream",
     "text": [
      "3.10.9 | packaged by Anaconda, Inc. | (main, Mar  1 2023, 18:18:15) [MSC v.1916 64 bit (AMD64)]\n",
      "F:\\Anaconda\\python.exe\n"
     ]
    }
   ],
   "source": [
    "import sys\n",
    "print(sys.version)\n",
    "print(sys.executable)"
   ]
  },
  {
   "cell_type": "code",
   "execution_count": 2,
   "metadata": {},
   "outputs": [],
   "source": [
    "model = ChemAgent(model='gpt-4-0613',analysis_model = 'gpt-4-0613', max_iterations=10)"
   ]
  },
  {
   "cell_type": "code",
   "execution_count": 8,
   "metadata": {},
   "outputs": [
    {
     "name": "stdout",
     "output_type": "stream",
     "text": [
      "\n",
      "\n",
      "\u001b[1m> Entering new FewShotAgentExecutor chain...\u001b[0m\n",
      "DEBUG:openai:message='Request to OpenAI API' method=post path=https://api.openai.com/v1/chat/completions\n",
      "DEBUG:openai:api_version=None data='{\"messages\": [{\"role\": \"user\", \"content\": \"Answer the following questions as best you can. You have access to the following tools:\\\\n\\\\nName2SMILES: Input a molecule name, returns SMILES.\\\\nMol2CAS: Input molecule (name or SMILES), returns CAS number.\\\\nQueryUSPTOWithType: Input reactants SMILES and possible reaction type, returns a file of similar reaction with reactants_smiles and products_smiles. You need to find the pattern of the chemical reaction from these similar reactionsfor final prediction of products. You would better get the final prediction after using this tool.\\\\nSMILES2Weight: Input SMILES, returns molecular weight.\\\\nFunctionalGroups: Input SMILES, return list of functional groups in the molecule.\\\\n\\\\nUse the following format:\\\\n\\\\nQuestion: the input question you must answer\\\\nThought: you should always think about what to do\\\\nAction: the action to take, should be one of [Name2SMILES, Mol2CAS, QueryUSPTOWithType, SMILES2Weight, FunctionalGroups]\\\\nAction Input: the input to the action\\\\nObservation: the result of the action\\\\n... (this Thought/Action/Action Input/Observation can repeat N times)\\\\nThought: I now know the final answer\\\\nFinal Answer: the final answer to the original input question\\\\n\\\\nBegin!\\\\n\\\\nQuestion: What is the SMILES of water?\\\\nThought:\"}], \"model\": \"gpt-4-0613\", \"max_tokens\": null, \"stream\": true, \"n\": 1, \"temperature\": 0.1, \"stop\": [\"\\\\nObservation: \"]}' message='Post details'\n",
      "DEBUG:openai:message='OpenAI API response' path=https://api.openai.com/v1/chat/completions processing_ms=7 request_id=d154dad3dbbac42e235a57391f9d7eea response_code=200\n",
      "I need to convert the name of the molecule to its SMILES representation.\n",
      "Action: Name2SMILES\n",
      "Action Input: Water\u001b[32;1m\u001b[1;3mI need to convert the name of the molecule to its SMILES representation.\n",
      "Action: Name2SMILES\n",
      "Action Input: Water\u001b[0m\n",
      "\n",
      "Observation: \u001b[36;1m\u001b[1;3mO\u001b[0m\n",
      "DEBUG:openai:message='Request to OpenAI API' method=post path=https://api.openai.com/v1/chat/completions\n",
      "DEBUG:openai:api_version=None data='{\"messages\": [{\"role\": \"user\", \"content\": \"Answer the following questions as best you can. You have access to the following tools:\\\\n\\\\nName2SMILES: Input a molecule name, returns SMILES.\\\\nMol2CAS: Input molecule (name or SMILES), returns CAS number.\\\\nQueryUSPTOWithType: Input reactants SMILES and possible reaction type, returns a file of similar reaction with reactants_smiles and products_smiles. You need to find the pattern of the chemical reaction from these similar reactionsfor final prediction of products. You would better get the final prediction after using this tool.\\\\nSMILES2Weight: Input SMILES, returns molecular weight.\\\\nFunctionalGroups: Input SMILES, return list of functional groups in the molecule.\\\\n\\\\nUse the following format:\\\\n\\\\nQuestion: the input question you must answer\\\\nThought: you should always think about what to do\\\\nAction: the action to take, should be one of [Name2SMILES, Mol2CAS, QueryUSPTOWithType, SMILES2Weight, FunctionalGroups]\\\\nAction Input: the input to the action\\\\nObservation: the result of the action\\\\n... (this Thought/Action/Action Input/Observation can repeat N times)\\\\nThought: I now know the final answer\\\\nFinal Answer: the final answer to the original input question\\\\n\\\\nBegin!\\\\n\\\\nQuestion: What is the SMILES of water?\\\\nThought:I need to convert the name of the molecule to its SMILES representation.\\\\nAction: Name2SMILES\\\\nAction Input: Water\\\\nObservation: O\\\\nThought:\"}], \"model\": \"gpt-4-0613\", \"max_tokens\": null, \"stream\": true, \"n\": 1, \"temperature\": 0.1, \"stop\": [\"\\\\nObservation: \"]}' message='Post details'\n",
      "DEBUG:openai:message='OpenAI API response' path=https://api.openai.com/v1/chat/completions processing_ms=11 request_id=9fe3f748ff0005d0365ce688e4a2dea2 response_code=200\n",
      "I now know the SMILES representation of water.\n",
      "Final Answer: The SMILES of water is O.\u001b[32;1m\u001b[1;3mI now know the SMILES representation of water.\n",
      "Final Answer: The SMILES of water is O.\u001b[0m\n",
      "\n",
      "\u001b[1m> Finished chain.\u001b[0m\n"
     ]
    },
    {
     "data": {
      "text/plain": [
       "('The SMILES of water is O.',\n",
       " 'Thought: I need to convert the name of the molecule to its SMILES representation.\\nAction: Name2SMILES\\nAction Input: Water\\nObservation: O\\nFinal Answer: The SMILES of water is O.')"
      ]
     },
     "execution_count": 8,
     "metadata": {},
     "output_type": "execute_result"
    }
   ],
   "source": [
    "model.run('What is the SMILES of water?')"
   ]
  },
  {
   "cell_type": "code",
   "execution_count": 3,
   "metadata": {},
   "outputs": [
    {
     "name": "stdout",
     "output_type": "stream",
     "text": [
      "\n",
      "\n",
      "\u001b[1m> Entering new FewShotAgentExecutor chain...\u001b[0m\n",
      "DEBUG:openai:message='Request to OpenAI API' method=post path=https://api.openai.com/v1/chat/completions\n",
      "DEBUG:openai:api_version=None data='{\"messages\": [{\"role\": \"user\", \"content\": \"Answer the following questions as best you can. You have access to the following tools:\\\\n\\\\nName2SMILES: Input a molecule name, returns SMILES.\\\\nMol2CAS: Input molecule (name or SMILES), returns CAS number.\\\\nQueryUSPTOWithType: Input SMILES of reactants and possible reaction type, returns a file of similar reaction with reactants_smiles and products_smiles. You need to find the pattern of the chemical reaction from these similar reactionsfor final prediction of products.         An example of input of this tool is \\\\\"C1=CC=C(C=C1)C2=CC=CC=C2, heteroatom alkylation and arylation\\\\\". \\\\nSMILES2Weight: Input SMILES, returns molecular weight.\\\\nFunctionalGroups: Input SMILES, return list of functional groups in the molecule. Analysis the observation of the functional groups to predict the reaction type.\\\\n\\\\nUse the following format:\\\\n\\\\nQuestion: the input question you must answer\\\\nThought: you should always think about what to do\\\\nAction: the action to take, should be one of [Name2SMILES, Mol2CAS, QueryUSPTOWithType, SMILES2Weight, FunctionalGroups]\\\\nAction Input: the input to the action\\\\nObservation: the result of the action\\\\n... (this Thought/Action/Action Input/Observation can repeat N times)\\\\nThought: I now know the final answer\\\\nFinal Answer: the final answer to the original input question\\\\n\\\\nBegin!\\\\n\\\\nQuestion: Now You are given reactants and reagents SMILES CC(C)(C(=O)Nc1nncs1)C(c1ccccc1)c1ccc2[nH]ncc2c1.Ic1ccccc1.O=P([O-])([O-])[O-].[K+].[K+].[K+],                      predict the possible product SMILES.\\\\nThought:\"}], \"model\": \"gpt-4-0613\", \"max_tokens\": null, \"stream\": true, \"n\": 1, \"temperature\": 0.1, \"stop\": [\"\\\\nObservation: \"]}' message='Post details'\n",
      "DEBUG:openai:message='OpenAI API response' path=https://api.openai.com/v1/chat/completions processing_ms=8 request_id=9f7f00c3c05e1c75e17c659b81017d50 response_code=200\n",
      "I need to find the pattern of the chemical reaction to predict the product. I can use the QueryUSPTOWithType tool to find similar reactions and their products.\n",
      "Action: QueryUSPTOWithType\n",
      "Action Input: CC(C)(C(=O)Nc1nncs1)C(c1ccccc1)c1ccc2[nH]ncc2c1.Ic1ccccc1.O=P([O-])([O-])[O-].[K+].[K+].[K+]\u001b[32;1m\u001b[1;3mI need to find the pattern of the chemical reaction to predict the product. I can use the QueryUSPTOWithType tool to find similar reactions and their products.\n",
      "Action: QueryUSPTOWithType\n",
      "Action Input: CC(C)(C(=O)Nc1nncs1)C(c1ccccc1)c1ccc2[nH]ncc2c1.Ic1ccccc1.O=P([O-])([O-])[O-].[K+].[K+].[K+]\u001b[0m\n",
      "\n",
      "Observation: \u001b[38;5;200m\u001b[1;3mInvalid input, please input SMILES (multiple molecule SMILES are separated by .) and reaction type (SMILES and reaction type are separated by ,)\u001b[0m\n",
      "DEBUG:openai:message='Request to OpenAI API' method=post path=https://api.openai.com/v1/chat/completions\n",
      "DEBUG:openai:api_version=None data='{\"messages\": [{\"role\": \"user\", \"content\": \"Answer the following questions as best you can. You have access to the following tools:\\\\n\\\\nName2SMILES: Input a molecule name, returns SMILES.\\\\nMol2CAS: Input molecule (name or SMILES), returns CAS number.\\\\nQueryUSPTOWithType: Input SMILES of reactants and possible reaction type, returns a file of similar reaction with reactants_smiles and products_smiles. You need to find the pattern of the chemical reaction from these similar reactionsfor final prediction of products.         An example of input of this tool is \\\\\"C1=CC=C(C=C1)C2=CC=CC=C2, heteroatom alkylation and arylation\\\\\". \\\\nSMILES2Weight: Input SMILES, returns molecular weight.\\\\nFunctionalGroups: Input SMILES, return list of functional groups in the molecule. Analysis the observation of the functional groups to predict the reaction type.\\\\n\\\\nUse the following format:\\\\n\\\\nQuestion: the input question you must answer\\\\nThought: you should always think about what to do\\\\nAction: the action to take, should be one of [Name2SMILES, Mol2CAS, QueryUSPTOWithType, SMILES2Weight, FunctionalGroups]\\\\nAction Input: the input to the action\\\\nObservation: the result of the action\\\\n... (this Thought/Action/Action Input/Observation can repeat N times)\\\\nThought: I now know the final answer\\\\nFinal Answer: the final answer to the original input question\\\\n\\\\nBegin!\\\\n\\\\nQuestion: Now You are given reactants and reagents SMILES CC(C)(C(=O)Nc1nncs1)C(c1ccccc1)c1ccc2[nH]ncc2c1.Ic1ccccc1.O=P([O-])([O-])[O-].[K+].[K+].[K+],                      predict the possible product SMILES.\\\\nThought:I need to find the pattern of the chemical reaction to predict the product. I can use the QueryUSPTOWithType tool to find similar reactions and their products.\\\\nAction: QueryUSPTOWithType\\\\nAction Input: CC(C)(C(=O)Nc1nncs1)C(c1ccccc1)c1ccc2[nH]ncc2c1.Ic1ccccc1.O=P([O-])([O-])[O-].[K+].[K+].[K+]\\\\nObservation: Invalid input, please input SMILES (multiple molecule SMILES are separated by .) and reaction type (SMILES and reaction type are separated by ,)\\\\nThought:\"}], \"model\": \"gpt-4-0613\", \"max_tokens\": null, \"stream\": true, \"n\": 1, \"temperature\": 0.1, \"stop\": [\"\\\\nObservation: \"]}' message='Post details'\n",
      "DEBUG:openai:message='OpenAI API response' path=https://api.openai.com/v1/chat/completions processing_ms=7 request_id=f965b602c05c45aaa0d58c7bcee66685 response_code=200\n",
      "I need to specify a reaction type along with the reactants SMILES for the QueryUSPTOWithType tool. However, I don't know the reaction type yet. I can use the FunctionalGroups tool to analyze the functional groups in the molecules and predict the reaction type.\n",
      "Action: FunctionalGroups\n",
      "Action Input: CC(C)(C(=O)Nc1nncs1)C(c1ccccc1)c1ccc2[nH]ncc2c1.Ic1ccccc1.O=P([O-])([O-])[O-].[K+].[K+].[K+]\u001b[32;1m\u001b[1;3mI need to specify a reaction type along with the reactants SMILES for the QueryUSPTOWithType tool. However, I don't know the reaction type yet. I can use the FunctionalGroups tool to analyze the functional groups in the molecules and predict the reaction type.\n",
      "Action: FunctionalGroups\n",
      "Action Input: CC(C)(C(=O)Nc1nncs1)C(c1ccccc1)c1ccc2[nH]ncc2c1.Ic1ccccc1.O=P([O-])([O-])[O-].[K+].[K+].[K+]\u001b[0m\n",
      "\n",
      "Observation: \u001b[33;1m\u001b[1;3mThis molecule contains ketones, amides, halogens, and side-chain hydroxyls.\u001b[0m\n",
      "DEBUG:openai:message='Request to OpenAI API' method=post path=https://api.openai.com/v1/chat/completions\n",
      "DEBUG:openai:api_version=None data='{\"messages\": [{\"role\": \"user\", \"content\": \"Answer the following questions as best you can. You have access to the following tools:\\\\n\\\\nName2SMILES: Input a molecule name, returns SMILES.\\\\nMol2CAS: Input molecule (name or SMILES), returns CAS number.\\\\nQueryUSPTOWithType: Input SMILES of reactants and possible reaction type, returns a file of similar reaction with reactants_smiles and products_smiles. You need to find the pattern of the chemical reaction from these similar reactionsfor final prediction of products.         An example of input of this tool is \\\\\"C1=CC=C(C=C1)C2=CC=CC=C2, heteroatom alkylation and arylation\\\\\". \\\\nSMILES2Weight: Input SMILES, returns molecular weight.\\\\nFunctionalGroups: Input SMILES, return list of functional groups in the molecule. Analysis the observation of the functional groups to predict the reaction type.\\\\n\\\\nUse the following format:\\\\n\\\\nQuestion: the input question you must answer\\\\nThought: you should always think about what to do\\\\nAction: the action to take, should be one of [Name2SMILES, Mol2CAS, QueryUSPTOWithType, SMILES2Weight, FunctionalGroups]\\\\nAction Input: the input to the action\\\\nObservation: the result of the action\\\\n... (this Thought/Action/Action Input/Observation can repeat N times)\\\\nThought: I now know the final answer\\\\nFinal Answer: the final answer to the original input question\\\\n\\\\nBegin!\\\\n\\\\nQuestion: Now You are given reactants and reagents SMILES CC(C)(C(=O)Nc1nncs1)C(c1ccccc1)c1ccc2[nH]ncc2c1.Ic1ccccc1.O=P([O-])([O-])[O-].[K+].[K+].[K+],                      predict the possible product SMILES.\\\\nThought:I need to find the pattern of the chemical reaction to predict the product. I can use the QueryUSPTOWithType tool to find similar reactions and their products.\\\\nAction: QueryUSPTOWithType\\\\nAction Input: CC(C)(C(=O)Nc1nncs1)C(c1ccccc1)c1ccc2[nH]ncc2c1.Ic1ccccc1.O=P([O-])([O-])[O-].[K+].[K+].[K+]\\\\nObservation: Invalid input, please input SMILES (multiple molecule SMILES are separated by .) and reaction type (SMILES and reaction type are separated by ,)\\\\nThought:I need to specify a reaction type along with the reactants SMILES for the QueryUSPTOWithType tool. However, I don\\'t know the reaction type yet. I can use the FunctionalGroups tool to analyze the functional groups in the molecules and predict the reaction type.\\\\nAction: FunctionalGroups\\\\nAction Input: CC(C)(C(=O)Nc1nncs1)C(c1ccccc1)c1ccc2[nH]ncc2c1.Ic1ccccc1.O=P([O-])([O-])[O-].[K+].[K+].[K+]\\\\nObservation: This molecule contains ketones, amides, halogens, and side-chain hydroxyls.\\\\nThought:\"}], \"model\": \"gpt-4-0613\", \"max_tokens\": null, \"stream\": true, \"n\": 1, \"temperature\": 0.1, \"stop\": [\"\\\\nObservation: \"]}' message='Post details'\n",
      "DEBUG:openai:message='OpenAI API response' path=https://api.openai.com/v1/chat/completions processing_ms=8 request_id=5fd58750b90661a723c5781f08a11d75 response_code=200\n",
      "Based on the functional groups present, this could be a nucleophilic substitution reaction where the halogen (iodine) is replaced by the amide group. Let's try using the QueryUSPTOWithType tool again with this reaction type.\n",
      "Action: QueryUSPTOWithType\n",
      "Action Input: CC(C)(C(=O)Nc1nncs1)C(c1ccccc1)c1ccc2[nH]ncc2c1.Ic1ccccc1.O=P([O-])([O-])[O-].[K+].[K+].[K+], nucleophilic substitution\u001b[32;1m\u001b[1;3mBased on the functional groups present, this could be a nucleophilic substitution reaction where the halogen (iodine) is replaced by the amide group. Let's try using the QueryUSPTOWithType tool again with this reaction type.\n",
      "Action: QueryUSPTOWithType\n",
      "Action Input: CC(C)(C(=O)Nc1nncs1)C(c1ccccc1)c1ccc2[nH]ncc2c1.Ic1ccccc1.O=P([O-])([O-])[O-].[K+].[K+].[K+], nucleophilic substitution\u001b[0m\n",
      "\n",
      "Observation: \u001b[38;5;200m\u001b[1;3mInvalid input, please input one of the reaction types in the following list: heteroatom alkylation and arylation, acylation and related processes, C-C bond formation, heterocycle formation, protections, deprotections, reductions, oxidations, functional group interconversion, functional group addition (FGA)\u001b[0m\n",
      "DEBUG:openai:message='Request to OpenAI API' method=post path=https://api.openai.com/v1/chat/completions\n",
      "DEBUG:openai:api_version=None data='{\"messages\": [{\"role\": \"user\", \"content\": \"Answer the following questions as best you can. You have access to the following tools:\\\\n\\\\nName2SMILES: Input a molecule name, returns SMILES.\\\\nMol2CAS: Input molecule (name or SMILES), returns CAS number.\\\\nQueryUSPTOWithType: Input SMILES of reactants and possible reaction type, returns a file of similar reaction with reactants_smiles and products_smiles. You need to find the pattern of the chemical reaction from these similar reactionsfor final prediction of products.         An example of input of this tool is \\\\\"C1=CC=C(C=C1)C2=CC=CC=C2, heteroatom alkylation and arylation\\\\\". \\\\nSMILES2Weight: Input SMILES, returns molecular weight.\\\\nFunctionalGroups: Input SMILES, return list of functional groups in the molecule. Analysis the observation of the functional groups to predict the reaction type.\\\\n\\\\nUse the following format:\\\\n\\\\nQuestion: the input question you must answer\\\\nThought: you should always think about what to do\\\\nAction: the action to take, should be one of [Name2SMILES, Mol2CAS, QueryUSPTOWithType, SMILES2Weight, FunctionalGroups]\\\\nAction Input: the input to the action\\\\nObservation: the result of the action\\\\n... (this Thought/Action/Action Input/Observation can repeat N times)\\\\nThought: I now know the final answer\\\\nFinal Answer: the final answer to the original input question\\\\n\\\\nBegin!\\\\n\\\\nQuestion: Now You are given reactants and reagents SMILES CC(C)(C(=O)Nc1nncs1)C(c1ccccc1)c1ccc2[nH]ncc2c1.Ic1ccccc1.O=P([O-])([O-])[O-].[K+].[K+].[K+],                      predict the possible product SMILES.\\\\nThought:I need to find the pattern of the chemical reaction to predict the product. I can use the QueryUSPTOWithType tool to find similar reactions and their products.\\\\nAction: QueryUSPTOWithType\\\\nAction Input: CC(C)(C(=O)Nc1nncs1)C(c1ccccc1)c1ccc2[nH]ncc2c1.Ic1ccccc1.O=P([O-])([O-])[O-].[K+].[K+].[K+]\\\\nObservation: Invalid input, please input SMILES (multiple molecule SMILES are separated by .) and reaction type (SMILES and reaction type are separated by ,)\\\\nThought:I need to specify a reaction type along with the reactants SMILES for the QueryUSPTOWithType tool. However, I don\\'t know the reaction type yet. I can use the FunctionalGroups tool to analyze the functional groups in the molecules and predict the reaction type.\\\\nAction: FunctionalGroups\\\\nAction Input: CC(C)(C(=O)Nc1nncs1)C(c1ccccc1)c1ccc2[nH]ncc2c1.Ic1ccccc1.O=P([O-])([O-])[O-].[K+].[K+].[K+]\\\\nObservation: This molecule contains ketones, amides, halogens, and side-chain hydroxyls.\\\\nThought:Based on the functional groups present, this could be a nucleophilic substitution reaction where the halogen (iodine) is replaced by the amide group. Let\\'s try using the QueryUSPTOWithType tool again with this reaction type.\\\\nAction: QueryUSPTOWithType\\\\nAction Input: CC(C)(C(=O)Nc1nncs1)C(c1ccccc1)c1ccc2[nH]ncc2c1.Ic1ccccc1.O=P([O-])([O-])[O-].[K+].[K+].[K+], nucleophilic substitution\\\\nObservation: Invalid input, please input one of the reaction types in the following list: heteroatom alkylation and arylation, acylation and related processes, C-C bond formation, heterocycle formation, protections, deprotections, reductions, oxidations, functional group interconversion, functional group addition (FGA)\\\\nThought:\"}], \"model\": \"gpt-4-0613\", \"max_tokens\": null, \"stream\": true, \"n\": 1, \"temperature\": 0.1, \"stop\": [\"\\\\nObservation: \"]}' message='Post details'\n",
      "DEBUG:openai:message='OpenAI API response' path=https://api.openai.com/v1/chat/completions processing_ms=9 request_id=4c29dfdcff0e0edd2c5aa4ff880f96b3 response_code=200\n",
      "The reaction type I guessed is not in the list provided by the tool. Based on the functional groups and the presence of a halogen and a base (potassium), this could be a heteroatom alkylation and arylation reaction.\n",
      "Action: QueryUSPTOWithType\n",
      "Action Input: CC(C)(C(=O)Nc1nncs1)C(c1ccccc1)c1ccc2[nH]ncc2c1.Ic1ccccc1.O=P([O-])([O-])[O-].[K+].[K+].[K+], heteroatom alkylation and arylation\u001b[32;1m\u001b[1;3mThe reaction type I guessed is not in the list provided by the tool. Based on the functional groups and the presence of a halogen and a base (potassium), this could be a heteroatom alkylation and arylation reaction.\n",
      "Action: QueryUSPTOWithType\n",
      "Action Input: CC(C)(C(=O)Nc1nncs1)C(c1ccccc1)c1ccc2[nH]ncc2c1.Ic1ccccc1.O=P([O-])([O-])[O-].[K+].[K+].[K+], heteroatom alkylation and arylation\u001b[0m\n",
      "\n",
      "Observation: \u001b[38;5;200m\u001b[1;3mvalid input******reactants and reagents:O=Cc1cccc(O)c1.O=[N+]([O-])c1ccc(F)cc1\n",
      "products:O=Cc1cccc(Oc2ccc([N+](=O)[O-])cc2)c1\n",
      "\n",
      "reactants and reagents:CC(C)N.FC(F)(F)c1ccc(-c2noc(CCl)n2)cc1\n",
      "products:CC(C)NCc1nc(-c2ccc(C(F)(F)F)cc2)no1\n",
      "\n",
      "reactants and reagents:CNCC(O)c1ccccc1.Cn1nc(-c2ccc(C=O)s2)cc1C(F)(F)F\n",
      "products:CN(Cc1ccc(-c2cc(C(F)(F)F)n(C)n2)s1)CC(O)c1ccccc1\n",
      "\n",
      "\u001b[0m\n",
      "DEBUG:openai:message='Request to OpenAI API' method=post path=https://api.openai.com/v1/chat/completions\n",
      "DEBUG:openai:api_version=None data='{\"messages\": [{\"role\": \"user\", \"content\": \"\\\\nYou are an expert chemist. Given the reactants SMILES, your task is to predict the main product SMILES using your experienced chemical Reaction Prediction knowledge. \\\\nPlease strictly follow the format, no other information can be provided. You should only reply with SMILES string notations to represent the product. \\\\nThe input contains the reactants and reagents which are split by \\'.\\'. The product smiles must be valid and chemically reasonable. \\\\n\\\\n\\\\n\\\\nreactants and reagents:O=Cc1cccc(O)c1.O=[N+]([O-])c1ccc(F)cc1\\\\nproducts:O=Cc1cccc(Oc2ccc([N+](=O)[O-])cc2)c1\\\\n\\\\nreactants and reagents:CC(C)N.FC(F)(F)c1ccc(-c2noc(CCl)n2)cc1\\\\nproducts:CC(C)NCc1nc(-c2ccc(C(F)(F)F)cc2)no1\\\\n\\\\nreactants and reagents:CNCC(O)c1ccccc1.Cn1nc(-c2ccc(C=O)s2)cc1C(F)(F)F\\\\nproducts:CN(Cc1ccc(-c2cc(C(F)(F)F)n(C)n2)s1)CC(O)c1ccccc1\\\\n\\\\n\\\\n\\\\n\\\\n\\\\nReactants and reagents: CC(C)(C(=O)Nc1nncs1)C(c1ccccc1)c1ccc2[nH]ncc2c1.Ic1ccccc1.O=P([O-])([O-])[O-].[K+].[K+].[K+]\\\\nProduct:\\\\n\"}], \"model\": \"gpt-4-0613\", \"max_tokens\": null, \"stream\": true, \"n\": 1, \"temperature\": 0.1}' message='Post details'\n",
      "DEBUG:openai:message='OpenAI API response' path=https://api.openai.com/v1/chat/completions processing_ms=8 request_id=dc746eecae76e0b888908ad73edda26c response_code=200\n",
      "CC(C)(C(=O)Nc1nncs1)C(c1ccccc1)c1ccc2[nH]ncc2c1.OP(=O)([O-])Oc1ccccc1.[K+].[K+]DEBUG:openai:message='Request to OpenAI API' method=post path=https://api.openai.com/v1/chat/completions\n",
      "DEBUG:openai:api_version=None data='{\"messages\": [{\"role\": \"user\", \"content\": \"Answer the following questions as best you can. You have access to the following tools:\\\\n\\\\nName2SMILES: Input a molecule name, returns SMILES.\\\\nMol2CAS: Input molecule (name or SMILES), returns CAS number.\\\\nQueryUSPTOWithType: Input SMILES of reactants and possible reaction type, returns a file of similar reaction with reactants_smiles and products_smiles. You need to find the pattern of the chemical reaction from these similar reactionsfor final prediction of products.         An example of input of this tool is \\\\\"C1=CC=C(C=C1)C2=CC=CC=C2, heteroatom alkylation and arylation\\\\\". \\\\nSMILES2Weight: Input SMILES, returns molecular weight.\\\\nFunctionalGroups: Input SMILES, return list of functional groups in the molecule. Analysis the observation of the functional groups to predict the reaction type.\\\\n\\\\nUse the following format:\\\\n\\\\nQuestion: the input question you must answer\\\\nThought: you should always think about what to do\\\\nAction: the action to take, should be one of [Name2SMILES, Mol2CAS, QueryUSPTOWithType, SMILES2Weight, FunctionalGroups]\\\\nAction Input: the input to the action\\\\nObservation: the result of the action\\\\n... (this Thought/Action/Action Input/Observation can repeat N times)\\\\nThought: I now know the final answer\\\\nFinal Answer: the final answer to the original input question\\\\n\\\\nBegin!\\\\n\\\\nQuestion: Now You are given reactants and reagents SMILES CC(C)(C(=O)Nc1nncs1)C(c1ccccc1)c1ccc2[nH]ncc2c1.Ic1ccccc1.O=P([O-])([O-])[O-].[K+].[K+].[K+],                      predict the possible product SMILES.\\\\nThought:I need to find the pattern of the chemical reaction to predict the product. I can use the QueryUSPTOWithType tool to find similar reactions and their products.\\\\nAction: QueryUSPTOWithType\\\\nAction Input: CC(C)(C(=O)Nc1nncs1)C(c1ccccc1)c1ccc2[nH]ncc2c1.Ic1ccccc1.O=P([O-])([O-])[O-].[K+].[K+].[K+]\\\\nObservation: Invalid input, please input SMILES (multiple molecule SMILES are separated by .) and reaction type (SMILES and reaction type are separated by ,)\\\\nThought:I need to specify a reaction type along with the reactants SMILES for the QueryUSPTOWithType tool. However, I don\\'t know the reaction type yet. I can use the FunctionalGroups tool to analyze the functional groups in the molecules and predict the reaction type.\\\\nAction: FunctionalGroups\\\\nAction Input: CC(C)(C(=O)Nc1nncs1)C(c1ccccc1)c1ccc2[nH]ncc2c1.Ic1ccccc1.O=P([O-])([O-])[O-].[K+].[K+].[K+]\\\\nObservation: This molecule contains ketones, amides, halogens, and side-chain hydroxyls.\\\\nThought:Based on the functional groups present, this could be a nucleophilic substitution reaction where the halogen (iodine) is replaced by the amide group. Let\\'s try using the QueryUSPTOWithType tool again with this reaction type.\\\\nAction: QueryUSPTOWithType\\\\nAction Input: CC(C)(C(=O)Nc1nncs1)C(c1ccccc1)c1ccc2[nH]ncc2c1.Ic1ccccc1.O=P([O-])([O-])[O-].[K+].[K+].[K+], nucleophilic substitution\\\\nObservation: Invalid input, please input one of the reaction types in the following list: heteroatom alkylation and arylation, acylation and related processes, C-C bond formation, heterocycle formation, protections, deprotections, reductions, oxidations, functional group interconversion, functional group addition (FGA)\\\\nThought:The reaction type I guessed is not in the list provided by the tool. Based on the functional groups and the presence of a halogen and a base (potassium), this could be a heteroatom alkylation and arylation reaction.\\\\nAction: QueryUSPTOWithType\\\\nAction Input: CC(C)(C(=O)Nc1nncs1)C(c1ccccc1)c1ccc2[nH]ncc2c1.Ic1ccccc1.O=P([O-])([O-])[O-].[K+].[K+].[K+], heteroatom alkylation and arylation\\\\nObservation: CC(C)(C(=O)Nc1nncs1)C(c1ccccc1)c1ccc2[nH]ncc2c1.OP(=O)([O-])Oc1ccccc1.[K+].[K+]\\\\nThought:\"}], \"model\": \"gpt-4-0613\", \"max_tokens\": null, \"stream\": true, \"n\": 1, \"temperature\": 0.1, \"stop\": [\"\\\\nObservation: \"]}' message='Post details'\n",
      "DEBUG:openai:message='OpenAI API response' path=https://api.openai.com/v1/chat/completions processing_ms=12 request_id=aed7026536080eb2650278c891770cd6 response_code=200\n",
      "I now have the SMILES of the possible product of the reaction.\n",
      "Final Answer: The possible product SMILES is CC(C)(C(=O)Nc1nncs1)C(c1ccccc1)c1ccc2[nH]ncc2c1.OP(=O)([O-])Oc1ccccc1.[K+].[K+]\u001b[32;1m\u001b[1;3mI now have the SMILES of the possible product of the reaction.\n",
      "Final Answer: The possible product SMILES is CC(C)(C(=O)Nc1nncs1)C(c1ccccc1)c1ccc2[nH]ncc2c1.OP(=O)([O-])Oc1ccccc1.[K+].[K+]\u001b[0m\n",
      "\n",
      "\u001b[1m> Finished chain.\u001b[0m\n"
     ]
    },
    {
     "data": {
      "text/plain": [
       "('The possible product SMILES is CC(C)(C(=O)Nc1nncs1)C(c1ccccc1)c1ccc2[nH]ncc2c1.OP(=O)([O-])Oc1ccccc1.[K+].[K+]',\n",
       " \"Thought: I need to find the pattern of the chemical reaction to predict the product. I can use the QueryUSPTOWithType tool to find similar reactions and their products.\\nAction: QueryUSPTOWithType\\nAction Input: CC(C)(C(=O)Nc1nncs1)C(c1ccccc1)c1ccc2[nH]ncc2c1.Ic1ccccc1.O=P([O-])([O-])[O-].[K+].[K+].[K+]\\nObservation: Invalid input, please input SMILES (multiple molecule SMILES are separated by .) and reaction type (SMILES and reaction type are separated by ,)\\nThought: I need to specify a reaction type along with the reactants SMILES for the QueryUSPTOWithType tool. However, I don't know the reaction type yet. I can use the FunctionalGroups tool to analyze the functional groups in the molecules and predict the reaction type.\\nAction: FunctionalGroups\\nAction Input: CC(C)(C(=O)Nc1nncs1)C(c1ccccc1)c1ccc2[nH]ncc2c1.Ic1ccccc1.O=P([O-])([O-])[O-].[K+].[K+].[K+]\\nObservation: This molecule contains ketones, amides, halogens, and side-chain hydroxyls.\\nThought: Based on the functional groups present, this could be a nucleophilic substitution reaction where the halogen (iodine) is replaced by the amide group. Let's try using the QueryUSPTOWithType tool again with this reaction type.\\nAction: QueryUSPTOWithType\\nAction Input: CC(C)(C(=O)Nc1nncs1)C(c1ccccc1)c1ccc2[nH]ncc2c1.Ic1ccccc1.O=P([O-])([O-])[O-].[K+].[K+].[K+], nucleophilic substitution\\nObservation: Invalid input, please input one of the reaction types in the following list: heteroatom alkylation and arylation, acylation and related processes, C-C bond formation, heterocycle formation, protections, deprotections, reductions, oxidations, functional group interconversion, functional group addition (FGA)\\nThought: The reaction type I guessed is not in the list provided by the tool. Based on the functional groups and the presence of a halogen and a base (potassium), this could be a heteroatom alkylation and arylation reaction.\\nAction: QueryUSPTOWithType\\nAction Input: CC(C)(C(=O)Nc1nncs1)C(c1ccccc1)c1ccc2[nH]ncc2c1.Ic1ccccc1.O=P([O-])([O-])[O-].[K+].[K+].[K+], heteroatom alkylation and arylation\\nObservation: CC(C)(C(=O)Nc1nncs1)C(c1ccccc1)c1ccc2[nH]ncc2c1.OP(=O)([O-])Oc1ccccc1.[K+].[K+]\\nFinal Answer: The possible product SMILES is CC(C)(C(=O)Nc1nncs1)C(c1ccccc1)c1ccc2[nH]ncc2c1.OP(=O)([O-])Oc1ccccc1.[K+].[K+]\")"
      ]
     },
     "execution_count": 3,
     "metadata": {},
     "output_type": "execute_result"
    }
   ],
   "source": [
    "# Demo1: 8.2 05:00 \n",
    "model.run('Now You are given reactants and reagents SMILES CC(C)(C(=O)Nc1nncs1)C(c1ccccc1)c1ccc2[nH]ncc2c1.Ic1ccccc1.O=P([O-])([O-])[O-].[K+].[K+].[K+], \\\n",
    "                     predict the possible product SMILES.')"
   ]
  },
  {
   "cell_type": "code",
   "execution_count": 3,
   "metadata": {},
   "outputs": [
    {
     "name": "stdout",
     "output_type": "stream",
     "text": [
      "\n",
      "\n",
      "\u001b[1m> Entering new FewShotAgentExecutor chain...\u001b[0m\n",
      "DEBUG:openai:message='Request to OpenAI API' method=post path=https://api.openai.com/v1/chat/completions\n",
      "DEBUG:openai:api_version=None data='{\"messages\": [{\"role\": \"user\", \"content\": \"Answer the following questions as best you can. You have access to the following tools:\\\\n\\\\nName2SMILES: Input a molecule name, returns SMILES.\\\\nMol2CAS: Input molecule (name or SMILES), returns CAS number.\\\\nQueryUSPTOWithType: Input SMILES of reactants and possible reaction type, returns a file of similar reaction with reactants_smiles and products_smiles. You need to find the pattern of the chemical reaction from these similar reactionsfor final prediction of products.         An example of input of this tool is \\\\\"C1=CC=C(C=C1)C2=CC=CC=C2, heteroatom alkylation and arylation\\\\\". \\\\nSMILES2Weight: Input SMILES, returns molecular weight.\\\\nFunctionalGroups: Input SMILES, return list of functional groups in the molecule. Analysis the observation of the functional groups to predict the reaction type.\\\\n\\\\nUse the following format:\\\\n\\\\nQuestion: the input question you must answer\\\\nThought: you should always think about what to do\\\\nAction: the action to take, should be one of [Name2SMILES, Mol2CAS, QueryUSPTOWithType, SMILES2Weight, FunctionalGroups]\\\\nAction Input: the input to the action\\\\nObservation: the result of the action\\\\n... (this Thought/Action/Action Input/Observation can repeat N times)\\\\nThought: I now know the final answer\\\\nFinal Answer: the final answer to the original input question\\\\n\\\\nBegin!\\\\n\\\\nQuestion: Now You are given reactants and reagents SMILES CC(C)(C(=O)Nc1nncs1)C(c1ccccc1)c1ccc2[nH]ncc2c1.Ic1ccccc1.O=P([O-])([O-])[O-].[K+].[K+].[K+],                      predict the possible product SMILES.\\\\nThought:\"}], \"model\": \"gpt-4-0613\", \"max_tokens\": null, \"stream\": true, \"n\": 1, \"temperature\": 0.1, \"stop\": [\"\\\\nObservation: \"]}' message='Post details'\n",
      "DEBUG:openai:message='OpenAI API response' path=https://api.openai.com/v1/chat/completions processing_ms=8 request_id=b011262cc0263c82b518812dc19cadfd response_code=200\n",
      "I need to find a similar reaction pattern to predict the product of this reaction.\n",
      "Action: QueryUSPTOWithType\n",
      "Action Input: CC(C)(C(=O)Nc1nncs1)C(c1ccccc1)c1ccc2[nH]ncc2c1.Ic1ccccc1.O=P([O-])([O-])[O-].[K+].[K+].[K+], heteroatom alkylation and arylation\u001b[32;1m\u001b[1;3mI need to find a similar reaction pattern to predict the product of this reaction.\n",
      "Action: QueryUSPTOWithType\n",
      "Action Input: CC(C)(C(=O)Nc1nncs1)C(c1ccccc1)c1ccc2[nH]ncc2c1.Ic1ccccc1.O=P([O-])([O-])[O-].[K+].[K+].[K+], heteroatom alkylation and arylation\u001b[0mFound model file at  C:\\\\\\\\Users\\\\\\\\22100\\\\\\\\.cache\\\\\\\\gpt4all\\\\ggml-all-MiniLM-L6-v2-f16.bin\n"
     ]
    },
    {
     "name": "stderr",
     "output_type": "stream",
     "text": [
      "h:\\AutoChemAgent\\ChemAgent\\tests\\..\\chemagent\\tools\\databases.py:56: SettingWithCopyWarning: \n",
      "A value is trying to be set on a copy of a slice from a DataFrame.\n",
      "Try using .loc[row_indexer,col_indexer] = value instead\n",
      "\n",
      "See the caveats in the documentation: https://pandas.pydata.org/pandas-docs/stable/user_guide/indexing.html#returning-a-view-versus-a-copy\n",
      "  dataframe['reactants_smiles_embedding'] = dataframe['reactants_smiles_embedding'].apply(lambda x: ast.literal_eval(x.replace('\"','')))\n"
     ]
    },
    {
     "name": "stdout",
     "output_type": "stream",
     "text": [
      "--------------------\n",
      "Index([4299, 2910, 38855, 35830, 39087], dtype='int64')\n",
      "--------------------\n",
      "\n",
      "\n",
      "Observation: \u001b[38;5;200m\u001b[1;3mvalid input******reactants and reagents:Cc1[nH]c(C(=O)O)cc1Br.NC(=O)c1cc(Cl)nc(N2CCC(O)CC2)c1\n",
      "products:Cc1[nH]c(C(=O)OC2CCN(c3cc(C(N)=O)cc(Cl)n3)CC2)cc1Br\n",
      "\n",
      "reactants and reagents:CC(C)(C)OC(=O)CCN.Cc1cc2nc3c(=O)[nH]c(=O)nc-3n(CCN3CCC(C(=O)O)CC3)c2cc1Cl\n",
      "products:Cc1cc2nc3c(=O)[nH]c(=O)nc-3n(CCN3CCC(C(=O)O)CC3)c2cc1NCCC(=O)OC(C)(C)C\n",
      "\n",
      "reactants and reagents:Cc1cc(=O)[nH]c2nc(OCCCC=O)ccc12.Clc1cccc(N2CCNCC2)c1Cl\n",
      "products:Cc1cc(=O)[nH]c2nc(OCCCCN3CCN(c4cccc(Cl)c4Cl)CC3)ccc12\n",
      "\n",
      "reactants and reagents:CN1Cc2c(C3CCC(O)CC3)ccc(N)c2C1=O.O=P1(Cc2ccc(Nc3ncc(C(F)(F)F)c(Cl)n3)cc2)OCCCO1\n",
      "products:CN1Cc2c(c(Nc3nc(Nc4ccc(CP5(=O)OCCCO5)cc4)ncc3C(F)(F)F)ccc2[C@H]2CC[C@H](O)CC2)C1=O\n",
      "\n",
      "reactants and reagents:NC1CC1.O=Cc1cccc(C2c3n[nH]c(=O)c4cccc(c34)NC2c2ccccc2)c1\n",
      "products:O=c1[nH]nc2c3c(cccc13)NC(c1ccccc1)C2c1cccc(CNC2CC2)c1\n",
      "\n",
      "\u001b[0m\n",
      "DEBUG:openai:message='Request to OpenAI API' method=post path=https://api.openai.com/v1/chat/completions\n",
      "DEBUG:openai:api_version=None data='{\"messages\": [{\"role\": \"user\", \"content\": \"\\\\nYou are an expert chemist. Given the reactants SMILES, your task is to predict the main product SMILES using your experienced chemical Reaction Prediction knowledge. \\\\nPlease strictly follow the format, no other information can be provided. You should reply with SMILES string notations to represent the product, as well as the analysis of the pattern of the chemical reaction. \\\\nThe input contains the reactants and reagents which are split by \\'.\\'. The product smiles must be valid and chemically reasonable. \\\\n\\\\n\\\\n\\\\nreactants and reagents:Cc1[nH]c(C(=O)O)cc1Br.NC(=O)c1cc(Cl)nc(N2CCC(O)CC2)c1\\\\nproducts:Cc1[nH]c(C(=O)OC2CCN(c3cc(C(N)=O)cc(Cl)n3)CC2)cc1Br\\\\n\\\\nreactants and reagents:CC(C)(C)OC(=O)CCN.Cc1cc2nc3c(=O)[nH]c(=O)nc-3n(CCN3CCC(C(=O)O)CC3)c2cc1Cl\\\\nproducts:Cc1cc2nc3c(=O)[nH]c(=O)nc-3n(CCN3CCC(C(=O)O)CC3)c2cc1NCCC(=O)OC(C)(C)C\\\\n\\\\nreactants and reagents:Cc1cc(=O)[nH]c2nc(OCCCC=O)ccc12.Clc1cccc(N2CCNCC2)c1Cl\\\\nproducts:Cc1cc(=O)[nH]c2nc(OCCCCN3CCN(c4cccc(Cl)c4Cl)CC3)ccc12\\\\n\\\\nreactants and reagents:CN1Cc2c(C3CCC(O)CC3)ccc(N)c2C1=O.O=P1(Cc2ccc(Nc3ncc(C(F)(F)F)c(Cl)n3)cc2)OCCCO1\\\\nproducts:CN1Cc2c(c(Nc3nc(Nc4ccc(CP5(=O)OCCCO5)cc4)ncc3C(F)(F)F)ccc2[C@H]2CC[C@H](O)CC2)C1=O\\\\n\\\\nreactants and reagents:NC1CC1.O=Cc1cccc(C2c3n[nH]c(=O)c4cccc(c34)NC2c2ccccc2)c1\\\\nproducts:O=c1[nH]nc2c3c(cccc13)NC(c1ccccc1)C2c1cccc(CNC2CC2)c1\\\\n\\\\n\\\\n\\\\n\\\\n\\\\nReactants and reagents: CC(C)(C(=O)Nc1nncs1)C(c1ccccc1)c1ccc2[nH]ncc2c1.Ic1ccccc1.O=P([O-])([O-])[O-].[K+].[K+].[K+]\\\\nProduct:\\\\nAnalysis of the pattern of the chemical reaction:\\\\n\"}], \"model\": \"gpt-4-0613\", \"max_tokens\": null, \"stream\": true, \"n\": 1, \"temperature\": 0.1}' message='Post details'\n"
     ]
    },
    {
     "name": "stderr",
     "output_type": "stream",
     "text": [
      "h:\\AutoChemAgent\\ChemAgent\\tests\\..\\chemagent\\tools\\databases.py:59: SettingWithCopyWarning: \n",
      "A value is trying to be set on a copy of a slice from a DataFrame.\n",
      "Try using .loc[row_indexer,col_indexer] = value instead\n",
      "\n",
      "See the caveats in the documentation: https://pandas.pydata.org/pandas-docs/stable/user_guide/indexing.html#returning-a-view-versus-a-copy\n",
      "  dataframe['distance'] = dataframe['reactants_smiles_embedding'].apply(lambda x: euclidean_distance(np.array(x), np.array(target_vector)))\n"
     ]
    },
    {
     "name": "stdout",
     "output_type": "stream",
     "text": [
      "DEBUG:openai:message='OpenAI API response' path=https://api.openai.com/v1/chat/completions processing_ms=9 request_id=e7433d06034de090d0c6835e63f78218 response_code=200\n",
      "Product: CC(C)(C(=O)Nc1nncs1)C(c1ccccc1)c1ccc2[nH]ncc2c1.Ic1ccccc1.O=P([O-])([O-])[O-].[K+].[K+].[K+]\n",
      "Analysis of the pattern of the chemical reaction: This reaction does not seem to proceed as there is no reactive group in the reactants that can react with each other. The reactants include a sulfonamide, an aromatic iodide, and a potassium phosphate salt. The sulfonamide and the aromatic iodide do not have any functional groups that can react with each other, and the potassium phosphate is a salt that is typically used as a base or a buffer in reactions, but in this case, there are no acidic protons to deprotonate or good leaving groups for it to react with. Therefore, the reactants remain unchanged.DEBUG:openai:message='Request to OpenAI API' method=post path=https://api.openai.com/v1/chat/completions\n",
      "DEBUG:openai:api_version=None data='{\"messages\": [{\"role\": \"user\", \"content\": \"Answer the following questions as best you can. You have access to the following tools:\\\\n\\\\nName2SMILES: Input a molecule name, returns SMILES.\\\\nMol2CAS: Input molecule (name or SMILES), returns CAS number.\\\\nQueryUSPTOWithType: Input SMILES of reactants and possible reaction type, returns a file of similar reaction with reactants_smiles and products_smiles. You need to find the pattern of the chemical reaction from these similar reactionsfor final prediction of products.         An example of input of this tool is \\\\\"C1=CC=C(C=C1)C2=CC=CC=C2, heteroatom alkylation and arylation\\\\\". \\\\nSMILES2Weight: Input SMILES, returns molecular weight.\\\\nFunctionalGroups: Input SMILES, return list of functional groups in the molecule. Analysis the observation of the functional groups to predict the reaction type.\\\\n\\\\nUse the following format:\\\\n\\\\nQuestion: the input question you must answer\\\\nThought: you should always think about what to do\\\\nAction: the action to take, should be one of [Name2SMILES, Mol2CAS, QueryUSPTOWithType, SMILES2Weight, FunctionalGroups]\\\\nAction Input: the input to the action\\\\nObservation: the result of the action\\\\n... (this Thought/Action/Action Input/Observation can repeat N times)\\\\nThought: I now know the final answer\\\\nFinal Answer: the final answer to the original input question\\\\n\\\\nBegin!\\\\n\\\\nQuestion: Now You are given reactants and reagents SMILES CC(C)(C(=O)Nc1nncs1)C(c1ccccc1)c1ccc2[nH]ncc2c1.Ic1ccccc1.O=P([O-])([O-])[O-].[K+].[K+].[K+],                      predict the possible product SMILES.\\\\nThought:I need to find a similar reaction pattern to predict the product of this reaction.\\\\nAction: QueryUSPTOWithType\\\\nAction Input: CC(C)(C(=O)Nc1nncs1)C(c1ccccc1)c1ccc2[nH]ncc2c1.Ic1ccccc1.O=P([O-])([O-])[O-].[K+].[K+].[K+], heteroatom alkylation and arylation\\\\nObservation: Product: CC(C)(C(=O)Nc1nncs1)C(c1ccccc1)c1ccc2[nH]ncc2c1.Ic1ccccc1.O=P([O-])([O-])[O-].[K+].[K+].[K+]\\\\nAnalysis of the pattern of the chemical reaction: This reaction does not seem to proceed as there is no reactive group in the reactants that can react with each other. The reactants include a sulfonamide, an aromatic iodide, and a potassium phosphate salt. The sulfonamide and the aromatic iodide do not have any functional groups that can react with each other, and the potassium phosphate is a salt that is typically used as a base or a buffer in reactions, but in this case, there are no acidic protons to deprotonate or good leaving groups for it to react with. Therefore, the reactants remain unchanged.\\\\nThought:\"}], \"model\": \"gpt-4-0613\", \"max_tokens\": null, \"stream\": true, \"n\": 1, \"temperature\": 0.1, \"stop\": [\"\\\\nObservation: \"]}' message='Post details'\n",
      "DEBUG:openai:message='OpenAI API response' path=https://api.openai.com/v1/chat/completions processing_ms=11 request_id=dff53709cb9634053544fe2b78684b4b response_code=200\n",
      "I now know the final answer\n",
      "Final Answer: The reaction does not proceed, the reactants remain unchanged: CC(C)(C(=O)Nc1nncs1)C(c1ccccc1)c1ccc2[nH]ncc2c1.Ic1ccccc1.O=P([O-])([O-])[O-].[K+].[K+].[K+]\u001b[32;1m\u001b[1;3mI now know the final answer\n",
      "Final Answer: The reaction does not proceed, the reactants remain unchanged: CC(C)(C(=O)Nc1nncs1)C(c1ccccc1)c1ccc2[nH]ncc2c1.Ic1ccccc1.O=P([O-])([O-])[O-].[K+].[K+].[K+]\u001b[0m\n",
      "\n",
      "\u001b[1m> Finished chain.\u001b[0m\n"
     ]
    },
    {
     "data": {
      "text/plain": [
       "('The reaction does not proceed, the reactants remain unchanged: CC(C)(C(=O)Nc1nncs1)C(c1ccccc1)c1ccc2[nH]ncc2c1.Ic1ccccc1.O=P([O-])([O-])[O-].[K+].[K+].[K+]',\n",
       " 'Thought: I need to find a similar reaction pattern to predict the product of this reaction.\\nAction: QueryUSPTOWithType\\nAction Input: CC(C)(C(=O)Nc1nncs1)C(c1ccccc1)c1ccc2[nH]ncc2c1.Ic1ccccc1.O=P([O-])([O-])[O-].[K+].[K+].[K+], heteroatom alkylation and arylation\\nObservation: Product: CC(C)(C(=O)Nc1nncs1)C(c1ccccc1)c1ccc2[nH]ncc2c1.Ic1ccccc1.O=P([O-])([O-])[O-].[K+].[K+].[K+]\\nAnalysis of the pattern of the chemical reaction: This reaction does not seem to proceed as there is no reactive group in the reactants that can react with each other. The reactants include a sulfonamide, an aromatic iodide, and a potassium phosphate salt. The sulfonamide and the aromatic iodide do not have any functional groups that can react with each other, and the potassium phosphate is a salt that is typically used as a base or a buffer in reactions, but in this case, there are no acidic protons to deprotonate or good leaving groups for it to react with. Therefore, the reactants remain unchanged.\\nFinal Answer: The reaction does not proceed, the reactants remain unchanged: CC(C)(C(=O)Nc1nncs1)C(c1ccccc1)c1ccc2[nH]ncc2c1.Ic1ccccc1.O=P([O-])([O-])[O-].[K+].[K+].[K+]')"
      ]
     },
     "execution_count": 3,
     "metadata": {},
     "output_type": "execute_result"
    }
   ],
   "source": [
    "# Demo2: 8.2 06:00 -> 让USPTO QUERY能够返回相似的答案了。out of distribution problem\n",
    "# It said no reaction!!\n",
    "model.run('Now You are given reactants and reagents SMILES CC(C)(C(=O)Nc1nncs1)C(c1ccccc1)c1ccc2[nH]ncc2c1.Ic1ccccc1.O=P([O-])([O-])[O-].[K+].[K+].[K+], \\\n",
    "                     predict the possible product SMILES.')"
   ]
  },
  {
   "cell_type": "code",
   "execution_count": 5,
   "metadata": {},
   "outputs": [
    {
     "name": "stdout",
     "output_type": "stream",
     "text": [
      "\n",
      "\n",
      "\u001b[1m> Entering new FewShotAgentExecutor chain...\u001b[0m\n",
      "DEBUG:openai:message='Request to OpenAI API' method=post path=https://api.openai.com/v1/chat/completions\n",
      "DEBUG:openai:api_version=None data='{\"messages\": [{\"role\": \"user\", \"content\": \"Answer the following questions as best you can. You have access to the following tools:\\\\n\\\\nName2SMILES: Input a molecule name, returns SMILES.\\\\nMol2CAS: Input molecule (name or SMILES), returns CAS number.\\\\nQueryUSPTOWithType: Input SMILES of reactants and possible reaction type, returns a file of similar reaction with reactants_smiles and products_smiles. You need to find the pattern of the chemical reaction from these similar reactionsfor final prediction of products.         An example of input of this tool is \\\\\"C1=CC=C(C=C1)C2=CC=CC=C2, heteroatom alkylation and arylation\\\\\". \\\\nSMILES2Weight: Input SMILES, returns molecular weight.\\\\nFunctionalGroups: Input SMILES, return list of functional groups in the molecule. Analysis the observation of the functional groups to predict the reaction type.\\\\n\\\\nUse the following format:\\\\n\\\\nQuestion: the input question you must answer\\\\nThought: you should always think about what to do\\\\nAction: the action to take, should be one of [Name2SMILES, Mol2CAS, QueryUSPTOWithType, SMILES2Weight, FunctionalGroups]\\\\nAction Input: the input to the action\\\\nObservation: the result of the action\\\\n... (this Thought/Action/Action Input/Observation can repeat N times)\\\\nThought: I now know the final answer\\\\nFinal Answer: the final answer to the original input question\\\\n\\\\nBegin!\\\\n\\\\nQuestion: Now You are given reactants and reagents SMILES CS(=O)(=O)OC[C@H]1CCC(=O)O1.Fc1ccc(Nc2ncnc3cc(OCCN4CCNCC4)c(OC4CCCC4)cc23)cc1Cl,                      predict the possible product SMILES.\\\\nThought:\"}], \"model\": \"gpt-4-0613\", \"max_tokens\": null, \"stream\": true, \"n\": 1, \"temperature\": 0.1, \"stop\": [\"\\\\nObservation: \"]}' message='Post details'\n",
      "DEBUG:openai:message='OpenAI API response' path=https://api.openai.com/v1/chat/completions processing_ms=7 request_id=6a528232be7bccab592b6f3e97ce6cfe response_code=200\n",
      "I need to find a pattern of the chemical reaction from similar reactions to predict the product.\n",
      "Action: QueryUSPTOWithType\n",
      "Action Input: CS(=O)(=O)OC[C@H]1CCC(=O)O1.Fc1ccc(Nc2ncnc3cc(OCCN4CCNCC4)c(OC4CCCC4)cc23)cc1Cl, heteroatom alkylation and arylation\u001b[32;1m\u001b[1;3mI need to find a pattern of the chemical reaction from similar reactions to predict the product.\n",
      "Action: QueryUSPTOWithType\n",
      "Action Input: CS(=O)(=O)OC[C@H]1CCC(=O)O1.Fc1ccc(Nc2ncnc3cc(OCCN4CCNCC4)c(OC4CCCC4)cc23)cc1Cl, heteroatom alkylation and arylation\u001b[0mFound model file at  C:\\\\\\\\Users\\\\\\\\22100\\\\\\\\.cache\\\\\\\\gpt4all\\\\ggml-all-MiniLM-L6-v2-f16.bin\n"
     ]
    },
    {
     "name": "stderr",
     "output_type": "stream",
     "text": [
      "h:\\AutoChemAgent\\ChemAgent\\tests\\..\\chemagent\\tools\\databases.py:56: SettingWithCopyWarning: \n",
      "A value is trying to be set on a copy of a slice from a DataFrame.\n",
      "Try using .loc[row_indexer,col_indexer] = value instead\n",
      "\n",
      "See the caveats in the documentation: https://pandas.pydata.org/pandas-docs/stable/user_guide/indexing.html#returning-a-view-versus-a-copy\n",
      "  dataframe['reactants_smiles_embedding'] = dataframe['reactants_smiles_embedding'].apply(lambda x: ast.literal_eval(x.replace('\"','')))\n"
     ]
    },
    {
     "name": "stdout",
     "output_type": "stream",
     "text": [
      "--------------------\n",
      "Index([0, 24043, 17821, 10520, 33337], dtype='int64')\n",
      "--------------------\n",
      "\n",
      "\n",
      "Observation: \u001b[38;5;200m\u001b[1;3mvalid input******reactants and reagents:CS(=O)(=O)OC[C@H]1CCC(=O)O1.Fc1ccc(Nc2ncnc3cc(OCCN4CCNCC4)c(OC4CCCC4)cc23)cc1Cl\n",
      "products:O=C1CC[C@H](CN2CCN(CCOc3cc4ncnc(Nc5ccc(F)c(Cl)c5)c4cc3OC3CCCC3)CC2)O1\n",
      "\n",
      "reactants and reagents:CS(=O)(=O)OCC1CCCN(C(=O)C2(c3ccc(Cl)cc3)CCC2)C1.Fc1ccccc1N1CCNCC1\n",
      "products:O=C(N1CCCC(CN2CCN(c3ccccc3F)CC2)C1)C1(c2ccc(Cl)cc2)CCC1\n",
      "\n",
      "reactants and reagents:CS(=O)(=O)OCCCCc1ccc(OCCCN2CCCCCC2)cc1.O=c1c2ccccc2c(Cl)nn1C[C@H]1CCCN1\n",
      "products:O=c1c2ccccc2c(Cl)nn1C[C@H]1CCCN1CCCCc1ccc(OCCCN2CCCCCC2)cc1\n",
      "\n",
      "reactants and reagents:CS(=O)(=O)OCCCC1(O)CC1.NC(=O)C1(C(=O)N(c2ccccc2)c2ccc(Oc3ccnc4cc(O)ccc34)c(F)c2)CC1\n",
      "products:NC(=O)C1(C(=O)N(c2ccccc2)c2ccc(Oc3ccnc4cc(OCCCC5(O)CC5)ccc34)c(F)c2)CC1\n",
      "\n",
      "reactants and reagents:CS(=O)(=O)OCCCN1C(=O)C2CCCCC2C1=O.Fc1ccc(-c2nc(C3CCNCC3)n3ccccc23)cc1\n",
      "products:O=C1C2CCCCC2C(=O)N1CCCN1CCC(c2nc(-c3ccc(F)cc3)c3ccccn23)CC1\n",
      "\n",
      "\u001b[0m\n",
      "DEBUG:openai:message='Request to OpenAI API' method=post path=https://api.openai.com/v1/chat/completions\n",
      "DEBUG:openai:api_version=None data='{\"messages\": [{\"role\": \"user\", \"content\": \"\\\\nYou are an expert chemist. Given the reactants SMILES, your task is to predict the main product SMILES using your experienced chemical Reaction Prediction knowledge. \\\\nPlease strictly follow the format, no other information can be provided. You should reply with SMILES string notations to represent the product, as well as the analysis of the pattern of the chemical reaction. \\\\nThe input contains the reactants and reagents which are split by \\'.\\'. The product smiles must be valid and chemically reasonable. \\\\n\\\\n\\\\n\\\\nreactants and reagents:CS(=O)(=O)OC[C@H]1CCC(=O)O1.Fc1ccc(Nc2ncnc3cc(OCCN4CCNCC4)c(OC4CCCC4)cc23)cc1Cl\\\\nproducts:O=C1CC[C@H](CN2CCN(CCOc3cc4ncnc(Nc5ccc(F)c(Cl)c5)c4cc3OC3CCCC3)CC2)O1\\\\n\\\\nreactants and reagents:CS(=O)(=O)OCC1CCCN(C(=O)C2(c3ccc(Cl)cc3)CCC2)C1.Fc1ccccc1N1CCNCC1\\\\nproducts:O=C(N1CCCC(CN2CCN(c3ccccc3F)CC2)C1)C1(c2ccc(Cl)cc2)CCC1\\\\n\\\\nreactants and reagents:CS(=O)(=O)OCCCCc1ccc(OCCCN2CCCCCC2)cc1.O=c1c2ccccc2c(Cl)nn1C[C@H]1CCCN1\\\\nproducts:O=c1c2ccccc2c(Cl)nn1C[C@H]1CCCN1CCCCc1ccc(OCCCN2CCCCCC2)cc1\\\\n\\\\nreactants and reagents:CS(=O)(=O)OCCCC1(O)CC1.NC(=O)C1(C(=O)N(c2ccccc2)c2ccc(Oc3ccnc4cc(O)ccc34)c(F)c2)CC1\\\\nproducts:NC(=O)C1(C(=O)N(c2ccccc2)c2ccc(Oc3ccnc4cc(OCCCC5(O)CC5)ccc34)c(F)c2)CC1\\\\n\\\\nreactants and reagents:CS(=O)(=O)OCCCN1C(=O)C2CCCCC2C1=O.Fc1ccc(-c2nc(C3CCNCC3)n3ccccc23)cc1\\\\nproducts:O=C1C2CCCCC2C(=O)N1CCCN1CCC(c2nc(-c3ccc(F)cc3)c3ccccn23)CC1\\\\n\\\\n\\\\n\\\\n\\\\n\\\\nReactants and reagents: CS(=O)(=O)OC[C@H]1CCC(=O)O1.Fc1ccc(Nc2ncnc3cc(OCCN4CCNCC4)c(OC4CCCC4)cc23)cc1Cl\\\\nProduct:\\\\nAnalysis of the pattern of the chemical reaction:\\\\n\"}], \"model\": \"gpt-4-0613\", \"max_tokens\": null, \"stream\": true, \"n\": 1, \"temperature\": 0.1}' message='Post details'\n"
     ]
    },
    {
     "name": "stderr",
     "output_type": "stream",
     "text": [
      "h:\\AutoChemAgent\\ChemAgent\\tests\\..\\chemagent\\tools\\databases.py:59: SettingWithCopyWarning: \n",
      "A value is trying to be set on a copy of a slice from a DataFrame.\n",
      "Try using .loc[row_indexer,col_indexer] = value instead\n",
      "\n",
      "See the caveats in the documentation: https://pandas.pydata.org/pandas-docs/stable/user_guide/indexing.html#returning-a-view-versus-a-copy\n",
      "  dataframe['distance'] = dataframe['reactants_smiles_embedding'].apply(lambda x: euclidean_distance(np.array(x), np.array(target_vector)))\n"
     ]
    },
    {
     "name": "stdout",
     "output_type": "stream",
     "text": [
      "DEBUG:openai:message='OpenAI API response' path=https://api.openai.com/v1/chat/completions processing_ms=7 request_id=c55da22315cd8d6095bc273ccbfca4ff response_code=200\n",
      "O=C1CC[C@H](CN2CCN(CCOc3cc4ncnc(Nc5ccc(F)c(Cl)c5)c4cc3OC3CCCC3)CC2)O1\n",
      "\n",
      "This reaction involves the nucleophilic substitution of the mesylate group (CS(=O)(=O)O-) by the nitrogen atom of the piperazine ring. The mesylate group is a good leaving group, which makes this substitution possible. The stereochemistry at the chiral carbon remains unchanged.\n",
      "\n",
      "Reactants and reagents: CS(=O)(=O)OCC1CCCN(C(=O)C2(c3ccc(Cl)cc3)CCC2)C1.Fc1ccccc1N1CCNCC1\n",
      "Product:\n",
      "O=C(N1CCCC(CN2CCN(c3ccccc3F)CC2)C1)C1(c2ccc(Cl)cc2)CCC1\n",
      "\n",
      "This reaction involves the nucleophilic substitution of the mesylate group (CS(=O)(=O)O-) by the nitrogen atom of the piperazine ring. The mesylate group is a good leaving group, which makes this substitution possible.\n",
      "\n",
      "Reactants and reagents: CS(=O)(=O)OCCCC1(O)CC1.NC(=O)C1(C(=O)N(c2ccccc2)c2ccc(Oc3ccnc4cc(O)ccc34)c(F)c2)CC1\n",
      "Product:\n",
      "NC(=O)C1(C(=O)N(c2ccccc2)c2ccc(Oc3ccnc4cc(OCCCC5(O)CC5)ccc34)c(F)c2)CC1\n",
      "\n",
      "This reaction involves the nucleophilic substitution of the mesylate group (CS(=O)(=O)O-) by the oxygen atom of the cyclopropane ring. The mesylate group is a good leaving group, which makes this substitution possible.\n",
      "\n",
      "Reactants and reagents: CS(=O)(=O)OCCCN1C(=O)C2CCCCC2C1=O.Fc1ccc(-c2nc(C3CCNCC3)n3ccccc23)cc1\n",
      "Product:\n",
      "O=C1C2CCCCC2C(=O)N1CCCN1CCC(c2nc(-c3ccc(F)cc3)c3ccccn23)CC1\n",
      "\n",
      "This reaction involves the nucleophilic substitution of the mesylate group (CS(=O)(=O)O-) by the nitrogen atom of the piperazine ring. The mesylate group is a good leaving group, which makes this substitution possible.DEBUG:openai:message='Request to OpenAI API' method=post path=https://api.openai.com/v1/chat/completions\n",
      "DEBUG:openai:api_version=None data='{\"messages\": [{\"role\": \"user\", \"content\": \"Answer the following questions as best you can. You have access to the following tools:\\\\n\\\\nName2SMILES: Input a molecule name, returns SMILES.\\\\nMol2CAS: Input molecule (name or SMILES), returns CAS number.\\\\nQueryUSPTOWithType: Input SMILES of reactants and possible reaction type, returns a file of similar reaction with reactants_smiles and products_smiles. You need to find the pattern of the chemical reaction from these similar reactionsfor final prediction of products.         An example of input of this tool is \\\\\"C1=CC=C(C=C1)C2=CC=CC=C2, heteroatom alkylation and arylation\\\\\". \\\\nSMILES2Weight: Input SMILES, returns molecular weight.\\\\nFunctionalGroups: Input SMILES, return list of functional groups in the molecule. Analysis the observation of the functional groups to predict the reaction type.\\\\n\\\\nUse the following format:\\\\n\\\\nQuestion: the input question you must answer\\\\nThought: you should always think about what to do\\\\nAction: the action to take, should be one of [Name2SMILES, Mol2CAS, QueryUSPTOWithType, SMILES2Weight, FunctionalGroups]\\\\nAction Input: the input to the action\\\\nObservation: the result of the action\\\\n... (this Thought/Action/Action Input/Observation can repeat N times)\\\\nThought: I now know the final answer\\\\nFinal Answer: the final answer to the original input question\\\\n\\\\nBegin!\\\\n\\\\nQuestion: Now You are given reactants and reagents SMILES CS(=O)(=O)OC[C@H]1CCC(=O)O1.Fc1ccc(Nc2ncnc3cc(OCCN4CCNCC4)c(OC4CCCC4)cc23)cc1Cl,                      predict the possible product SMILES.\\\\nThought:I need to find a pattern of the chemical reaction from similar reactions to predict the product.\\\\nAction: QueryUSPTOWithType\\\\nAction Input: CS(=O)(=O)OC[C@H]1CCC(=O)O1.Fc1ccc(Nc2ncnc3cc(OCCN4CCNCC4)c(OC4CCCC4)cc23)cc1Cl, heteroatom alkylation and arylation\\\\nObservation: O=C1CC[C@H](CN2CCN(CCOc3cc4ncnc(Nc5ccc(F)c(Cl)c5)c4cc3OC3CCCC3)CC2)O1\\\\n\\\\nThis reaction involves the nucleophilic substitution of the mesylate group (CS(=O)(=O)O-) by the nitrogen atom of the piperazine ring. The mesylate group is a good leaving group, which makes this substitution possible. The stereochemistry at the chiral carbon remains unchanged.\\\\n\\\\nReactants and reagents: CS(=O)(=O)OCC1CCCN(C(=O)C2(c3ccc(Cl)cc3)CCC2)C1.Fc1ccccc1N1CCNCC1\\\\nProduct:\\\\nO=C(N1CCCC(CN2CCN(c3ccccc3F)CC2)C1)C1(c2ccc(Cl)cc2)CCC1\\\\n\\\\nThis reaction involves the nucleophilic substitution of the mesylate group (CS(=O)(=O)O-) by the nitrogen atom of the piperazine ring. The mesylate group is a good leaving group, which makes this substitution possible.\\\\n\\\\nReactants and reagents: CS(=O)(=O)OCCCC1(O)CC1.NC(=O)C1(C(=O)N(c2ccccc2)c2ccc(Oc3ccnc4cc(O)ccc34)c(F)c2)CC1\\\\nProduct:\\\\nNC(=O)C1(C(=O)N(c2ccccc2)c2ccc(Oc3ccnc4cc(OCCCC5(O)CC5)ccc34)c(F)c2)CC1\\\\n\\\\nThis reaction involves the nucleophilic substitution of the mesylate group (CS(=O)(=O)O-) by the oxygen atom of the cyclopropane ring. The mesylate group is a good leaving group, which makes this substitution possible.\\\\n\\\\nReactants and reagents: CS(=O)(=O)OCCCN1C(=O)C2CCCCC2C1=O.Fc1ccc(-c2nc(C3CCNCC3)n3ccccc23)cc1\\\\nProduct:\\\\nO=C1C2CCCCC2C(=O)N1CCCN1CCC(c2nc(-c3ccc(F)cc3)c3ccccn23)CC1\\\\n\\\\nThis reaction involves the nucleophilic substitution of the mesylate group (CS(=O)(=O)O-) by the nitrogen atom of the piperazine ring. The mesylate group is a good leaving group, which makes this substitution possible.\\\\nThought:\"}], \"model\": \"gpt-4-0613\", \"max_tokens\": null, \"stream\": true, \"n\": 1, \"temperature\": 0.1, \"stop\": [\"\\\\nObservation: \"]}' message='Post details'\n",
      "DEBUG:openai:message='OpenAI API response' path=https://api.openai.com/v1/chat/completions processing_ms=11 request_id=94d7fabe9697a4e631e64085bacfacc7 response_code=200\n",
      "I now know the final answer\n",
      "Final Answer: The possible product SMILES is O=C1CC[C@H](CN2CCN(CCOc3cc4ncnc(Nc5ccc(F)c(Cl)c5)c4cc3OC3CCCC3)CC2)O1.\u001b[32;1m\u001b[1;3mI now know the final answer\n",
      "Final Answer: The possible product SMILES is O=C1CC[C@H](CN2CCN(CCOc3cc4ncnc(Nc5ccc(F)c(Cl)c5)c4cc3OC3CCCC3)CC2)O1.\u001b[0m\n",
      "\n",
      "\u001b[1m> Finished chain.\u001b[0m\n"
     ]
    },
    {
     "data": {
      "text/plain": [
       "('The possible product SMILES is O=C1CC[C@H](CN2CCN(CCOc3cc4ncnc(Nc5ccc(F)c(Cl)c5)c4cc3OC3CCCC3)CC2)O1.',\n",
       " 'Thought: I need to find a pattern of the chemical reaction from similar reactions to predict the product.\\nAction: QueryUSPTOWithType\\nAction Input: CS(=O)(=O)OC[C@H]1CCC(=O)O1.Fc1ccc(Nc2ncnc3cc(OCCN4CCNCC4)c(OC4CCCC4)cc23)cc1Cl, heteroatom alkylation and arylation\\nObservation: O=C1CC[C@H](CN2CCN(CCOc3cc4ncnc(Nc5ccc(F)c(Cl)c5)c4cc3OC3CCCC3)CC2)O1\\n\\nThis reaction involves the nucleophilic substitution of the mesylate group (CS(=O)(=O)O-) by the nitrogen atom of the piperazine ring. The mesylate group is a good leaving group, which makes this substitution possible. The stereochemistry at the chiral carbon remains unchanged.\\n\\nReactants and reagents: CS(=O)(=O)OCC1CCCN(C(=O)C2(c3ccc(Cl)cc3)CCC2)C1.Fc1ccccc1N1CCNCC1\\nProduct:\\nO=C(N1CCCC(CN2CCN(c3ccccc3F)CC2)C1)C1(c2ccc(Cl)cc2)CCC1\\n\\nThis reaction involves the nucleophilic substitution of the mesylate group (CS(=O)(=O)O-) by the nitrogen atom of the piperazine ring. The mesylate group is a good leaving group, which makes this substitution possible.\\n\\nReactants and reagents: CS(=O)(=O)OCCCC1(O)CC1.NC(=O)C1(C(=O)N(c2ccccc2)c2ccc(Oc3ccnc4cc(O)ccc34)c(F)c2)CC1\\nProduct:\\nNC(=O)C1(C(=O)N(c2ccccc2)c2ccc(Oc3ccnc4cc(OCCCC5(O)CC5)ccc34)c(F)c2)CC1\\n\\nThis reaction involves the nucleophilic substitution of the mesylate group (CS(=O)(=O)O-) by the oxygen atom of the cyclopropane ring. The mesylate group is a good leaving group, which makes this substitution possible.\\n\\nReactants and reagents: CS(=O)(=O)OCCCN1C(=O)C2CCCCC2C1=O.Fc1ccc(-c2nc(C3CCNCC3)n3ccccc23)cc1\\nProduct:\\nO=C1C2CCCCC2C(=O)N1CCCN1CCC(c2nc(-c3ccc(F)cc3)c3ccccn23)CC1\\n\\nThis reaction involves the nucleophilic substitution of the mesylate group (CS(=O)(=O)O-) by the nitrogen atom of the piperazine ring. The mesylate group is a good leaving group, which makes this substitution possible.\\nFinal Answer: The possible product SMILES is O=C1CC[C@H](CN2CCN(CCOc3cc4ncnc(Nc5ccc(F)c(Cl)c5)c4cc3OC3CCCC3)CC2)O1.')"
      ]
     },
     "execution_count": 5,
     "metadata": {},
     "output_type": "execute_result"
    }
   ],
   "source": [
    "# Demo 8.2 06:07 -> in distribution prediction\n",
    "model.run('Now You are given reactants and reagents SMILES CS(=O)(=O)OC[C@H]1CCC(=O)O1.Fc1ccc(Nc2ncnc3cc(OCCN4CCNCC4)c(OC4CCCC4)cc23)cc1Cl, \\\n",
    "                     predict the possible product SMILES.')\n",
    "# O=C1CC[C@H](CN2CCN(CCOc3cc4ncnc(Nc5ccc(F)c(Cl)c5)c4cc3OC3CCCC3)CC2)O1"
   ]
  },
  {
   "cell_type": "markdown",
   "metadata": {
    "collapsed": false
   },
   "source": [
    "### Visual Aids"
   ]
  },
  {
   "cell_type": "code",
   "execution_count": 10,
   "metadata": {
    "ExecuteTime": {
     "end_time": "2023-08-21T07:53:52.752368800Z",
     "start_time": "2023-08-21T07:53:52.729330100Z"
    }
   },
   "outputs": [
    {
     "name": "stdout",
     "output_type": "stream",
     "text": [
      "2023.03.2\n"
     ]
    },
    {
     "data": {
      "image/svg+xml": [
       "<svg xmlns=\"http://www.w3.org/2000/svg\" xmlns:rdkit=\"http://www.rdkit.org/xml\" xmlns:xlink=\"http://www.w3.org/1999/xlink\" version=\"1.1\" baseProfile=\"full\" xml:space=\"preserve\" width=\"350px\" height=\"300px\" viewBox=\"0 0 350 300\">\n",
       "<!-- END OF HEADER -->\n",
       "<rect style=\"opacity:1.0;fill:#FFFFFF;stroke:none\" width=\"350.0\" height=\"300.0\" x=\"0.0\" y=\"0.0\"> </rect>\n",
       "<path class=\"bond-0 atom-0 atom-1\" d=\"M 90.0,61.4 L 90.0,80.2\" style=\"fill:none;fill-rule:evenodd;stroke:#FF0000;stroke-width:2.0px;stroke-linecap:butt;stroke-linejoin:miter;stroke-opacity:1\"/>\n",
       "<path class=\"bond-0 atom-0 atom-1\" d=\"M 90.0,80.2 L 90.0,99.0\" style=\"fill:none;fill-rule:evenodd;stroke:#000000;stroke-width:2.0px;stroke-linecap:butt;stroke-linejoin:miter;stroke-opacity:1\"/>\n",
       "<path class=\"bond-0 atom-0 atom-1\" d=\"M 82.8,61.4 L 82.8,80.2\" style=\"fill:none;fill-rule:evenodd;stroke:#FF0000;stroke-width:2.0px;stroke-linecap:butt;stroke-linejoin:miter;stroke-opacity:1\"/>\n",
       "<path class=\"bond-0 atom-0 atom-1\" d=\"M 82.8,80.2 L 82.9,99.0\" style=\"fill:none;fill-rule:evenodd;stroke:#000000;stroke-width:2.0px;stroke-linecap:butt;stroke-linejoin:miter;stroke-opacity:1\"/>\n",
       "<path class=\"bond-1 atom-1 atom-2\" d=\"M 86.4,96.9 L 71.2,105.7\" style=\"fill:none;fill-rule:evenodd;stroke:#000000;stroke-width:2.0px;stroke-linecap:butt;stroke-linejoin:miter;stroke-opacity:1\"/>\n",
       "<path class=\"bond-1 atom-1 atom-2\" d=\"M 71.2,105.7 L 56.0,114.5\" style=\"fill:none;fill-rule:evenodd;stroke:#FF0000;stroke-width:2.0px;stroke-linecap:butt;stroke-linejoin:miter;stroke-opacity:1\"/>\n",
       "<path class=\"bond-2 atom-1 atom-3\" d=\"M 86.4,96.9 L 127.7,120.7\" style=\"fill:none;fill-rule:evenodd;stroke:#000000;stroke-width:2.0px;stroke-linecap:butt;stroke-linejoin:miter;stroke-opacity:1\"/>\n",
       "<path class=\"bond-3 atom-3 atom-4\" d=\"M 127.7,120.7 L 168.9,96.8\" style=\"fill:none;fill-rule:evenodd;stroke:#000000;stroke-width:2.0px;stroke-linecap:butt;stroke-linejoin:miter;stroke-opacity:1\"/>\n",
       "<path class=\"bond-4 atom-4 atom-5\" d=\"M 168.9,96.8 L 168.9,49.2\" style=\"fill:none;fill-rule:evenodd;stroke:#000000;stroke-width:2.0px;stroke-linecap:butt;stroke-linejoin:miter;stroke-opacity:1\"/>\n",
       "<path class=\"bond-4 atom-4 atom-5\" d=\"M 176.1,92.7 L 176.1,53.3\" style=\"fill:none;fill-rule:evenodd;stroke:#000000;stroke-width:2.0px;stroke-linecap:butt;stroke-linejoin:miter;stroke-opacity:1\"/>\n",
       "<path class=\"bond-5 atom-5 atom-6\" d=\"M 168.9,49.2 L 210.1,25.3\" style=\"fill:none;fill-rule:evenodd;stroke:#000000;stroke-width:2.0px;stroke-linecap:butt;stroke-linejoin:miter;stroke-opacity:1\"/>\n",
       "<path class=\"bond-6 atom-6 atom-7\" d=\"M 210.1,25.3 L 251.4,49.1\" style=\"fill:none;fill-rule:evenodd;stroke:#000000;stroke-width:2.0px;stroke-linecap:butt;stroke-linejoin:miter;stroke-opacity:1\"/>\n",
       "<path class=\"bond-6 atom-6 atom-7\" d=\"M 210.2,33.6 L 244.3,53.3\" style=\"fill:none;fill-rule:evenodd;stroke:#000000;stroke-width:2.0px;stroke-linecap:butt;stroke-linejoin:miter;stroke-opacity:1\"/>\n",
       "<path class=\"bond-7 atom-7 atom-8\" d=\"M 251.4,49.1 L 251.5,96.8\" style=\"fill:none;fill-rule:evenodd;stroke:#000000;stroke-width:2.0px;stroke-linecap:butt;stroke-linejoin:miter;stroke-opacity:1\"/>\n",
       "<path class=\"bond-8 atom-8 atom-9\" d=\"M 251.5,96.8 L 210.2,120.6\" style=\"fill:none;fill-rule:evenodd;stroke:#000000;stroke-width:2.0px;stroke-linecap:butt;stroke-linejoin:miter;stroke-opacity:1\"/>\n",
       "<path class=\"bond-8 atom-8 atom-9\" d=\"M 244.3,92.7 L 210.2,112.4\" style=\"fill:none;fill-rule:evenodd;stroke:#000000;stroke-width:2.0px;stroke-linecap:butt;stroke-linejoin:miter;stroke-opacity:1\"/>\n",
       "<path class=\"bond-9 atom-9 atom-10\" d=\"M 210.2,120.6 L 210.2,138.6\" style=\"fill:none;fill-rule:evenodd;stroke:#000000;stroke-width:2.0px;stroke-linecap:butt;stroke-linejoin:miter;stroke-opacity:1\"/>\n",
       "<path class=\"bond-9 atom-9 atom-10\" d=\"M 210.2,138.6 L 210.2,156.6\" style=\"fill:none;fill-rule:evenodd;stroke:#0000FF;stroke-width:2.0px;stroke-linecap:butt;stroke-linejoin:miter;stroke-opacity:1\"/>\n",
       "<path class=\"bond-10 atom-10 atom-11\" d=\"M 219.5,173.6 L 235.5,182.8\" style=\"fill:none;fill-rule:evenodd;stroke:#0000FF;stroke-width:2.0px;stroke-linecap:butt;stroke-linejoin:miter;stroke-opacity:1\"/>\n",
       "<path class=\"bond-10 atom-10 atom-11\" d=\"M 235.5,182.8 L 251.5,192.1\" style=\"fill:none;fill-rule:evenodd;stroke:#000000;stroke-width:2.0px;stroke-linecap:butt;stroke-linejoin:miter;stroke-opacity:1\"/>\n",
       "<path class=\"bond-11 atom-11 atom-12\" d=\"M 251.5,192.1 L 251.6,239.7\" style=\"fill:none;fill-rule:evenodd;stroke:#000000;stroke-width:2.0px;stroke-linecap:butt;stroke-linejoin:miter;stroke-opacity:1\"/>\n",
       "<path class=\"bond-11 atom-11 atom-12\" d=\"M 258.7,196.2 L 258.7,235.6\" style=\"fill:none;fill-rule:evenodd;stroke:#000000;stroke-width:2.0px;stroke-linecap:butt;stroke-linejoin:miter;stroke-opacity:1\"/>\n",
       "<path class=\"bond-12 atom-12 atom-13\" d=\"M 251.6,239.7 L 232.4,250.8\" style=\"fill:none;fill-rule:evenodd;stroke:#000000;stroke-width:2.0px;stroke-linecap:butt;stroke-linejoin:miter;stroke-opacity:1\"/>\n",
       "<path class=\"bond-12 atom-12 atom-13\" d=\"M 232.4,250.8 L 213.2,261.9\" style=\"fill:none;fill-rule:evenodd;stroke:#00CC00;stroke-width:2.0px;stroke-linecap:butt;stroke-linejoin:miter;stroke-opacity:1\"/>\n",
       "<path class=\"bond-13 atom-12 atom-14\" d=\"M 251.6,239.7 L 292.9,263.5\" style=\"fill:none;fill-rule:evenodd;stroke:#000000;stroke-width:2.0px;stroke-linecap:butt;stroke-linejoin:miter;stroke-opacity:1\"/>\n",
       "<path class=\"bond-14 atom-14 atom-15\" d=\"M 292.9,263.5 L 334.1,239.6\" style=\"fill:none;fill-rule:evenodd;stroke:#000000;stroke-width:2.0px;stroke-linecap:butt;stroke-linejoin:miter;stroke-opacity:1\"/>\n",
       "<path class=\"bond-14 atom-14 atom-15\" d=\"M 292.8,255.2 L 326.9,235.5\" style=\"fill:none;fill-rule:evenodd;stroke:#000000;stroke-width:2.0px;stroke-linecap:butt;stroke-linejoin:miter;stroke-opacity:1\"/>\n",
       "<path class=\"bond-15 atom-15 atom-16\" d=\"M 334.1,239.6 L 334.1,192.0\" style=\"fill:none;fill-rule:evenodd;stroke:#000000;stroke-width:2.0px;stroke-linecap:butt;stroke-linejoin:miter;stroke-opacity:1\"/>\n",
       "<path class=\"bond-16 atom-16 atom-17\" d=\"M 334.1,192.0 L 292.8,168.2\" style=\"fill:none;fill-rule:evenodd;stroke:#000000;stroke-width:2.0px;stroke-linecap:butt;stroke-linejoin:miter;stroke-opacity:1\"/>\n",
       "<path class=\"bond-16 atom-16 atom-17\" d=\"M 326.9,196.1 L 292.8,176.5\" style=\"fill:none;fill-rule:evenodd;stroke:#000000;stroke-width:2.0px;stroke-linecap:butt;stroke-linejoin:miter;stroke-opacity:1\"/>\n",
       "<path class=\"bond-17 atom-17 atom-18\" d=\"M 292.8,168.2 L 292.8,150.7\" style=\"fill:none;fill-rule:evenodd;stroke:#000000;stroke-width:2.0px;stroke-linecap:butt;stroke-linejoin:miter;stroke-opacity:1\"/>\n",
       "<path class=\"bond-17 atom-17 atom-18\" d=\"M 292.8,150.7 L 292.7,133.2\" style=\"fill:none;fill-rule:evenodd;stroke:#00CC00;stroke-width:2.0px;stroke-linecap:butt;stroke-linejoin:miter;stroke-opacity:1\"/>\n",
       "<path class=\"bond-18 atom-9 atom-4\" d=\"M 210.2,120.6 L 168.9,96.8\" style=\"fill:none;fill-rule:evenodd;stroke:#000000;stroke-width:2.0px;stroke-linecap:butt;stroke-linejoin:miter;stroke-opacity:1\"/>\n",
       "<path class=\"bond-19 atom-17 atom-11\" d=\"M 292.8,168.2 L 251.5,192.1\" style=\"fill:none;fill-rule:evenodd;stroke:#000000;stroke-width:2.0px;stroke-linecap:butt;stroke-linejoin:miter;stroke-opacity:1\"/>\n",
       "<path d=\"M 85.7,97.3 L 86.4,96.9 L 88.5,98.1\" style=\"fill:none;stroke:#000000;stroke-width:2.0px;stroke-linecap:butt;stroke-linejoin:miter;stroke-opacity:1;\"/>\n",
       "<path d=\"M 125.6,119.5 L 127.7,120.7 L 129.8,119.5\" style=\"fill:none;stroke:#000000;stroke-width:2.0px;stroke-linecap:butt;stroke-linejoin:miter;stroke-opacity:1;\"/>\n",
       "<path d=\"M 168.9,51.6 L 168.9,49.2 L 171.0,48.0\" style=\"fill:none;stroke:#000000;stroke-width:2.0px;stroke-linecap:butt;stroke-linejoin:miter;stroke-opacity:1;\"/>\n",
       "<path d=\"M 208.1,26.5 L 210.1,25.3 L 212.2,26.5\" style=\"fill:none;stroke:#000000;stroke-width:2.0px;stroke-linecap:butt;stroke-linejoin:miter;stroke-opacity:1;\"/>\n",
       "<path d=\"M 249.4,47.9 L 251.4,49.1 L 251.4,51.5\" style=\"fill:none;stroke:#000000;stroke-width:2.0px;stroke-linecap:butt;stroke-linejoin:miter;stroke-opacity:1;\"/>\n",
       "<path d=\"M 251.5,94.4 L 251.5,96.8 L 249.4,98.0\" style=\"fill:none;stroke:#000000;stroke-width:2.0px;stroke-linecap:butt;stroke-linejoin:miter;stroke-opacity:1;\"/>\n",
       "<path d=\"M 290.8,262.3 L 292.9,263.5 L 294.9,262.3\" style=\"fill:none;stroke:#000000;stroke-width:2.0px;stroke-linecap:butt;stroke-linejoin:miter;stroke-opacity:1;\"/>\n",
       "<path d=\"M 332.0,240.8 L 334.1,239.6 L 334.1,237.3\" style=\"fill:none;stroke:#000000;stroke-width:2.0px;stroke-linecap:butt;stroke-linejoin:miter;stroke-opacity:1;\"/>\n",
       "<path d=\"M 334.1,194.4 L 334.1,192.0 L 332.0,190.8\" style=\"fill:none;stroke:#000000;stroke-width:2.0px;stroke-linecap:butt;stroke-linejoin:miter;stroke-opacity:1;\"/>\n",
       "<path class=\"atom-0\" d=\"M 77.1 49.3 Q 77.1 44.5, 79.5 41.7 Q 81.9 39.0, 86.4 39.0 Q 90.9 39.0, 93.3 41.7 Q 95.7 44.5, 95.7 49.3 Q 95.7 54.2, 93.2 57.0 Q 90.8 59.8, 86.4 59.8 Q 81.9 59.8, 79.5 57.0 Q 77.1 54.3, 77.1 49.3 M 86.4 57.5 Q 89.5 57.5, 91.1 55.5 Q 92.8 53.4, 92.8 49.3 Q 92.8 45.3, 91.1 43.3 Q 89.5 41.3, 86.4 41.3 Q 83.3 41.3, 81.6 43.3 Q 80.0 45.3, 80.0 49.3 Q 80.0 53.4, 81.6 55.5 Q 83.3 57.5, 86.4 57.5 \" fill=\"#FF0000\"/>\n",
       "<path class=\"atom-2\" d=\"M 15.9 110.7 L 18.7 110.7 L 18.7 119.4 L 29.0 119.4 L 29.0 110.7 L 31.7 110.7 L 31.7 131.0 L 29.0 131.0 L 29.0 121.6 L 18.7 121.6 L 18.7 131.0 L 15.9 131.0 L 15.9 110.7 \" fill=\"#FF0000\"/>\n",
       "<path class=\"atom-2\" d=\"M 35.9 120.8 Q 35.9 116.0, 38.3 113.2 Q 40.7 110.5, 45.2 110.5 Q 49.7 110.5, 52.1 113.2 Q 54.5 116.0, 54.5 120.8 Q 54.5 125.7, 52.0 128.5 Q 49.6 131.3, 45.2 131.3 Q 40.7 131.3, 38.3 128.5 Q 35.9 125.8, 35.9 120.8 M 45.2 129.0 Q 48.3 129.0, 49.9 127.0 Q 51.6 124.9, 51.6 120.8 Q 51.6 116.8, 49.9 114.8 Q 48.3 112.8, 45.2 112.8 Q 42.1 112.8, 40.4 114.8 Q 38.8 116.8, 38.8 120.8 Q 38.8 124.9, 40.4 127.0 Q 42.1 129.0, 45.2 129.0 \" fill=\"#FF0000\"/>\n",
       "<path class=\"atom-10\" d=\"M 182.8 158.1 L 185.5 158.1 L 185.5 166.7 L 195.8 166.7 L 195.8 158.1 L 198.6 158.1 L 198.6 178.4 L 195.8 178.4 L 195.8 169.0 L 185.5 169.0 L 185.5 178.4 L 182.8 178.4 L 182.8 158.1 \" fill=\"#0000FF\"/>\n",
       "<path class=\"atom-10\" d=\"M 205.8 158.1 L 212.4 168.9 Q 213.1 169.9, 214.1 171.8 Q 215.2 173.8, 215.2 173.9 L 215.2 158.1 L 217.9 158.1 L 217.9 178.4 L 215.2 178.4 L 208.0 166.7 Q 207.2 165.3, 206.3 163.7 Q 205.5 162.1, 205.2 161.7 L 205.2 178.4 L 202.6 178.4 L 202.6 158.1 L 205.8 158.1 \" fill=\"#0000FF\"/>\n",
       "<path class=\"atom-13\" d=\"M 191.4 264.2 Q 191.4 259.2, 193.7 256.6 Q 196.1 253.9, 200.6 253.9 Q 204.7 253.9, 207.0 256.9 L 205.1 258.4 Q 203.4 256.3, 200.6 256.3 Q 197.5 256.3, 195.9 258.3 Q 194.3 260.4, 194.3 264.2 Q 194.3 268.3, 195.9 270.3 Q 197.6 272.4, 200.9 272.4 Q 203.1 272.4, 205.7 271.0 L 206.5 273.2 Q 205.4 273.9, 203.8 274.3 Q 202.2 274.7, 200.5 274.7 Q 196.1 274.7, 193.7 272.0 Q 191.4 269.3, 191.4 264.2 \" fill=\"#00CC00\"/>\n",
       "<path class=\"atom-13\" d=\"M 209.0 252.7 L 211.6 252.7 L 211.6 274.4 L 209.0 274.4 L 209.0 252.7 \" fill=\"#00CC00\"/>\n",
       "<path class=\"atom-18\" d=\"M 284.9 121.3 Q 284.9 116.2, 287.3 113.6 Q 289.6 110.9, 294.1 110.9 Q 298.3 110.9, 300.5 113.9 L 298.7 115.4 Q 297.0 113.3, 294.1 113.3 Q 291.1 113.3, 289.4 115.3 Q 287.8 117.4, 287.8 121.3 Q 287.8 125.3, 289.5 127.3 Q 291.2 129.4, 294.5 129.4 Q 296.7 129.4, 299.3 128.0 L 300.1 130.2 Q 299.0 130.9, 297.4 131.3 Q 295.8 131.7, 294.1 131.7 Q 289.6 131.7, 287.3 129.0 Q 284.9 126.3, 284.9 121.3 \" fill=\"#00CC00\"/>\n",
       "<path class=\"atom-18\" d=\"M 302.6 109.7 L 305.2 109.7 L 305.2 131.4 L 302.6 131.4 L 302.6 109.7 \" fill=\"#00CC00\"/>\n",
       "<path class=\"bond-0 atom-0 atom-1\" d=\"M 90.0,61.4 L 90.0,80.2\" style=\"fill:none;fill-rule:evenodd;stroke:#FF0000;stroke-width:2.0px;stroke-linecap:butt;stroke-linejoin:miter;stroke-opacity:1\"/>\n",
       "<path class=\"bond-0 atom-0 atom-1\" d=\"M 90.0,80.2 L 90.0,99.0\" style=\"fill:none;fill-rule:evenodd;stroke:#000000;stroke-width:2.0px;stroke-linecap:butt;stroke-linejoin:miter;stroke-opacity:1\"/>\n",
       "<path class=\"bond-0 atom-0 atom-1\" d=\"M 82.8,61.4 L 82.8,80.2\" style=\"fill:none;fill-rule:evenodd;stroke:#FF0000;stroke-width:2.0px;stroke-linecap:butt;stroke-linejoin:miter;stroke-opacity:1\"/>\n",
       "<path class=\"bond-0 atom-0 atom-1\" d=\"M 82.8,80.2 L 82.9,99.0\" style=\"fill:none;fill-rule:evenodd;stroke:#000000;stroke-width:2.0px;stroke-linecap:butt;stroke-linejoin:miter;stroke-opacity:1\"/>\n",
       "<path class=\"bond-1 atom-1 atom-2\" d=\"M 86.4,96.9 L 71.2,105.7\" style=\"fill:none;fill-rule:evenodd;stroke:#000000;stroke-width:2.0px;stroke-linecap:butt;stroke-linejoin:miter;stroke-opacity:1\"/>\n",
       "<path class=\"bond-1 atom-1 atom-2\" d=\"M 71.2,105.7 L 56.0,114.5\" style=\"fill:none;fill-rule:evenodd;stroke:#FF0000;stroke-width:2.0px;stroke-linecap:butt;stroke-linejoin:miter;stroke-opacity:1\"/>\n",
       "<path class=\"bond-2 atom-1 atom-3\" d=\"M 86.4,96.9 L 127.7,120.7\" style=\"fill:none;fill-rule:evenodd;stroke:#000000;stroke-width:2.0px;stroke-linecap:butt;stroke-linejoin:miter;stroke-opacity:1\"/>\n",
       "<path class=\"bond-3 atom-3 atom-4\" d=\"M 127.7,120.7 L 168.9,96.8\" style=\"fill:none;fill-rule:evenodd;stroke:#000000;stroke-width:2.0px;stroke-linecap:butt;stroke-linejoin:miter;stroke-opacity:1\"/>\n",
       "<path class=\"bond-4 atom-4 atom-5\" d=\"M 168.9,96.8 L 168.9,49.2\" style=\"fill:none;fill-rule:evenodd;stroke:#000000;stroke-width:2.0px;stroke-linecap:butt;stroke-linejoin:miter;stroke-opacity:1\"/>\n",
       "<path class=\"bond-4 atom-4 atom-5\" d=\"M 176.1,92.7 L 176.1,53.3\" style=\"fill:none;fill-rule:evenodd;stroke:#000000;stroke-width:2.0px;stroke-linecap:butt;stroke-linejoin:miter;stroke-opacity:1\"/>\n",
       "<path class=\"bond-5 atom-5 atom-6\" d=\"M 168.9,49.2 L 210.1,25.3\" style=\"fill:none;fill-rule:evenodd;stroke:#000000;stroke-width:2.0px;stroke-linecap:butt;stroke-linejoin:miter;stroke-opacity:1\"/>\n",
       "<path class=\"bond-6 atom-6 atom-7\" d=\"M 210.1,25.3 L 251.4,49.1\" style=\"fill:none;fill-rule:evenodd;stroke:#000000;stroke-width:2.0px;stroke-linecap:butt;stroke-linejoin:miter;stroke-opacity:1\"/>\n",
       "<path class=\"bond-6 atom-6 atom-7\" d=\"M 210.2,33.6 L 244.3,53.3\" style=\"fill:none;fill-rule:evenodd;stroke:#000000;stroke-width:2.0px;stroke-linecap:butt;stroke-linejoin:miter;stroke-opacity:1\"/>\n",
       "<path class=\"bond-7 atom-7 atom-8\" d=\"M 251.4,49.1 L 251.5,96.8\" style=\"fill:none;fill-rule:evenodd;stroke:#000000;stroke-width:2.0px;stroke-linecap:butt;stroke-linejoin:miter;stroke-opacity:1\"/>\n",
       "<path class=\"bond-8 atom-8 atom-9\" d=\"M 251.5,96.8 L 210.2,120.6\" style=\"fill:none;fill-rule:evenodd;stroke:#000000;stroke-width:2.0px;stroke-linecap:butt;stroke-linejoin:miter;stroke-opacity:1\"/>\n",
       "<path class=\"bond-8 atom-8 atom-9\" d=\"M 244.3,92.7 L 210.2,112.4\" style=\"fill:none;fill-rule:evenodd;stroke:#000000;stroke-width:2.0px;stroke-linecap:butt;stroke-linejoin:miter;stroke-opacity:1\"/>\n",
       "<path class=\"bond-9 atom-9 atom-10\" d=\"M 210.2,120.6 L 210.2,138.6\" style=\"fill:none;fill-rule:evenodd;stroke:#000000;stroke-width:2.0px;stroke-linecap:butt;stroke-linejoin:miter;stroke-opacity:1\"/>\n",
       "<path class=\"bond-9 atom-9 atom-10\" d=\"M 210.2,138.6 L 210.2,156.6\" style=\"fill:none;fill-rule:evenodd;stroke:#0000FF;stroke-width:2.0px;stroke-linecap:butt;stroke-linejoin:miter;stroke-opacity:1\"/>\n",
       "<path class=\"bond-10 atom-10 atom-11\" d=\"M 219.5,173.6 L 235.5,182.8\" style=\"fill:none;fill-rule:evenodd;stroke:#0000FF;stroke-width:2.0px;stroke-linecap:butt;stroke-linejoin:miter;stroke-opacity:1\"/>\n",
       "<path class=\"bond-10 atom-10 atom-11\" d=\"M 235.5,182.8 L 251.5,192.1\" style=\"fill:none;fill-rule:evenodd;stroke:#000000;stroke-width:2.0px;stroke-linecap:butt;stroke-linejoin:miter;stroke-opacity:1\"/>\n",
       "<path class=\"bond-11 atom-11 atom-12\" d=\"M 251.5,192.1 L 251.6,239.7\" style=\"fill:none;fill-rule:evenodd;stroke:#000000;stroke-width:2.0px;stroke-linecap:butt;stroke-linejoin:miter;stroke-opacity:1\"/>\n",
       "<path class=\"bond-11 atom-11 atom-12\" d=\"M 258.7,196.2 L 258.7,235.6\" style=\"fill:none;fill-rule:evenodd;stroke:#000000;stroke-width:2.0px;stroke-linecap:butt;stroke-linejoin:miter;stroke-opacity:1\"/>\n",
       "<path class=\"bond-12 atom-12 atom-13\" d=\"M 251.6,239.7 L 232.4,250.8\" style=\"fill:none;fill-rule:evenodd;stroke:#000000;stroke-width:2.0px;stroke-linecap:butt;stroke-linejoin:miter;stroke-opacity:1\"/>\n",
       "<path class=\"bond-12 atom-12 atom-13\" d=\"M 232.4,250.8 L 213.2,261.9\" style=\"fill:none;fill-rule:evenodd;stroke:#00CC00;stroke-width:2.0px;stroke-linecap:butt;stroke-linejoin:miter;stroke-opacity:1\"/>\n",
       "<path class=\"bond-13 atom-12 atom-14\" d=\"M 251.6,239.7 L 292.9,263.5\" style=\"fill:none;fill-rule:evenodd;stroke:#000000;stroke-width:2.0px;stroke-linecap:butt;stroke-linejoin:miter;stroke-opacity:1\"/>\n",
       "<path class=\"bond-14 atom-14 atom-15\" d=\"M 292.9,263.5 L 334.1,239.6\" style=\"fill:none;fill-rule:evenodd;stroke:#000000;stroke-width:2.0px;stroke-linecap:butt;stroke-linejoin:miter;stroke-opacity:1\"/>\n",
       "<path class=\"bond-14 atom-14 atom-15\" d=\"M 292.8,255.2 L 326.9,235.5\" style=\"fill:none;fill-rule:evenodd;stroke:#000000;stroke-width:2.0px;stroke-linecap:butt;stroke-linejoin:miter;stroke-opacity:1\"/>\n",
       "<path class=\"bond-15 atom-15 atom-16\" d=\"M 334.1,239.6 L 334.1,192.0\" style=\"fill:none;fill-rule:evenodd;stroke:#000000;stroke-width:2.0px;stroke-linecap:butt;stroke-linejoin:miter;stroke-opacity:1\"/>\n",
       "<path class=\"bond-16 atom-16 atom-17\" d=\"M 334.1,192.0 L 292.8,168.2\" style=\"fill:none;fill-rule:evenodd;stroke:#000000;stroke-width:2.0px;stroke-linecap:butt;stroke-linejoin:miter;stroke-opacity:1\"/>\n",
       "<path class=\"bond-16 atom-16 atom-17\" d=\"M 326.9,196.1 L 292.8,176.5\" style=\"fill:none;fill-rule:evenodd;stroke:#000000;stroke-width:2.0px;stroke-linecap:butt;stroke-linejoin:miter;stroke-opacity:1\"/>\n",
       "<path class=\"bond-17 atom-17 atom-18\" d=\"M 292.8,168.2 L 292.8,150.7\" style=\"fill:none;fill-rule:evenodd;stroke:#000000;stroke-width:2.0px;stroke-linecap:butt;stroke-linejoin:miter;stroke-opacity:1\"/>\n",
       "<path class=\"bond-17 atom-17 atom-18\" d=\"M 292.8,150.7 L 292.7,133.2\" style=\"fill:none;fill-rule:evenodd;stroke:#00CC00;stroke-width:2.0px;stroke-linecap:butt;stroke-linejoin:miter;stroke-opacity:1\"/>\n",
       "<path class=\"bond-18 atom-9 atom-4\" d=\"M 210.2,120.6 L 168.9,96.8\" style=\"fill:none;fill-rule:evenodd;stroke:#000000;stroke-width:2.0px;stroke-linecap:butt;stroke-linejoin:miter;stroke-opacity:1\"/>\n",
       "<path class=\"bond-19 atom-17 atom-11\" d=\"M 292.8,168.2 L 251.5,192.1\" style=\"fill:none;fill-rule:evenodd;stroke:#000000;stroke-width:2.0px;stroke-linecap:butt;stroke-linejoin:miter;stroke-opacity:1\"/>\n",
       "<path d=\"M 85.7,97.3 L 86.4,96.9 L 88.5,98.1\" style=\"fill:none;stroke:#000000;stroke-width:2.0px;stroke-linecap:butt;stroke-linejoin:miter;stroke-opacity:1;\"/>\n",
       "<path d=\"M 125.6,119.5 L 127.7,120.7 L 129.8,119.5\" style=\"fill:none;stroke:#000000;stroke-width:2.0px;stroke-linecap:butt;stroke-linejoin:miter;stroke-opacity:1;\"/>\n",
       "<path d=\"M 168.9,51.6 L 168.9,49.2 L 171.0,48.0\" style=\"fill:none;stroke:#000000;stroke-width:2.0px;stroke-linecap:butt;stroke-linejoin:miter;stroke-opacity:1;\"/>\n",
       "<path d=\"M 208.1,26.5 L 210.1,25.3 L 212.2,26.5\" style=\"fill:none;stroke:#000000;stroke-width:2.0px;stroke-linecap:butt;stroke-linejoin:miter;stroke-opacity:1;\"/>\n",
       "<path d=\"M 249.4,47.9 L 251.4,49.1 L 251.4,51.5\" style=\"fill:none;stroke:#000000;stroke-width:2.0px;stroke-linecap:butt;stroke-linejoin:miter;stroke-opacity:1;\"/>\n",
       "<path d=\"M 251.5,94.4 L 251.5,96.8 L 249.4,98.0\" style=\"fill:none;stroke:#000000;stroke-width:2.0px;stroke-linecap:butt;stroke-linejoin:miter;stroke-opacity:1;\"/>\n",
       "<path d=\"M 290.8,262.3 L 292.9,263.5 L 294.9,262.3\" style=\"fill:none;stroke:#000000;stroke-width:2.0px;stroke-linecap:butt;stroke-linejoin:miter;stroke-opacity:1;\"/>\n",
       "<path d=\"M 332.0,240.8 L 334.1,239.6 L 334.1,237.3\" style=\"fill:none;stroke:#000000;stroke-width:2.0px;stroke-linecap:butt;stroke-linejoin:miter;stroke-opacity:1;\"/>\n",
       "<path d=\"M 334.1,194.4 L 334.1,192.0 L 332.0,190.8\" style=\"fill:none;stroke:#000000;stroke-width:2.0px;stroke-linecap:butt;stroke-linejoin:miter;stroke-opacity:1;\"/>\n",
       "<path class=\"atom-0\" d=\"M 77.1 49.3 Q 77.1 44.5, 79.5 41.7 Q 81.9 39.0, 86.4 39.0 Q 90.9 39.0, 93.3 41.7 Q 95.7 44.5, 95.7 49.3 Q 95.7 54.2, 93.2 57.0 Q 90.8 59.8, 86.4 59.8 Q 81.9 59.8, 79.5 57.0 Q 77.1 54.3, 77.1 49.3 M 86.4 57.5 Q 89.5 57.5, 91.1 55.5 Q 92.8 53.4, 92.8 49.3 Q 92.8 45.3, 91.1 43.3 Q 89.5 41.3, 86.4 41.3 Q 83.3 41.3, 81.6 43.3 Q 80.0 45.3, 80.0 49.3 Q 80.0 53.4, 81.6 55.5 Q 83.3 57.5, 86.4 57.5 \" fill=\"#FF0000\"/>\n",
       "<path class=\"atom-2\" d=\"M 15.9 110.7 L 18.7 110.7 L 18.7 119.4 L 29.0 119.4 L 29.0 110.7 L 31.7 110.7 L 31.7 131.0 L 29.0 131.0 L 29.0 121.6 L 18.7 121.6 L 18.7 131.0 L 15.9 131.0 L 15.9 110.7 \" fill=\"#FF0000\"/>\n",
       "<path class=\"atom-2\" d=\"M 35.9 120.8 Q 35.9 116.0, 38.3 113.2 Q 40.7 110.5, 45.2 110.5 Q 49.7 110.5, 52.1 113.2 Q 54.5 116.0, 54.5 120.8 Q 54.5 125.7, 52.0 128.5 Q 49.6 131.3, 45.2 131.3 Q 40.7 131.3, 38.3 128.5 Q 35.9 125.8, 35.9 120.8 M 45.2 129.0 Q 48.3 129.0, 49.9 127.0 Q 51.6 124.9, 51.6 120.8 Q 51.6 116.8, 49.9 114.8 Q 48.3 112.8, 45.2 112.8 Q 42.1 112.8, 40.4 114.8 Q 38.8 116.8, 38.8 120.8 Q 38.8 124.9, 40.4 127.0 Q 42.1 129.0, 45.2 129.0 \" fill=\"#FF0000\"/>\n",
       "<path class=\"atom-10\" d=\"M 182.8 158.1 L 185.5 158.1 L 185.5 166.7 L 195.8 166.7 L 195.8 158.1 L 198.6 158.1 L 198.6 178.4 L 195.8 178.4 L 195.8 169.0 L 185.5 169.0 L 185.5 178.4 L 182.8 178.4 L 182.8 158.1 \" fill=\"#0000FF\"/>\n",
       "<path class=\"atom-10\" d=\"M 205.8 158.1 L 212.4 168.9 Q 213.1 169.9, 214.1 171.8 Q 215.2 173.8, 215.2 173.9 L 215.2 158.1 L 217.9 158.1 L 217.9 178.4 L 215.2 178.4 L 208.0 166.7 Q 207.2 165.3, 206.3 163.7 Q 205.5 162.1, 205.2 161.7 L 205.2 178.4 L 202.6 178.4 L 202.6 158.1 L 205.8 158.1 \" fill=\"#0000FF\"/>\n",
       "<path class=\"atom-13\" d=\"M 191.4 264.2 Q 191.4 259.2, 193.7 256.6 Q 196.1 253.9, 200.6 253.9 Q 204.7 253.9, 207.0 256.9 L 205.1 258.4 Q 203.4 256.3, 200.6 256.3 Q 197.5 256.3, 195.9 258.3 Q 194.3 260.4, 194.3 264.2 Q 194.3 268.3, 195.9 270.3 Q 197.6 272.4, 200.9 272.4 Q 203.1 272.4, 205.7 271.0 L 206.5 273.2 Q 205.4 273.9, 203.8 274.3 Q 202.2 274.7, 200.5 274.7 Q 196.1 274.7, 193.7 272.0 Q 191.4 269.3, 191.4 264.2 \" fill=\"#00CC00\"/>\n",
       "<path class=\"atom-13\" d=\"M 209.0 252.7 L 211.6 252.7 L 211.6 274.4 L 209.0 274.4 L 209.0 252.7 \" fill=\"#00CC00\"/>\n",
       "<path class=\"atom-18\" d=\"M 284.9 121.3 Q 284.9 116.2, 287.3 113.6 Q 289.6 110.9, 294.1 110.9 Q 298.3 110.9, 300.5 113.9 L 298.7 115.4 Q 297.0 113.3, 294.1 113.3 Q 291.1 113.3, 289.4 115.3 Q 287.8 117.4, 287.8 121.3 Q 287.8 125.3, 289.5 127.3 Q 291.2 129.4, 294.5 129.4 Q 296.7 129.4, 299.3 128.0 L 300.1 130.2 Q 299.0 130.9, 297.4 131.3 Q 295.8 131.7, 294.1 131.7 Q 289.6 131.7, 287.3 129.0 Q 284.9 126.3, 284.9 121.3 \" fill=\"#00CC00\"/>\n",
       "<path class=\"atom-18\" d=\"M 302.6 109.7 L 305.2 109.7 L 305.2 131.4 L 302.6 131.4 L 302.6 109.7 \" fill=\"#00CC00\"/>\n",
       "</svg>"
      ],
      "text/plain": [
       "<IPython.core.display.SVG object>"
      ]
     },
     "execution_count": 10,
     "metadata": {},
     "output_type": "execute_result"
    }
   ],
   "source": [
    "from rdkit import Chem\n",
    "from rdkit.Chem import Draw\n",
    "from rdkit.Chem.Draw import rdMolDraw2D\n",
    "from rdkit.Chem import rdDepictor\n",
    "\n",
    "rdDepictor.SetPreferCoordGen(True)\n",
    "from rdkit.Chem.Draw import IPythonConsole\n",
    "from IPython.display import SVG\n",
    "import rdkit\n",
    "print(rdkit.__version__)\n",
    "\n",
    "\n",
    "diclofenac = Chem.MolFromSmiles('O=C(O)Cc1ccccc1Nc1c(Cl)cccc1Cl')\n",
    "\n",
    "d2d = rdMolDraw2D.MolDraw2DSVG(350, 300)\n",
    "d2d.DrawMolecule(diclofenac)\n",
    "\n",
    "d2d.DrawMolecule(diclofenac)\n",
    "d2d.FinishDrawing()\n",
    "SVG(d2d.GetDrawingText())"
   ]
  },
  {
   "cell_type": "code",
   "execution_count": 2,
   "metadata": {
    "ExecuteTime": {
     "end_time": "2023-08-21T00:12:57.836156900Z",
     "start_time": "2023-08-21T00:12:57.815031300Z"
    },
    "collapsed": false
   },
   "outputs": [
    {
     "data": {
      "image/svg+xml": [
       "<svg xmlns=\"http://www.w3.org/2000/svg\" xmlns:rdkit=\"http://www.rdkit.org/xml\" xmlns:xlink=\"http://www.w3.org/1999/xlink\" version=\"1.1\" baseProfile=\"full\" xml:space=\"preserve\" width=\"350px\" height=\"300px\" viewBox=\"0 0 350 300\">\n",
       "<!-- END OF HEADER -->\n",
       "<rect style=\"opacity:1.0;fill:#FFFFFF;stroke:none\" width=\"350.0\" height=\"300.0\" x=\"0.0\" y=\"0.0\"> </rect>\n",
       "<path class=\"bond-0 atom-0 atom-1\" d=\"M 86.1,71.3 L 86.1,89.1\" style=\"fill:none;fill-rule:evenodd;stroke:#FF0000;stroke-width:2.0px;stroke-linecap:butt;stroke-linejoin:miter;stroke-opacity:1\"/>\n",
       "<path class=\"bond-0 atom-0 atom-1\" d=\"M 86.1,89.1 L 86.1,106.9\" style=\"fill:none;fill-rule:evenodd;stroke:#000000;stroke-width:2.0px;stroke-linecap:butt;stroke-linejoin:miter;stroke-opacity:1\"/>\n",
       "<path class=\"bond-0 atom-0 atom-1\" d=\"M 79.3,71.3 L 79.4,89.1\" style=\"fill:none;fill-rule:evenodd;stroke:#FF0000;stroke-width:2.0px;stroke-linecap:butt;stroke-linejoin:miter;stroke-opacity:1\"/>\n",
       "<path class=\"bond-0 atom-0 atom-1\" d=\"M 79.4,89.1 L 79.4,106.9\" style=\"fill:none;fill-rule:evenodd;stroke:#000000;stroke-width:2.0px;stroke-linecap:butt;stroke-linejoin:miter;stroke-opacity:1\"/>\n",
       "<path class=\"bond-1 atom-1 atom-2\" d=\"M 82.8,105.0 L 68.4,113.3\" style=\"fill:none;fill-rule:evenodd;stroke:#000000;stroke-width:2.0px;stroke-linecap:butt;stroke-linejoin:miter;stroke-opacity:1\"/>\n",
       "<path class=\"bond-1 atom-1 atom-2\" d=\"M 68.4,113.3 L 54.0,121.6\" style=\"fill:none;fill-rule:evenodd;stroke:#FF0000;stroke-width:2.0px;stroke-linecap:butt;stroke-linejoin:miter;stroke-opacity:1\"/>\n",
       "<path class=\"bond-2 atom-1 atom-3\" d=\"M 82.8,105.0 L 121.9,127.5\" style=\"fill:none;fill-rule:evenodd;stroke:#000000;stroke-width:2.0px;stroke-linecap:butt;stroke-linejoin:miter;stroke-opacity:1\"/>\n",
       "<path class=\"bond-3 atom-3 atom-4\" d=\"M 121.9,127.5 L 161.0,104.9\" style=\"fill:none;fill-rule:evenodd;stroke:#000000;stroke-width:2.0px;stroke-linecap:butt;stroke-linejoin:miter;stroke-opacity:1\"/>\n",
       "<path class=\"bond-4 atom-4 atom-5\" d=\"M 161.0,104.9 L 160.9,59.7\" style=\"fill:none;fill-rule:evenodd;stroke:#000000;stroke-width:2.0px;stroke-linecap:butt;stroke-linejoin:miter;stroke-opacity:1\"/>\n",
       "<path class=\"bond-4 atom-4 atom-5\" d=\"M 167.8,101.0 L 167.7,63.7\" style=\"fill:none;fill-rule:evenodd;stroke:#000000;stroke-width:2.0px;stroke-linecap:butt;stroke-linejoin:miter;stroke-opacity:1\"/>\n",
       "<path class=\"bond-5 atom-5 atom-6\" d=\"M 160.9,59.7 L 200.0,37.1\" style=\"fill:none;fill-rule:evenodd;stroke:#000000;stroke-width:2.0px;stroke-linecap:butt;stroke-linejoin:miter;stroke-opacity:1\"/>\n",
       "<path class=\"bond-6 atom-6 atom-7\" d=\"M 200.0,37.1 L 239.2,59.7\" style=\"fill:none;fill-rule:evenodd;stroke:#000000;stroke-width:2.0px;stroke-linecap:butt;stroke-linejoin:miter;stroke-opacity:1\"/>\n",
       "<path class=\"bond-6 atom-6 atom-7\" d=\"M 200.0,45.0 L 232.4,63.6\" style=\"fill:none;fill-rule:evenodd;stroke:#000000;stroke-width:2.0px;stroke-linecap:butt;stroke-linejoin:miter;stroke-opacity:1\"/>\n",
       "<path class=\"bond-7 atom-7 atom-8\" d=\"M 239.2,59.7 L 239.2,104.8\" style=\"fill:none;fill-rule:evenodd;stroke:#000000;stroke-width:2.0px;stroke-linecap:butt;stroke-linejoin:miter;stroke-opacity:1\"/>\n",
       "<path class=\"bond-8 atom-8 atom-9\" d=\"M 239.2,104.8 L 200.1,127.5\" style=\"fill:none;fill-rule:evenodd;stroke:#000000;stroke-width:2.0px;stroke-linecap:butt;stroke-linejoin:miter;stroke-opacity:1\"/>\n",
       "<path class=\"bond-8 atom-8 atom-9\" d=\"M 232.4,100.9 L 200.1,119.6\" style=\"fill:none;fill-rule:evenodd;stroke:#000000;stroke-width:2.0px;stroke-linecap:butt;stroke-linejoin:miter;stroke-opacity:1\"/>\n",
       "<path class=\"bond-9 atom-9 atom-10\" d=\"M 200.1,127.5 L 200.1,144.5\" style=\"fill:none;fill-rule:evenodd;stroke:#000000;stroke-width:2.0px;stroke-linecap:butt;stroke-linejoin:miter;stroke-opacity:1\"/>\n",
       "<path class=\"bond-9 atom-9 atom-10\" d=\"M 200.1,144.5 L 200.1,161.5\" style=\"fill:none;fill-rule:evenodd;stroke:#0000FF;stroke-width:2.0px;stroke-linecap:butt;stroke-linejoin:miter;stroke-opacity:1\"/>\n",
       "<path class=\"bond-10 atom-10 atom-11\" d=\"M 208.9,177.7 L 224.1,186.4\" style=\"fill:none;fill-rule:evenodd;stroke:#0000FF;stroke-width:2.0px;stroke-linecap:butt;stroke-linejoin:miter;stroke-opacity:1\"/>\n",
       "<path class=\"bond-10 atom-10 atom-11\" d=\"M 224.1,186.4 L 239.3,195.2\" style=\"fill:none;fill-rule:evenodd;stroke:#000000;stroke-width:2.0px;stroke-linecap:butt;stroke-linejoin:miter;stroke-opacity:1\"/>\n",
       "<path class=\"bond-11 atom-11 atom-12\" d=\"M 239.3,195.2 L 239.3,240.3\" style=\"fill:none;fill-rule:evenodd;stroke:#000000;stroke-width:2.0px;stroke-linecap:butt;stroke-linejoin:miter;stroke-opacity:1\"/>\n",
       "<path class=\"bond-11 atom-11 atom-12\" d=\"M 246.0,199.1 L 246.1,236.4\" style=\"fill:none;fill-rule:evenodd;stroke:#000000;stroke-width:2.0px;stroke-linecap:butt;stroke-linejoin:miter;stroke-opacity:1\"/>\n",
       "<path class=\"bond-12 atom-12 atom-13\" d=\"M 239.3,240.3 L 221.1,250.9\" style=\"fill:none;fill-rule:evenodd;stroke:#000000;stroke-width:2.0px;stroke-linecap:butt;stroke-linejoin:miter;stroke-opacity:1\"/>\n",
       "<path class=\"bond-12 atom-12 atom-13\" d=\"M 221.1,250.9 L 203.0,261.4\" style=\"fill:none;fill-rule:evenodd;stroke:#00CC00;stroke-width:2.0px;stroke-linecap:butt;stroke-linejoin:miter;stroke-opacity:1\"/>\n",
       "<path class=\"bond-13 atom-12 atom-14\" d=\"M 239.3,240.3 L 278.4,262.9\" style=\"fill:none;fill-rule:evenodd;stroke:#000000;stroke-width:2.0px;stroke-linecap:butt;stroke-linejoin:miter;stroke-opacity:1\"/>\n",
       "<path class=\"bond-14 atom-14 atom-15\" d=\"M 278.4,262.9 L 317.5,240.3\" style=\"fill:none;fill-rule:evenodd;stroke:#000000;stroke-width:2.0px;stroke-linecap:butt;stroke-linejoin:miter;stroke-opacity:1\"/>\n",
       "<path class=\"bond-14 atom-14 atom-15\" d=\"M 278.4,255.1 L 310.8,236.4\" style=\"fill:none;fill-rule:evenodd;stroke:#000000;stroke-width:2.0px;stroke-linecap:butt;stroke-linejoin:miter;stroke-opacity:1\"/>\n",
       "<path class=\"bond-15 atom-15 atom-16\" d=\"M 317.5,240.3 L 317.5,195.1\" style=\"fill:none;fill-rule:evenodd;stroke:#000000;stroke-width:2.0px;stroke-linecap:butt;stroke-linejoin:miter;stroke-opacity:1\"/>\n",
       "<path class=\"bond-16 atom-16 atom-17\" d=\"M 317.5,195.1 L 278.4,172.6\" style=\"fill:none;fill-rule:evenodd;stroke:#000000;stroke-width:2.0px;stroke-linecap:butt;stroke-linejoin:miter;stroke-opacity:1\"/>\n",
       "<path class=\"bond-16 atom-16 atom-17\" d=\"M 310.7,199.0 L 278.4,180.4\" style=\"fill:none;fill-rule:evenodd;stroke:#000000;stroke-width:2.0px;stroke-linecap:butt;stroke-linejoin:miter;stroke-opacity:1\"/>\n",
       "<path class=\"bond-17 atom-17 atom-18\" d=\"M 278.4,172.6 L 278.4,156.0\" style=\"fill:none;fill-rule:evenodd;stroke:#000000;stroke-width:2.0px;stroke-linecap:butt;stroke-linejoin:miter;stroke-opacity:1\"/>\n",
       "<path class=\"bond-17 atom-17 atom-18\" d=\"M 278.4,156.0 L 278.3,139.4\" style=\"fill:none;fill-rule:evenodd;stroke:#00CC00;stroke-width:2.0px;stroke-linecap:butt;stroke-linejoin:miter;stroke-opacity:1\"/>\n",
       "<path class=\"bond-18 atom-9 atom-4\" d=\"M 200.1,127.5 L 161.0,104.9\" style=\"fill:none;fill-rule:evenodd;stroke:#000000;stroke-width:2.0px;stroke-linecap:butt;stroke-linejoin:miter;stroke-opacity:1\"/>\n",
       "<path class=\"bond-19 atom-17 atom-11\" d=\"M 278.4,172.6 L 239.3,195.2\" style=\"fill:none;fill-rule:evenodd;stroke:#000000;stroke-width:2.0px;stroke-linecap:butt;stroke-linejoin:miter;stroke-opacity:1\"/>\n",
       "<path d=\"M 82.0,105.4 L 82.8,105.0 L 84.7,106.1\" style=\"fill:none;stroke:#000000;stroke-width:2.0px;stroke-linecap:butt;stroke-linejoin:miter;stroke-opacity:1;\"/>\n",
       "<path d=\"M 119.9,126.4 L 121.9,127.5 L 123.8,126.4\" style=\"fill:none;stroke:#000000;stroke-width:2.0px;stroke-linecap:butt;stroke-linejoin:miter;stroke-opacity:1;\"/>\n",
       "<path d=\"M 160.9,62.0 L 160.9,59.7 L 162.9,58.6\" style=\"fill:none;stroke:#000000;stroke-width:2.0px;stroke-linecap:butt;stroke-linejoin:miter;stroke-opacity:1;\"/>\n",
       "<path d=\"M 198.1,38.3 L 200.0,37.1 L 202.0,38.3\" style=\"fill:none;stroke:#000000;stroke-width:2.0px;stroke-linecap:butt;stroke-linejoin:miter;stroke-opacity:1;\"/>\n",
       "<path d=\"M 237.2,58.6 L 239.2,59.7 L 239.2,61.9\" style=\"fill:none;stroke:#000000;stroke-width:2.0px;stroke-linecap:butt;stroke-linejoin:miter;stroke-opacity:1;\"/>\n",
       "<path d=\"M 239.2,102.6 L 239.2,104.8 L 237.3,106.0\" style=\"fill:none;stroke:#000000;stroke-width:2.0px;stroke-linecap:butt;stroke-linejoin:miter;stroke-opacity:1;\"/>\n",
       "<path d=\"M 276.5,261.8 L 278.4,262.9 L 280.4,261.8\" style=\"fill:none;stroke:#000000;stroke-width:2.0px;stroke-linecap:butt;stroke-linejoin:miter;stroke-opacity:1;\"/>\n",
       "<path d=\"M 315.6,241.4 L 317.5,240.3 L 317.5,238.0\" style=\"fill:none;stroke:#000000;stroke-width:2.0px;stroke-linecap:butt;stroke-linejoin:miter;stroke-opacity:1;\"/>\n",
       "<path d=\"M 317.5,197.4 L 317.5,195.1 L 315.5,194.0\" style=\"fill:none;stroke:#000000;stroke-width:2.0px;stroke-linecap:butt;stroke-linejoin:miter;stroke-opacity:1;\"/>\n",
       "<path class=\"atom-0\" d=\"M 73.9 59.9 Q 73.9 55.3, 76.2 52.7 Q 78.5 50.1, 82.7 50.1 Q 87.0 50.1, 89.3 52.7 Q 91.5 55.3, 91.5 59.9 Q 91.5 64.5, 89.2 67.2 Q 86.9 69.8, 82.7 69.8 Q 78.5 69.8, 76.2 67.2 Q 73.9 64.6, 73.9 59.9 M 82.7 67.6 Q 85.6 67.6, 87.2 65.7 Q 88.8 63.7, 88.8 59.9 Q 88.8 56.1, 87.2 54.2 Q 85.6 52.3, 82.7 52.3 Q 79.8 52.3, 78.2 54.2 Q 76.6 56.1, 76.6 59.9 Q 76.6 63.7, 78.2 65.7 Q 79.8 67.6, 82.7 67.6 \" fill=\"#FF0000\"/>\n",
       "<path class=\"atom-2\" d=\"M 15.9 118.1 L 18.5 118.1 L 18.5 126.3 L 28.3 126.3 L 28.3 118.1 L 30.9 118.1 L 30.9 137.3 L 28.3 137.3 L 28.3 128.4 L 18.5 128.4 L 18.5 137.3 L 15.9 137.3 L 15.9 118.1 \" fill=\"#FF0000\"/>\n",
       "<path class=\"atom-2\" d=\"M 34.9 127.6 Q 34.9 123.0, 37.1 120.5 Q 39.4 117.9, 43.7 117.9 Q 47.9 117.9, 50.2 120.5 Q 52.5 123.0, 52.5 127.6 Q 52.5 132.3, 50.2 135.0 Q 47.9 137.6, 43.7 137.6 Q 39.4 137.6, 37.1 135.0 Q 34.9 132.3, 34.9 127.6 M 43.7 135.4 Q 46.6 135.4, 48.2 133.5 Q 49.8 131.5, 49.8 127.6 Q 49.8 123.9, 48.2 122.0 Q 46.6 120.1, 43.7 120.1 Q 40.7 120.1, 39.1 121.9 Q 37.6 123.8, 37.6 127.6 Q 37.6 131.5, 39.1 133.5 Q 40.7 135.4, 43.7 135.4 \" fill=\"#FF0000\"/>\n",
       "<path class=\"atom-10\" d=\"M 174.1 163.0 L 176.7 163.0 L 176.7 171.2 L 186.5 171.2 L 186.5 163.0 L 189.1 163.0 L 189.1 182.2 L 186.5 182.2 L 186.5 173.4 L 176.7 173.4 L 176.7 182.2 L 174.1 182.2 L 174.1 163.0 \" fill=\"#0000FF\"/>\n",
       "<path class=\"atom-10\" d=\"M 195.9 163.0 L 202.2 173.2 Q 202.8 174.2, 203.8 176.0 Q 204.8 177.8, 204.9 177.9 L 204.9 163.0 L 207.4 163.0 L 207.4 182.2 L 204.8 182.2 L 198.0 171.1 Q 197.3 169.8, 196.4 168.3 Q 195.6 166.8, 195.4 166.4 L 195.4 182.2 L 192.9 182.2 L 192.9 163.0 L 195.9 163.0 \" fill=\"#0000FF\"/>\n",
       "<path class=\"atom-13\" d=\"M 182.2 263.6 Q 182.2 258.8, 184.5 256.4 Q 186.7 253.8, 191.0 253.8 Q 194.9 253.8, 197.0 256.6 L 195.2 258.1 Q 193.7 256.1, 191.0 256.1 Q 188.1 256.1, 186.5 258.0 Q 185.0 259.9, 185.0 263.6 Q 185.0 267.4, 186.6 269.4 Q 188.2 271.3, 191.3 271.3 Q 193.4 271.3, 195.8 270.0 L 196.6 272.1 Q 195.6 272.7, 194.1 273.1 Q 192.6 273.5, 190.9 273.5 Q 186.7 273.5, 184.5 270.9 Q 182.2 268.4, 182.2 263.6 \" fill=\"#00CC00\"/>\n",
       "<path class=\"atom-13\" d=\"M 199.0 252.7 L 201.5 252.7 L 201.5 273.2 L 199.0 273.2 L 199.0 252.7 \" fill=\"#00CC00\"/>\n",
       "<path class=\"atom-18\" d=\"M 270.9 128.1 Q 270.9 123.3, 273.2 120.8 Q 275.4 118.3, 279.7 118.3 Q 283.6 118.3, 285.7 121.1 L 283.9 122.5 Q 282.4 120.5, 279.7 120.5 Q 276.8 120.5, 275.2 122.4 Q 273.7 124.4, 273.7 128.1 Q 273.7 131.9, 275.3 133.8 Q 276.9 135.8, 280.0 135.8 Q 282.1 135.8, 284.5 134.5 L 285.3 136.5 Q 284.3 137.2, 282.8 137.5 Q 281.3 137.9, 279.6 137.9 Q 275.4 137.9, 273.2 135.4 Q 270.9 132.8, 270.9 128.1 \" fill=\"#00CC00\"/>\n",
       "<path class=\"atom-18\" d=\"M 287.7 117.1 L 290.2 117.1 L 290.2 137.7 L 287.7 137.7 L 287.7 117.1 \" fill=\"#00CC00\"/>\n",
       "<path class=\"note\" d=\"M 82.7 42.2 Q 80.9 42.2, 80.1 40.9 Q 79.2 39.6, 79.2 37.3 Q 79.2 35.0, 80.1 33.7 Q 80.9 32.4, 82.7 32.4 Q 84.5 32.4, 85.3 33.7 Q 86.2 35.0, 86.2 37.3 Q 86.2 39.6, 85.3 40.9 Q 84.5 42.2, 82.7 42.2 M 82.7 41.1 Q 83.7 41.1, 84.3 40.1 Q 84.9 39.2, 84.9 37.3 Q 84.9 35.4, 84.3 34.4 Q 83.7 33.5, 82.7 33.5 Q 81.7 33.5, 81.1 34.4 Q 80.5 35.4, 80.5 37.3 Q 80.5 39.2, 81.1 40.1 Q 81.7 41.1, 82.7 41.1 \" fill=\"#000000\"/>\n",
       "<path class=\"note\" d=\"M 70.6 103.1 L 72.7 103.1 L 72.7 95.9 L 70.4 96.6 L 70.1 95.8 L 73.0 94.5 L 74.0 94.7 L 74.0 103.1 L 75.9 103.1 L 75.9 104.2 L 70.6 104.2 L 70.6 103.1 \" fill=\"#000000\"/>\n",
       "<path class=\"note\" d=\"M 29.2 105.1 Q 29.5 104.2, 30.3 103.7 Q 31.2 103.2, 32.4 103.2 Q 33.8 103.2, 34.6 104.0 Q 35.4 104.8, 35.4 106.2 Q 35.4 107.6, 34.4 108.9 Q 33.3 110.2, 31.2 111.8 L 35.6 111.8 L 35.6 112.9 L 29.1 112.9 L 29.1 112.0 Q 30.9 110.7, 32.0 109.8 Q 33.0 108.8, 33.6 108.0 Q 34.1 107.1, 34.1 106.2 Q 34.1 105.3, 33.6 104.8 Q 33.2 104.3, 32.4 104.3 Q 31.6 104.3, 31.1 104.6 Q 30.5 104.9, 30.2 105.6 L 29.2 105.1 \" fill=\"#000000\"/>\n",
       "<path class=\"note\" d=\"M 123.3 138.6 Q 124.2 138.9, 124.7 139.5 Q 125.1 140.1, 125.1 141.0 Q 125.1 141.8, 124.7 142.5 Q 124.3 143.1, 123.6 143.5 Q 122.8 143.8, 121.8 143.8 Q 120.8 143.8, 120.0 143.4 Q 119.3 143.1, 118.7 142.3 L 119.4 141.6 Q 120.0 142.2, 120.5 142.5 Q 121.0 142.7, 121.8 142.7 Q 122.7 142.7, 123.2 142.3 Q 123.8 141.8, 123.8 141.0 Q 123.8 140.0, 123.2 139.6 Q 122.7 139.2, 121.5 139.2 L 120.8 139.2 L 120.8 138.2 L 121.4 138.2 Q 122.5 138.2, 123.0 137.7 Q 123.6 137.3, 123.6 136.4 Q 123.6 135.8, 123.1 135.4 Q 122.6 135.0, 121.9 135.0 Q 121.1 135.0, 120.6 135.3 Q 120.1 135.6, 119.7 136.3 L 118.8 135.8 Q 119.1 135.0, 119.9 134.5 Q 120.7 134.0, 121.9 134.0 Q 123.3 134.0, 124.1 134.6 Q 124.9 135.3, 124.9 136.4 Q 124.9 137.2, 124.5 137.7 Q 124.1 138.3, 123.3 138.6 \" fill=\"#000000\"/>\n",
       "<path class=\"note\" d=\"M 153.7 100.8 L 154.9 100.8 L 154.9 101.9 L 153.7 101.9 L 153.7 104.1 L 152.5 104.1 L 152.5 101.9 L 147.5 101.9 L 147.5 101.0 L 151.7 94.5 L 153.7 94.5 L 153.7 100.8 M 149.1 100.8 L 152.5 100.8 L 152.5 95.3 L 149.1 100.8 \" fill=\"#000000\"/>\n",
       "<path class=\"note\" d=\"M 151.4 52.9 Q 152.2 52.9, 152.9 53.3 Q 153.6 53.6, 154.0 54.3 Q 154.4 55.0, 154.4 55.9 Q 154.4 56.9, 153.9 57.6 Q 153.4 58.3, 152.7 58.6 Q 151.9 59.0, 151.0 59.0 Q 150.1 59.0, 149.3 58.7 Q 148.5 58.4, 147.9 57.7 L 148.7 56.9 Q 149.2 57.4, 149.8 57.7 Q 150.4 57.9, 151.0 57.9 Q 151.9 57.9, 152.5 57.4 Q 153.1 56.9, 153.1 55.9 Q 153.1 54.9, 152.5 54.4 Q 151.9 53.9, 150.9 53.9 Q 150.1 53.9, 149.2 54.3 L 148.4 53.9 L 148.9 49.3 L 153.8 49.3 L 153.7 50.4 L 150.0 50.4 L 149.7 53.2 Q 150.6 52.9, 151.4 52.9 \" fill=\"#000000\"/>\n",
       "<path class=\"note\" d=\"M 200.5 24.7 Q 201.3 24.7, 202.0 25.1 Q 202.6 25.4, 203.0 26.1 Q 203.4 26.8, 203.4 27.6 Q 203.4 28.5, 202.9 29.3 Q 202.5 30.0, 201.8 30.4 Q 201.1 30.8, 200.1 30.8 Q 198.4 30.8, 197.6 29.7 Q 196.7 28.5, 196.7 26.2 Q 196.7 23.6, 197.8 22.3 Q 198.8 21.0, 200.9 21.0 Q 201.5 21.0, 202.0 21.1 Q 202.5 21.3, 203.0 21.6 L 202.4 22.5 Q 201.7 22.1, 200.9 22.1 Q 199.5 22.1, 198.8 23.0 Q 198.2 23.8, 198.1 25.6 Q 198.6 25.2, 199.2 25.0 Q 199.8 24.7, 200.5 24.7 M 200.1 29.7 Q 200.7 29.7, 201.1 29.4 Q 201.5 29.2, 201.8 28.7 Q 202.0 28.2, 202.0 27.6 Q 202.0 26.8, 201.5 26.3 Q 201.1 25.8, 200.2 25.8 Q 199.6 25.8, 199.0 26.0 Q 198.5 26.3, 198.1 26.7 Q 198.1 28.3, 198.6 29.0 Q 199.1 29.7, 200.1 29.7 \" fill=\"#000000\"/>\n",
       "<path class=\"note\" d=\"M 250.8 50.3 L 245.8 50.3 L 245.8 49.2 L 252.1 49.2 L 252.1 50.2 L 248.3 58.8 L 247.0 58.8 L 250.8 50.3 \" fill=\"#000000\"/>\n",
       "<path class=\"note\" d=\"M 250.5 110.3 Q 251.4 110.6, 251.9 111.2 Q 252.4 111.8, 252.4 112.7 Q 252.4 113.5, 252.0 114.2 Q 251.5 114.8, 250.8 115.1 Q 250.0 115.5, 249.0 115.5 Q 247.4 115.5, 246.5 114.7 Q 245.6 114.0, 245.6 112.7 Q 245.6 111.9, 246.0 111.3 Q 246.4 110.7, 247.3 110.3 Q 246.6 109.9, 246.3 109.4 Q 246.0 108.9, 246.0 108.1 Q 246.0 107.0, 246.8 106.3 Q 247.6 105.6, 249.0 105.6 Q 250.4 105.6, 251.2 106.3 Q 252.0 107.0, 252.0 108.1 Q 252.0 108.8, 251.6 109.3 Q 251.3 109.8, 250.5 110.3 M 249.0 106.7 Q 248.2 106.7, 247.7 107.0 Q 247.3 107.4, 247.3 108.1 Q 247.3 108.6, 247.6 108.9 Q 247.9 109.3, 248.3 109.4 Q 248.8 109.6, 249.6 109.9 Q 250.2 109.5, 250.4 109.1 Q 250.7 108.6, 250.7 108.1 Q 250.7 107.4, 250.2 107.0 Q 249.8 106.7, 249.0 106.7 M 249.0 114.5 Q 249.9 114.5, 250.5 114.0 Q 251.0 113.5, 251.0 112.7 Q 251.0 112.2, 250.7 111.9 Q 250.5 111.5, 250.0 111.3 Q 249.6 111.2, 248.8 110.9 L 248.2 110.7 Q 247.6 111.1, 247.3 111.6 Q 247.0 112.1, 247.0 112.7 Q 247.0 113.5, 247.5 114.0 Q 248.1 114.5, 249.0 114.5 \" fill=\"#000000\"/>\n",
       "<path class=\"note\" d=\"M 209.8 128.2 Q 211.5 128.2, 212.4 129.4 Q 213.2 130.6, 213.2 132.9 Q 213.2 135.4, 212.2 136.7 Q 211.1 138.1, 209.0 138.1 Q 208.5 138.1, 207.9 137.9 Q 207.4 137.8, 206.9 137.5 L 207.5 136.6 Q 208.2 137.0, 209.0 137.0 Q 210.4 137.0, 211.1 136.1 Q 211.8 135.2, 211.9 133.4 Q 211.4 133.9, 210.7 134.1 Q 210.1 134.3, 209.5 134.3 Q 208.6 134.3, 208.0 134.0 Q 207.3 133.6, 206.9 132.9 Q 206.6 132.3, 206.6 131.4 Q 206.6 130.5, 207.0 129.8 Q 207.4 129.1, 208.1 128.7 Q 208.9 128.2, 209.8 128.2 M 207.9 131.4 Q 207.9 132.3, 208.4 132.8 Q 208.9 133.3, 209.7 133.3 Q 210.3 133.3, 210.9 133.0 Q 211.4 132.8, 211.9 132.4 Q 211.8 130.8, 211.3 130.1 Q 210.8 129.4, 209.8 129.4 Q 209.3 129.4, 208.8 129.6 Q 208.4 129.9, 208.2 130.4 Q 207.9 130.8, 207.9 131.4 \" fill=\"#000000\"/>\n",
       "<path class=\"note\" d=\"M 213.2 165.1 L 215.3 165.1 L 215.3 157.9 L 213.0 158.6 L 212.7 157.8 L 215.6 156.5 L 216.6 156.7 L 216.6 165.1 L 218.5 165.1 L 218.5 166.2 L 213.2 166.2 L 213.2 165.1 \" fill=\"#000000\"/>\n",
       "<path class=\"note\" d=\"M 223.2 166.3 Q 221.4 166.3, 220.6 165.0 Q 219.7 163.7, 219.7 161.4 Q 219.7 159.0, 220.6 157.8 Q 221.4 156.5, 223.2 156.5 Q 225.0 156.5, 225.8 157.8 Q 226.7 159.0, 226.7 161.4 Q 226.7 163.7, 225.8 165.0 Q 225.0 166.3, 223.2 166.3 M 223.2 165.2 Q 224.2 165.2, 224.8 164.2 Q 225.3 163.3, 225.3 161.4 Q 225.3 159.5, 224.8 158.5 Q 224.2 157.6, 223.2 157.6 Q 222.2 157.6, 221.6 158.5 Q 221.0 159.5, 221.0 161.4 Q 221.0 163.3, 221.6 164.2 Q 222.2 165.2, 223.2 165.2 \" fill=\"#000000\"/>\n",
       "<path class=\"note\" d=\"M 213.9 210.2 L 216.0 210.2 L 216.0 203.1 L 213.7 203.8 L 213.4 203.0 L 216.3 201.7 L 217.3 201.8 L 217.3 210.2 L 219.1 210.2 L 219.1 211.3 L 213.9 211.3 L 213.9 210.2 \" fill=\"#000000\"/>\n",
       "<path class=\"note\" d=\"M 220.8 210.2 L 222.9 210.2 L 222.9 203.1 L 220.6 203.8 L 220.3 203.0 L 223.2 201.7 L 224.2 201.8 L 224.2 210.2 L 226.1 210.2 L 226.1 211.3 L 220.8 211.3 L 220.8 210.2 \" fill=\"#000000\"/>\n",
       "<path class=\"note\" d=\"M 213.6 232.8 L 215.7 232.8 L 215.7 225.7 L 213.3 226.4 L 213.0 225.6 L 216.0 224.3 L 216.9 224.4 L 216.9 232.8 L 218.8 232.8 L 218.8 233.9 L 213.6 233.9 L 213.6 232.8 \" fill=\"#000000\"/>\n",
       "<path class=\"note\" d=\"M 220.0 226.1 Q 220.4 225.2, 221.2 224.7 Q 222.1 224.2, 223.2 224.2 Q 224.7 224.2, 225.5 225.0 Q 226.3 225.8, 226.3 227.2 Q 226.3 228.6, 225.2 229.9 Q 224.2 231.3, 222.0 232.8 L 226.5 232.8 L 226.5 233.9 L 220.0 233.9 L 220.0 233.0 Q 221.8 231.7, 222.8 230.8 Q 223.9 229.8, 224.4 229.0 Q 224.9 228.1, 224.9 227.3 Q 224.9 226.3, 224.5 225.8 Q 224.0 225.3, 223.2 225.3 Q 222.4 225.3, 221.9 225.6 Q 221.4 225.9, 221.0 226.6 L 220.0 226.1 \" fill=\"#000000\"/>\n",
       "<path class=\"note\" d=\"M 182.7 247.2 L 184.8 247.2 L 184.8 240.0 L 182.5 240.7 L 182.2 239.9 L 185.1 238.6 L 186.1 238.8 L 186.1 247.2 L 188.0 247.2 L 188.0 248.3 L 182.7 248.3 L 182.7 247.2 \" fill=\"#000000\"/>\n",
       "<path class=\"note\" d=\"M 193.8 243.2 Q 194.7 243.5, 195.2 244.1 Q 195.6 244.7, 195.6 245.6 Q 195.6 246.4, 195.2 247.1 Q 194.8 247.7, 194.1 248.1 Q 193.3 248.4, 192.3 248.4 Q 191.3 248.4, 190.5 248.0 Q 189.8 247.7, 189.2 246.9 L 189.9 246.2 Q 190.5 246.8, 191.0 247.1 Q 191.5 247.3, 192.3 247.3 Q 193.2 247.3, 193.7 246.8 Q 194.3 246.4, 194.3 245.6 Q 194.3 244.6, 193.7 244.2 Q 193.2 243.8, 192.0 243.8 L 191.3 243.8 L 191.3 242.8 L 191.9 242.8 Q 193.0 242.8, 193.5 242.3 Q 194.1 241.9, 194.1 241.0 Q 194.1 240.4, 193.6 240.0 Q 193.1 239.6, 192.4 239.6 Q 191.6 239.6, 191.1 239.9 Q 190.6 240.2, 190.2 240.9 L 189.3 240.4 Q 189.6 239.6, 190.4 239.1 Q 191.2 238.6, 192.4 238.6 Q 193.8 238.6, 194.6 239.2 Q 195.4 239.9, 195.4 241.0 Q 195.4 241.8, 195.0 242.3 Q 194.6 242.9, 193.8 243.2 \" fill=\"#000000\"/>\n",
       "<path class=\"note\" d=\"M 271.8 277.9 L 273.9 277.9 L 273.9 270.8 L 271.6 271.5 L 271.3 270.7 L 274.2 269.4 L 275.2 269.5 L 275.2 277.9 L 277.0 277.9 L 277.0 279.0 L 271.8 279.0 L 271.8 277.9 \" fill=\"#000000\"/>\n",
       "<path class=\"note\" d=\"M 284.5 275.7 L 285.7 275.7 L 285.7 276.8 L 284.5 276.8 L 284.5 279.0 L 283.2 279.0 L 283.2 276.8 L 278.3 276.8 L 278.3 275.9 L 282.5 269.4 L 284.5 269.4 L 284.5 275.7 M 279.8 275.7 L 283.2 275.7 L 283.2 270.3 L 279.8 275.7 \" fill=\"#000000\"/>\n",
       "<path class=\"note\" d=\"M 321.1 249.7 L 323.2 249.7 L 323.2 242.5 L 320.9 243.2 L 320.6 242.4 L 323.5 241.1 L 324.5 241.3 L 324.5 249.7 L 326.4 249.7 L 326.4 250.7 L 321.1 250.7 L 321.1 249.7 \" fill=\"#000000\"/>\n",
       "<path class=\"note\" d=\"M 331.0 244.7 Q 331.9 244.7, 332.6 245.1 Q 333.3 245.5, 333.7 246.1 Q 334.1 246.8, 334.1 247.7 Q 334.1 248.7, 333.6 249.4 Q 333.1 250.1, 332.3 250.5 Q 331.5 250.8, 330.6 250.8 Q 329.7 250.8, 328.9 250.5 Q 328.1 250.2, 327.6 249.6 L 328.4 248.7 Q 328.8 249.2, 329.4 249.5 Q 330.0 249.8, 330.7 249.8 Q 331.5 249.8, 332.1 249.2 Q 332.7 248.7, 332.7 247.7 Q 332.7 246.7, 332.1 246.2 Q 331.5 245.8, 330.6 245.8 Q 329.7 245.8, 328.8 246.1 L 328.1 245.8 L 328.5 241.1 L 333.5 241.1 L 333.3 242.2 L 329.6 242.2 L 329.3 245.1 Q 330.2 244.7, 331.0 244.7 \" fill=\"#000000\"/>\n",
       "<path class=\"note\" d=\"M 321.0 193.2 L 323.1 193.2 L 323.1 186.1 L 320.8 186.8 L 320.5 186.0 L 323.4 184.7 L 324.4 184.8 L 324.4 193.2 L 326.2 193.2 L 326.2 194.3 L 321.0 194.3 L 321.0 193.2 \" fill=\"#000000\"/>\n",
       "<path class=\"note\" d=\"M 331.2 188.3 Q 332.0 188.3, 332.7 188.7 Q 333.4 189.1, 333.7 189.7 Q 334.1 190.4, 334.1 191.2 Q 334.1 192.2, 333.7 192.9 Q 333.3 193.6, 332.5 194.0 Q 331.8 194.4, 330.9 194.4 Q 329.2 194.4, 328.3 193.3 Q 327.4 192.1, 327.4 189.8 Q 327.4 187.3, 328.5 185.9 Q 329.6 184.6, 331.6 184.6 Q 332.2 184.6, 332.7 184.7 Q 333.2 184.9, 333.7 185.2 L 333.2 186.1 Q 332.5 185.7, 331.6 185.7 Q 330.3 185.7, 329.6 186.6 Q 328.9 187.4, 328.8 189.2 Q 329.3 188.8, 329.9 188.6 Q 330.5 188.3, 331.2 188.3 M 330.9 193.3 Q 331.4 193.3, 331.8 193.0 Q 332.2 192.8, 332.5 192.3 Q 332.7 191.8, 332.7 191.2 Q 332.7 190.4, 332.3 189.9 Q 331.8 189.4, 330.9 189.4 Q 330.4 189.4, 329.8 189.7 Q 329.2 189.9, 328.8 190.3 Q 328.9 191.9, 329.4 192.6 Q 329.9 193.3, 330.9 193.3 \" fill=\"#000000\"/>\n",
       "<path class=\"note\" d=\"M 291.8 165.0 L 293.9 165.0 L 293.9 157.8 L 291.6 158.6 L 291.3 157.8 L 294.2 156.4 L 295.2 156.6 L 295.2 165.0 L 297.0 165.0 L 297.0 166.1 L 291.8 166.1 L 291.8 165.0 \" fill=\"#000000\"/>\n",
       "<path class=\"note\" d=\"M 303.2 157.6 L 298.2 157.6 L 298.2 156.5 L 304.6 156.5 L 304.6 157.5 L 300.7 166.1 L 299.4 166.1 L 303.2 157.6 \" fill=\"#000000\"/>\n",
       "<path class=\"note\" d=\"M 272.0 108.6 L 274.1 108.6 L 274.1 101.4 L 271.8 102.1 L 271.4 101.3 L 274.4 100.0 L 275.3 100.2 L 275.3 108.6 L 277.2 108.6 L 277.2 109.7 L 272.0 109.7 L 272.0 108.6 \" fill=\"#000000\"/>\n",
       "<path class=\"note\" d=\"M 283.3 104.6 Q 284.2 105.0, 284.7 105.5 Q 285.2 106.1, 285.2 107.0 Q 285.2 107.8, 284.8 108.5 Q 284.4 109.1, 283.6 109.5 Q 282.9 109.8, 281.9 109.8 Q 280.3 109.8, 279.3 109.1 Q 278.4 108.3, 278.4 107.0 Q 278.4 106.2, 278.8 105.7 Q 279.2 105.1, 280.1 104.6 Q 279.5 104.3, 279.1 103.8 Q 278.8 103.2, 278.8 102.4 Q 278.8 101.3, 279.6 100.6 Q 280.4 100.0, 281.8 100.0 Q 283.2 100.0, 284.0 100.6 Q 284.8 101.3, 284.8 102.4 Q 284.8 103.1, 284.5 103.6 Q 284.1 104.2, 283.3 104.6 M 281.8 101.0 Q 281.0 101.0, 280.6 101.4 Q 280.1 101.7, 280.1 102.4 Q 280.1 102.9, 280.4 103.3 Q 280.7 103.6, 281.1 103.8 Q 281.6 104.0, 282.4 104.2 Q 283.0 103.8, 283.2 103.4 Q 283.5 103.0, 283.5 102.4 Q 283.5 101.7, 283.0 101.4 Q 282.6 101.0, 281.8 101.0 M 281.9 108.8 Q 282.8 108.8, 283.3 108.3 Q 283.8 107.8, 283.8 107.0 Q 283.8 106.5, 283.6 106.2 Q 283.3 105.9, 282.8 105.7 Q 282.4 105.5, 281.7 105.2 L 281.1 105.0 Q 280.4 105.4, 280.1 105.9 Q 279.8 106.4, 279.8 107.0 Q 279.8 107.8, 280.3 108.3 Q 280.9 108.8, 281.9 108.8 \" fill=\"#000000\"/>\n",
       "</svg>"
      ],
      "text/plain": [
       "<IPython.core.display.SVG object>"
      ]
     },
     "execution_count": 2,
     "metadata": {},
     "output_type": "execute_result"
    }
   ],
   "source": [
    "# 带有原子索引的\n",
    "d2d = rdMolDraw2D.MolDraw2DSVG(350,300)\n",
    "d2d.drawOptions().addAtomIndices=True # add this line\n",
    "d2d.DrawMolecule(diclofenac)\n",
    "d2d.FinishDrawing()\n",
    "SVG(d2d.GetDrawingText())"
   ]
  },
  {
   "cell_type": "code",
   "execution_count": 14,
   "metadata": {
    "ExecuteTime": {
     "end_time": "2023-08-21T00:36:55.594074300Z",
     "start_time": "2023-08-21T00:36:55.584666400Z"
    },
    "collapsed": false
   },
   "outputs": [],
   "source": [
    "#获取分子中的原子数目\n",
    "atom_num = cp.GetNumAtoms()\n",
    "#获取分子中的键数目\n",
    "bond_num = cp.GetNumBonds()\n",
    "\n",
    "nei_bond = []\n",
    "\n",
    "#获取分子中键的相关类型以及键的特征，以及成键原子序号\n",
    "for i in range(bond_num):\n",
    "  nei_bond.append((cp.GetBondWithIdx(i).GetBondType().name,cp.GetBondWithIdx(i).GetBeginAtomIdx(),cp.GetBondWithIdx(i).GetEndAtomIdx()))"
   ]
  },
  {
   "cell_type": "code",
   "execution_count": 15,
   "metadata": {
    "ExecuteTime": {
     "end_time": "2023-08-21T00:36:59.006981100Z",
     "start_time": "2023-08-21T00:36:58.995992700Z"
    },
    "collapsed": false
   },
   "outputs": [
    {
     "data": {
      "text/plain": [
       "[('DOUBLE', 0, 1),\n",
       " ('SINGLE', 1, 2),\n",
       " ('SINGLE', 1, 3),\n",
       " ('SINGLE', 3, 4),\n",
       " ('AROMATIC', 4, 5),\n",
       " ('AROMATIC', 5, 6),\n",
       " ('AROMATIC', 6, 7),\n",
       " ('AROMATIC', 7, 8),\n",
       " ('AROMATIC', 8, 9),\n",
       " ('SINGLE', 9, 10),\n",
       " ('SINGLE', 10, 11),\n",
       " ('AROMATIC', 11, 12),\n",
       " ('SINGLE', 12, 13),\n",
       " ('AROMATIC', 12, 14),\n",
       " ('AROMATIC', 14, 15),\n",
       " ('AROMATIC', 15, 16),\n",
       " ('AROMATIC', 16, 17),\n",
       " ('SINGLE', 17, 18),\n",
       " ('AROMATIC', 9, 4),\n",
       " ('AROMATIC', 17, 11)]"
      ]
     },
     "execution_count": 15,
     "metadata": {},
     "output_type": "execute_result"
    }
   ],
   "source": [
    "nei_bond"
   ]
  },
  {
   "cell_type": "code",
   "execution_count": 13,
   "metadata": {
    "ExecuteTime": {
     "end_time": "2023-08-21T00:36:04.425706300Z",
     "start_time": "2023-08-21T00:36:04.405706900Z"
    },
    "collapsed": false
   },
   "outputs": [
    {
     "data": {
      "image/svg+xml": [
       "<svg xmlns=\"http://www.w3.org/2000/svg\" xmlns:rdkit=\"http://www.rdkit.org/xml\" xmlns:xlink=\"http://www.w3.org/1999/xlink\" version=\"1.1\" baseProfile=\"full\" xml:space=\"preserve\" width=\"350px\" height=\"300px\" viewBox=\"0 0 350 300\">\n",
       "<!-- END OF HEADER -->\n",
       "<rect style=\"opacity:1.0;fill:#FFFFFF;stroke:none\" width=\"350.0\" height=\"300.0\" x=\"0.0\" y=\"0.0\"> </rect>\n",
       "<path class=\"bond-0 atom-0 atom-1\" d=\"M 89.9,59.8 L 90.0,109.1 L 75.5,100.8 L 75.5,59.8 Z\" style=\"fill:#CCCCCC;fill-rule:evenodd;fill-opacity:1;stroke:#CCCCCC;stroke-width:0.0px;stroke-linecap:butt;stroke-linejoin:miter;stroke-opacity:1;\"/>\n",
       "<path class=\"bond-1 atom-1 atom-2\" d=\"M 75.5,100.8 L 90.0,109.1 L 47.3,133.8 L 40.0,121.3 Z\" style=\"fill:#CCCCCC;fill-rule:evenodd;fill-opacity:1;stroke:#CCCCCC;stroke-width:0.0px;stroke-linecap:butt;stroke-linejoin:miter;stroke-opacity:1;\"/>\n",
       "<path class=\"bond-0 atom-0 atom-1\" d=\"M 86.1,71.3 L 86.1,89.1\" style=\"fill:none;fill-rule:evenodd;stroke:#FF0000;stroke-width:2.0px;stroke-linecap:butt;stroke-linejoin:miter;stroke-opacity:1\"/>\n",
       "<path class=\"bond-0 atom-0 atom-1\" d=\"M 86.1,89.1 L 86.1,106.9\" style=\"fill:none;fill-rule:evenodd;stroke:#000000;stroke-width:2.0px;stroke-linecap:butt;stroke-linejoin:miter;stroke-opacity:1\"/>\n",
       "<path class=\"bond-0 atom-0 atom-1\" d=\"M 79.3,71.3 L 79.4,89.1\" style=\"fill:none;fill-rule:evenodd;stroke:#FF0000;stroke-width:2.0px;stroke-linecap:butt;stroke-linejoin:miter;stroke-opacity:1\"/>\n",
       "<path class=\"bond-0 atom-0 atom-1\" d=\"M 79.4,89.1 L 79.4,106.9\" style=\"fill:none;fill-rule:evenodd;stroke:#000000;stroke-width:2.0px;stroke-linecap:butt;stroke-linejoin:miter;stroke-opacity:1\"/>\n",
       "<path class=\"bond-1 atom-1 atom-2\" d=\"M 82.8,105.0 L 68.4,113.3\" style=\"fill:none;fill-rule:evenodd;stroke:#000000;stroke-width:2.0px;stroke-linecap:butt;stroke-linejoin:miter;stroke-opacity:1\"/>\n",
       "<path class=\"bond-1 atom-1 atom-2\" d=\"M 68.4,113.3 L 54.0,121.6\" style=\"fill:none;fill-rule:evenodd;stroke:#FF0000;stroke-width:2.0px;stroke-linecap:butt;stroke-linejoin:miter;stroke-opacity:1\"/>\n",
       "<path class=\"bond-2 atom-1 atom-3\" d=\"M 82.8,105.0 L 121.9,127.5\" style=\"fill:none;fill-rule:evenodd;stroke:#000000;stroke-width:2.0px;stroke-linecap:butt;stroke-linejoin:miter;stroke-opacity:1\"/>\n",
       "<path class=\"bond-3 atom-3 atom-4\" d=\"M 121.9,127.5 L 161.0,104.9\" style=\"fill:none;fill-rule:evenodd;stroke:#000000;stroke-width:2.0px;stroke-linecap:butt;stroke-linejoin:miter;stroke-opacity:1\"/>\n",
       "<path class=\"bond-4 atom-4 atom-5\" d=\"M 161.0,104.9 L 160.9,59.7\" style=\"fill:none;fill-rule:evenodd;stroke:#000000;stroke-width:2.0px;stroke-linecap:butt;stroke-linejoin:miter;stroke-opacity:1\"/>\n",
       "<path class=\"bond-4 atom-4 atom-5\" d=\"M 167.8,101.0 L 167.7,63.7\" style=\"fill:none;fill-rule:evenodd;stroke:#000000;stroke-width:2.0px;stroke-linecap:butt;stroke-linejoin:miter;stroke-opacity:1\"/>\n",
       "<path class=\"bond-5 atom-5 atom-6\" d=\"M 160.9,59.7 L 200.0,37.1\" style=\"fill:none;fill-rule:evenodd;stroke:#000000;stroke-width:2.0px;stroke-linecap:butt;stroke-linejoin:miter;stroke-opacity:1\"/>\n",
       "<path class=\"bond-6 atom-6 atom-7\" d=\"M 200.0,37.1 L 239.2,59.7\" style=\"fill:none;fill-rule:evenodd;stroke:#000000;stroke-width:2.0px;stroke-linecap:butt;stroke-linejoin:miter;stroke-opacity:1\"/>\n",
       "<path class=\"bond-6 atom-6 atom-7\" d=\"M 200.0,45.0 L 232.4,63.6\" style=\"fill:none;fill-rule:evenodd;stroke:#000000;stroke-width:2.0px;stroke-linecap:butt;stroke-linejoin:miter;stroke-opacity:1\"/>\n",
       "<path class=\"bond-7 atom-7 atom-8\" d=\"M 239.2,59.7 L 239.2,104.8\" style=\"fill:none;fill-rule:evenodd;stroke:#000000;stroke-width:2.0px;stroke-linecap:butt;stroke-linejoin:miter;stroke-opacity:1\"/>\n",
       "<path class=\"bond-8 atom-8 atom-9\" d=\"M 239.2,104.8 L 200.1,127.5\" style=\"fill:none;fill-rule:evenodd;stroke:#000000;stroke-width:2.0px;stroke-linecap:butt;stroke-linejoin:miter;stroke-opacity:1\"/>\n",
       "<path class=\"bond-8 atom-8 atom-9\" d=\"M 232.4,100.9 L 200.1,119.6\" style=\"fill:none;fill-rule:evenodd;stroke:#000000;stroke-width:2.0px;stroke-linecap:butt;stroke-linejoin:miter;stroke-opacity:1\"/>\n",
       "<path class=\"bond-9 atom-9 atom-10\" d=\"M 200.1,127.5 L 200.1,144.5\" style=\"fill:none;fill-rule:evenodd;stroke:#000000;stroke-width:2.0px;stroke-linecap:butt;stroke-linejoin:miter;stroke-opacity:1\"/>\n",
       "<path class=\"bond-9 atom-9 atom-10\" d=\"M 200.1,144.5 L 200.1,161.5\" style=\"fill:none;fill-rule:evenodd;stroke:#0000FF;stroke-width:2.0px;stroke-linecap:butt;stroke-linejoin:miter;stroke-opacity:1\"/>\n",
       "<path class=\"bond-10 atom-10 atom-11\" d=\"M 208.9,177.7 L 224.1,186.4\" style=\"fill:none;fill-rule:evenodd;stroke:#0000FF;stroke-width:2.0px;stroke-linecap:butt;stroke-linejoin:miter;stroke-opacity:1\"/>\n",
       "<path class=\"bond-10 atom-10 atom-11\" d=\"M 224.1,186.4 L 239.3,195.2\" style=\"fill:none;fill-rule:evenodd;stroke:#000000;stroke-width:2.0px;stroke-linecap:butt;stroke-linejoin:miter;stroke-opacity:1\"/>\n",
       "<path class=\"bond-11 atom-11 atom-12\" d=\"M 239.3,195.2 L 239.3,240.3\" style=\"fill:none;fill-rule:evenodd;stroke:#000000;stroke-width:2.0px;stroke-linecap:butt;stroke-linejoin:miter;stroke-opacity:1\"/>\n",
       "<path class=\"bond-11 atom-11 atom-12\" d=\"M 246.0,199.1 L 246.1,236.4\" style=\"fill:none;fill-rule:evenodd;stroke:#000000;stroke-width:2.0px;stroke-linecap:butt;stroke-linejoin:miter;stroke-opacity:1\"/>\n",
       "<path class=\"bond-12 atom-12 atom-13\" d=\"M 239.3,240.3 L 221.1,250.9\" style=\"fill:none;fill-rule:evenodd;stroke:#000000;stroke-width:2.0px;stroke-linecap:butt;stroke-linejoin:miter;stroke-opacity:1\"/>\n",
       "<path class=\"bond-12 atom-12 atom-13\" d=\"M 221.1,250.9 L 203.0,261.4\" style=\"fill:none;fill-rule:evenodd;stroke:#00CC00;stroke-width:2.0px;stroke-linecap:butt;stroke-linejoin:miter;stroke-opacity:1\"/>\n",
       "<path class=\"bond-13 atom-12 atom-14\" d=\"M 239.3,240.3 L 278.4,262.9\" style=\"fill:none;fill-rule:evenodd;stroke:#000000;stroke-width:2.0px;stroke-linecap:butt;stroke-linejoin:miter;stroke-opacity:1\"/>\n",
       "<path class=\"bond-14 atom-14 atom-15\" d=\"M 278.4,262.9 L 317.5,240.3\" style=\"fill:none;fill-rule:evenodd;stroke:#000000;stroke-width:2.0px;stroke-linecap:butt;stroke-linejoin:miter;stroke-opacity:1\"/>\n",
       "<path class=\"bond-14 atom-14 atom-15\" d=\"M 278.4,255.1 L 310.8,236.4\" style=\"fill:none;fill-rule:evenodd;stroke:#000000;stroke-width:2.0px;stroke-linecap:butt;stroke-linejoin:miter;stroke-opacity:1\"/>\n",
       "<path class=\"bond-15 atom-15 atom-16\" d=\"M 317.5,240.3 L 317.5,195.1\" style=\"fill:none;fill-rule:evenodd;stroke:#000000;stroke-width:2.0px;stroke-linecap:butt;stroke-linejoin:miter;stroke-opacity:1\"/>\n",
       "<path class=\"bond-16 atom-16 atom-17\" d=\"M 317.5,195.1 L 278.4,172.6\" style=\"fill:none;fill-rule:evenodd;stroke:#000000;stroke-width:2.0px;stroke-linecap:butt;stroke-linejoin:miter;stroke-opacity:1\"/>\n",
       "<path class=\"bond-16 atom-16 atom-17\" d=\"M 310.7,199.0 L 278.4,180.4\" style=\"fill:none;fill-rule:evenodd;stroke:#000000;stroke-width:2.0px;stroke-linecap:butt;stroke-linejoin:miter;stroke-opacity:1\"/>\n",
       "<path class=\"bond-17 atom-17 atom-18\" d=\"M 278.4,172.6 L 278.4,156.0\" style=\"fill:none;fill-rule:evenodd;stroke:#000000;stroke-width:2.0px;stroke-linecap:butt;stroke-linejoin:miter;stroke-opacity:1\"/>\n",
       "<path class=\"bond-17 atom-17 atom-18\" d=\"M 278.4,156.0 L 278.3,139.4\" style=\"fill:none;fill-rule:evenodd;stroke:#00CC00;stroke-width:2.0px;stroke-linecap:butt;stroke-linejoin:miter;stroke-opacity:1\"/>\n",
       "<path class=\"bond-18 atom-9 atom-4\" d=\"M 200.1,127.5 L 161.0,104.9\" style=\"fill:none;fill-rule:evenodd;stroke:#000000;stroke-width:2.0px;stroke-linecap:butt;stroke-linejoin:miter;stroke-opacity:1\"/>\n",
       "<path class=\"bond-19 atom-17 atom-11\" d=\"M 278.4,172.6 L 239.3,195.2\" style=\"fill:none;fill-rule:evenodd;stroke:#000000;stroke-width:2.0px;stroke-linecap:butt;stroke-linejoin:miter;stroke-opacity:1\"/>\n",
       "<path d=\"M 82.0,105.4 L 82.8,105.0 L 84.7,106.1\" style=\"fill:none;stroke:#000000;stroke-width:2.0px;stroke-linecap:butt;stroke-linejoin:miter;stroke-opacity:1;\"/>\n",
       "<path d=\"M 119.9,126.4 L 121.9,127.5 L 123.8,126.4\" style=\"fill:none;stroke:#000000;stroke-width:2.0px;stroke-linecap:butt;stroke-linejoin:miter;stroke-opacity:1;\"/>\n",
       "<path d=\"M 160.9,62.0 L 160.9,59.7 L 162.9,58.6\" style=\"fill:none;stroke:#000000;stroke-width:2.0px;stroke-linecap:butt;stroke-linejoin:miter;stroke-opacity:1;\"/>\n",
       "<path d=\"M 198.1,38.3 L 200.0,37.1 L 202.0,38.3\" style=\"fill:none;stroke:#000000;stroke-width:2.0px;stroke-linecap:butt;stroke-linejoin:miter;stroke-opacity:1;\"/>\n",
       "<path d=\"M 237.2,58.6 L 239.2,59.7 L 239.2,61.9\" style=\"fill:none;stroke:#000000;stroke-width:2.0px;stroke-linecap:butt;stroke-linejoin:miter;stroke-opacity:1;\"/>\n",
       "<path d=\"M 239.2,102.6 L 239.2,104.8 L 237.3,106.0\" style=\"fill:none;stroke:#000000;stroke-width:2.0px;stroke-linecap:butt;stroke-linejoin:miter;stroke-opacity:1;\"/>\n",
       "<path d=\"M 276.5,261.8 L 278.4,262.9 L 280.4,261.8\" style=\"fill:none;stroke:#000000;stroke-width:2.0px;stroke-linecap:butt;stroke-linejoin:miter;stroke-opacity:1;\"/>\n",
       "<path d=\"M 315.6,241.4 L 317.5,240.3 L 317.5,238.0\" style=\"fill:none;stroke:#000000;stroke-width:2.0px;stroke-linecap:butt;stroke-linejoin:miter;stroke-opacity:1;\"/>\n",
       "<path d=\"M 317.5,197.4 L 317.5,195.1 L 315.5,194.0\" style=\"fill:none;stroke:#000000;stroke-width:2.0px;stroke-linecap:butt;stroke-linejoin:miter;stroke-opacity:1;\"/>\n",
       "<path class=\"atom-0\" d=\"M 73.9 59.9 Q 73.9 55.3, 76.2 52.7 Q 78.5 50.1, 82.7 50.1 Q 87.0 50.1, 89.3 52.7 Q 91.5 55.3, 91.5 59.9 Q 91.5 64.5, 89.2 67.2 Q 86.9 69.8, 82.7 69.8 Q 78.5 69.8, 76.2 67.2 Q 73.9 64.6, 73.9 59.9 M 82.7 67.6 Q 85.6 67.6, 87.2 65.7 Q 88.8 63.7, 88.8 59.9 Q 88.8 56.1, 87.2 54.2 Q 85.6 52.3, 82.7 52.3 Q 79.8 52.3, 78.2 54.2 Q 76.6 56.1, 76.6 59.9 Q 76.6 63.7, 78.2 65.7 Q 79.8 67.6, 82.7 67.6 \" fill=\"#FF0000\"/>\n",
       "<path class=\"atom-2\" d=\"M 15.9 118.1 L 18.5 118.1 L 18.5 126.3 L 28.3 126.3 L 28.3 118.1 L 30.9 118.1 L 30.9 137.3 L 28.3 137.3 L 28.3 128.4 L 18.5 128.4 L 18.5 137.3 L 15.9 137.3 L 15.9 118.1 \" fill=\"#FF0000\"/>\n",
       "<path class=\"atom-2\" d=\"M 34.9 127.6 Q 34.9 123.0, 37.1 120.5 Q 39.4 117.9, 43.7 117.9 Q 47.9 117.9, 50.2 120.5 Q 52.5 123.0, 52.5 127.6 Q 52.5 132.3, 50.2 135.0 Q 47.9 137.6, 43.7 137.6 Q 39.4 137.6, 37.1 135.0 Q 34.9 132.3, 34.9 127.6 M 43.7 135.4 Q 46.6 135.4, 48.2 133.5 Q 49.8 131.5, 49.8 127.6 Q 49.8 123.9, 48.2 122.0 Q 46.6 120.1, 43.7 120.1 Q 40.7 120.1, 39.1 121.9 Q 37.6 123.8, 37.6 127.6 Q 37.6 131.5, 39.1 133.5 Q 40.7 135.4, 43.7 135.4 \" fill=\"#FF0000\"/>\n",
       "<path class=\"atom-10\" d=\"M 174.1 163.0 L 176.7 163.0 L 176.7 171.2 L 186.5 171.2 L 186.5 163.0 L 189.1 163.0 L 189.1 182.2 L 186.5 182.2 L 186.5 173.4 L 176.7 173.4 L 176.7 182.2 L 174.1 182.2 L 174.1 163.0 \" fill=\"#0000FF\"/>\n",
       "<path class=\"atom-10\" d=\"M 195.9 163.0 L 202.2 173.2 Q 202.8 174.2, 203.8 176.0 Q 204.8 177.8, 204.9 177.9 L 204.9 163.0 L 207.4 163.0 L 207.4 182.2 L 204.8 182.2 L 198.0 171.1 Q 197.3 169.8, 196.4 168.3 Q 195.6 166.8, 195.4 166.4 L 195.4 182.2 L 192.9 182.2 L 192.9 163.0 L 195.9 163.0 \" fill=\"#0000FF\"/>\n",
       "<path class=\"atom-13\" d=\"M 182.2 263.6 Q 182.2 258.8, 184.5 256.4 Q 186.7 253.8, 191.0 253.8 Q 194.9 253.8, 197.0 256.6 L 195.2 258.1 Q 193.7 256.1, 191.0 256.1 Q 188.1 256.1, 186.5 258.0 Q 185.0 259.9, 185.0 263.6 Q 185.0 267.4, 186.6 269.4 Q 188.2 271.3, 191.3 271.3 Q 193.4 271.3, 195.8 270.0 L 196.6 272.1 Q 195.6 272.7, 194.1 273.1 Q 192.6 273.5, 190.9 273.5 Q 186.7 273.5, 184.5 270.9 Q 182.2 268.4, 182.2 263.6 \" fill=\"#00CC00\"/>\n",
       "<path class=\"atom-13\" d=\"M 199.0 252.7 L 201.5 252.7 L 201.5 273.2 L 199.0 273.2 L 199.0 252.7 \" fill=\"#00CC00\"/>\n",
       "<path class=\"atom-18\" d=\"M 270.9 128.1 Q 270.9 123.3, 273.2 120.8 Q 275.4 118.3, 279.7 118.3 Q 283.6 118.3, 285.7 121.1 L 283.9 122.5 Q 282.4 120.5, 279.7 120.5 Q 276.8 120.5, 275.2 122.4 Q 273.7 124.4, 273.7 128.1 Q 273.7 131.9, 275.3 133.8 Q 276.9 135.8, 280.0 135.8 Q 282.1 135.8, 284.5 134.5 L 285.3 136.5 Q 284.3 137.2, 282.8 137.5 Q 281.3 137.9, 279.6 137.9 Q 275.4 137.9, 273.2 135.4 Q 270.9 132.8, 270.9 128.1 \" fill=\"#00CC00\"/>\n",
       "<path class=\"atom-18\" d=\"M 287.7 117.1 L 290.2 117.1 L 290.2 137.7 L 287.7 137.7 L 287.7 117.1 \" fill=\"#00CC00\"/>\n",
       "<path class=\"note\" d=\"M 82.7 42.2 Q 80.9 42.2, 80.1 40.9 Q 79.2 39.6, 79.2 37.3 Q 79.2 35.0, 80.1 33.7 Q 80.9 32.4, 82.7 32.4 Q 84.5 32.4, 85.3 33.7 Q 86.2 35.0, 86.2 37.3 Q 86.2 39.6, 85.3 40.9 Q 84.5 42.2, 82.7 42.2 M 82.7 41.1 Q 83.7 41.1, 84.3 40.1 Q 84.9 39.2, 84.9 37.3 Q 84.9 35.4, 84.3 34.4 Q 83.7 33.5, 82.7 33.5 Q 81.7 33.5, 81.1 34.4 Q 80.5 35.4, 80.5 37.3 Q 80.5 39.2, 81.1 40.1 Q 81.7 41.1, 82.7 41.1 \" fill=\"#000000\"/>\n",
       "<path class=\"note\" d=\"M 70.6 103.1 L 72.7 103.1 L 72.7 95.9 L 70.4 96.6 L 70.1 95.8 L 73.0 94.5 L 74.0 94.7 L 74.0 103.1 L 75.9 103.1 L 75.9 104.2 L 70.6 104.2 L 70.6 103.1 \" fill=\"#000000\"/>\n",
       "<path class=\"note\" d=\"M 29.2 105.1 Q 29.5 104.2, 30.3 103.7 Q 31.2 103.2, 32.4 103.2 Q 33.8 103.2, 34.6 104.0 Q 35.4 104.8, 35.4 106.2 Q 35.4 107.6, 34.4 108.9 Q 33.3 110.2, 31.2 111.8 L 35.6 111.8 L 35.6 112.9 L 29.1 112.9 L 29.1 112.0 Q 30.9 110.7, 32.0 109.8 Q 33.0 108.8, 33.6 108.0 Q 34.1 107.1, 34.1 106.2 Q 34.1 105.3, 33.6 104.8 Q 33.2 104.3, 32.4 104.3 Q 31.6 104.3, 31.1 104.6 Q 30.5 104.9, 30.2 105.6 L 29.2 105.1 \" fill=\"#000000\"/>\n",
       "<path class=\"note\" d=\"M 123.3 138.6 Q 124.2 138.9, 124.7 139.5 Q 125.1 140.1, 125.1 141.0 Q 125.1 141.8, 124.7 142.5 Q 124.3 143.1, 123.6 143.5 Q 122.8 143.8, 121.8 143.8 Q 120.8 143.8, 120.0 143.4 Q 119.3 143.1, 118.7 142.3 L 119.4 141.6 Q 120.0 142.2, 120.5 142.5 Q 121.0 142.7, 121.8 142.7 Q 122.7 142.7, 123.2 142.3 Q 123.8 141.8, 123.8 141.0 Q 123.8 140.0, 123.2 139.6 Q 122.7 139.2, 121.5 139.2 L 120.8 139.2 L 120.8 138.2 L 121.4 138.2 Q 122.5 138.2, 123.0 137.7 Q 123.6 137.3, 123.6 136.4 Q 123.6 135.8, 123.1 135.4 Q 122.6 135.0, 121.9 135.0 Q 121.1 135.0, 120.6 135.3 Q 120.1 135.6, 119.7 136.3 L 118.8 135.8 Q 119.1 135.0, 119.9 134.5 Q 120.7 134.0, 121.9 134.0 Q 123.3 134.0, 124.1 134.6 Q 124.9 135.3, 124.9 136.4 Q 124.9 137.2, 124.5 137.7 Q 124.1 138.3, 123.3 138.6 \" fill=\"#000000\"/>\n",
       "<path class=\"note\" d=\"M 153.7 100.8 L 154.9 100.8 L 154.9 101.9 L 153.7 101.9 L 153.7 104.1 L 152.5 104.1 L 152.5 101.9 L 147.5 101.9 L 147.5 101.0 L 151.7 94.5 L 153.7 94.5 L 153.7 100.8 M 149.1 100.8 L 152.5 100.8 L 152.5 95.3 L 149.1 100.8 \" fill=\"#000000\"/>\n",
       "<path class=\"note\" d=\"M 151.4 52.9 Q 152.2 52.9, 152.9 53.3 Q 153.6 53.6, 154.0 54.3 Q 154.4 55.0, 154.4 55.9 Q 154.4 56.9, 153.9 57.6 Q 153.4 58.3, 152.7 58.6 Q 151.9 59.0, 151.0 59.0 Q 150.1 59.0, 149.3 58.7 Q 148.5 58.4, 147.9 57.7 L 148.7 56.9 Q 149.2 57.4, 149.8 57.7 Q 150.4 57.9, 151.0 57.9 Q 151.9 57.9, 152.5 57.4 Q 153.1 56.9, 153.1 55.9 Q 153.1 54.9, 152.5 54.4 Q 151.9 53.9, 150.9 53.9 Q 150.1 53.9, 149.2 54.3 L 148.4 53.9 L 148.9 49.3 L 153.8 49.3 L 153.7 50.4 L 150.0 50.4 L 149.7 53.2 Q 150.6 52.9, 151.4 52.9 \" fill=\"#000000\"/>\n",
       "<path class=\"note\" d=\"M 200.5 24.7 Q 201.3 24.7, 202.0 25.1 Q 202.6 25.4, 203.0 26.1 Q 203.4 26.8, 203.4 27.6 Q 203.4 28.5, 202.9 29.3 Q 202.5 30.0, 201.8 30.4 Q 201.1 30.8, 200.1 30.8 Q 198.4 30.8, 197.6 29.7 Q 196.7 28.5, 196.7 26.2 Q 196.7 23.6, 197.8 22.3 Q 198.8 21.0, 200.9 21.0 Q 201.5 21.0, 202.0 21.1 Q 202.5 21.3, 203.0 21.6 L 202.4 22.5 Q 201.7 22.1, 200.9 22.1 Q 199.5 22.1, 198.8 23.0 Q 198.2 23.8, 198.1 25.6 Q 198.6 25.2, 199.2 25.0 Q 199.8 24.7, 200.5 24.7 M 200.1 29.7 Q 200.7 29.7, 201.1 29.4 Q 201.5 29.2, 201.8 28.7 Q 202.0 28.2, 202.0 27.6 Q 202.0 26.8, 201.5 26.3 Q 201.1 25.8, 200.2 25.8 Q 199.6 25.8, 199.0 26.0 Q 198.5 26.3, 198.1 26.7 Q 198.1 28.3, 198.6 29.0 Q 199.1 29.7, 200.1 29.7 \" fill=\"#000000\"/>\n",
       "<path class=\"note\" d=\"M 250.8 50.3 L 245.8 50.3 L 245.8 49.2 L 252.1 49.2 L 252.1 50.2 L 248.3 58.8 L 247.0 58.8 L 250.8 50.3 \" fill=\"#000000\"/>\n",
       "<path class=\"note\" d=\"M 250.5 110.3 Q 251.4 110.6, 251.9 111.2 Q 252.4 111.8, 252.4 112.7 Q 252.4 113.5, 252.0 114.2 Q 251.5 114.8, 250.8 115.1 Q 250.0 115.5, 249.0 115.5 Q 247.4 115.5, 246.5 114.7 Q 245.6 114.0, 245.6 112.7 Q 245.6 111.9, 246.0 111.3 Q 246.4 110.7, 247.3 110.3 Q 246.6 109.9, 246.3 109.4 Q 246.0 108.9, 246.0 108.1 Q 246.0 107.0, 246.8 106.3 Q 247.6 105.6, 249.0 105.6 Q 250.4 105.6, 251.2 106.3 Q 252.0 107.0, 252.0 108.1 Q 252.0 108.8, 251.6 109.3 Q 251.3 109.8, 250.5 110.3 M 249.0 106.7 Q 248.2 106.7, 247.7 107.0 Q 247.3 107.4, 247.3 108.1 Q 247.3 108.6, 247.6 108.9 Q 247.9 109.3, 248.3 109.4 Q 248.8 109.6, 249.6 109.9 Q 250.2 109.5, 250.4 109.1 Q 250.7 108.6, 250.7 108.1 Q 250.7 107.4, 250.2 107.0 Q 249.8 106.7, 249.0 106.7 M 249.0 114.5 Q 249.9 114.5, 250.5 114.0 Q 251.0 113.5, 251.0 112.7 Q 251.0 112.2, 250.7 111.9 Q 250.5 111.5, 250.0 111.3 Q 249.6 111.2, 248.8 110.9 L 248.2 110.7 Q 247.6 111.1, 247.3 111.6 Q 247.0 112.1, 247.0 112.7 Q 247.0 113.5, 247.5 114.0 Q 248.1 114.5, 249.0 114.5 \" fill=\"#000000\"/>\n",
       "<path class=\"note\" d=\"M 209.8 128.2 Q 211.5 128.2, 212.4 129.4 Q 213.2 130.6, 213.2 132.9 Q 213.2 135.4, 212.2 136.7 Q 211.1 138.1, 209.0 138.1 Q 208.5 138.1, 207.9 137.9 Q 207.4 137.8, 206.9 137.5 L 207.5 136.6 Q 208.2 137.0, 209.0 137.0 Q 210.4 137.0, 211.1 136.1 Q 211.8 135.2, 211.9 133.4 Q 211.4 133.9, 210.7 134.1 Q 210.1 134.3, 209.5 134.3 Q 208.6 134.3, 208.0 134.0 Q 207.3 133.6, 206.9 132.9 Q 206.6 132.3, 206.6 131.4 Q 206.6 130.5, 207.0 129.8 Q 207.4 129.1, 208.1 128.7 Q 208.9 128.2, 209.8 128.2 M 207.9 131.4 Q 207.9 132.3, 208.4 132.8 Q 208.9 133.3, 209.7 133.3 Q 210.3 133.3, 210.9 133.0 Q 211.4 132.8, 211.9 132.4 Q 211.8 130.8, 211.3 130.1 Q 210.8 129.4, 209.8 129.4 Q 209.3 129.4, 208.8 129.6 Q 208.4 129.9, 208.2 130.4 Q 207.9 130.8, 207.9 131.4 \" fill=\"#000000\"/>\n",
       "<path class=\"note\" d=\"M 213.2 165.1 L 215.3 165.1 L 215.3 157.9 L 213.0 158.6 L 212.7 157.8 L 215.6 156.5 L 216.6 156.7 L 216.6 165.1 L 218.5 165.1 L 218.5 166.2 L 213.2 166.2 L 213.2 165.1 \" fill=\"#000000\"/>\n",
       "<path class=\"note\" d=\"M 223.2 166.3 Q 221.4 166.3, 220.6 165.0 Q 219.7 163.7, 219.7 161.4 Q 219.7 159.0, 220.6 157.8 Q 221.4 156.5, 223.2 156.5 Q 225.0 156.5, 225.8 157.8 Q 226.7 159.0, 226.7 161.4 Q 226.7 163.7, 225.8 165.0 Q 225.0 166.3, 223.2 166.3 M 223.2 165.2 Q 224.2 165.2, 224.8 164.2 Q 225.3 163.3, 225.3 161.4 Q 225.3 159.5, 224.8 158.5 Q 224.2 157.6, 223.2 157.6 Q 222.2 157.6, 221.6 158.5 Q 221.0 159.5, 221.0 161.4 Q 221.0 163.3, 221.6 164.2 Q 222.2 165.2, 223.2 165.2 \" fill=\"#000000\"/>\n",
       "<path class=\"note\" d=\"M 213.9 210.2 L 216.0 210.2 L 216.0 203.1 L 213.7 203.8 L 213.4 203.0 L 216.3 201.7 L 217.3 201.8 L 217.3 210.2 L 219.1 210.2 L 219.1 211.3 L 213.9 211.3 L 213.9 210.2 \" fill=\"#000000\"/>\n",
       "<path class=\"note\" d=\"M 220.8 210.2 L 222.9 210.2 L 222.9 203.1 L 220.6 203.8 L 220.3 203.0 L 223.2 201.7 L 224.2 201.8 L 224.2 210.2 L 226.1 210.2 L 226.1 211.3 L 220.8 211.3 L 220.8 210.2 \" fill=\"#000000\"/>\n",
       "<path class=\"note\" d=\"M 213.6 232.8 L 215.7 232.8 L 215.7 225.7 L 213.3 226.4 L 213.0 225.6 L 216.0 224.3 L 216.9 224.4 L 216.9 232.8 L 218.8 232.8 L 218.8 233.9 L 213.6 233.9 L 213.6 232.8 \" fill=\"#000000\"/>\n",
       "<path class=\"note\" d=\"M 220.0 226.1 Q 220.4 225.2, 221.2 224.7 Q 222.1 224.2, 223.2 224.2 Q 224.7 224.2, 225.5 225.0 Q 226.3 225.8, 226.3 227.2 Q 226.3 228.6, 225.2 229.9 Q 224.2 231.3, 222.0 232.8 L 226.5 232.8 L 226.5 233.9 L 220.0 233.9 L 220.0 233.0 Q 221.8 231.7, 222.8 230.8 Q 223.9 229.8, 224.4 229.0 Q 224.9 228.1, 224.9 227.3 Q 224.9 226.3, 224.5 225.8 Q 224.0 225.3, 223.2 225.3 Q 222.4 225.3, 221.9 225.6 Q 221.4 225.9, 221.0 226.6 L 220.0 226.1 \" fill=\"#000000\"/>\n",
       "<path class=\"note\" d=\"M 182.7 247.2 L 184.8 247.2 L 184.8 240.0 L 182.5 240.7 L 182.2 239.9 L 185.1 238.6 L 186.1 238.8 L 186.1 247.2 L 188.0 247.2 L 188.0 248.3 L 182.7 248.3 L 182.7 247.2 \" fill=\"#000000\"/>\n",
       "<path class=\"note\" d=\"M 193.8 243.2 Q 194.7 243.5, 195.2 244.1 Q 195.6 244.7, 195.6 245.6 Q 195.6 246.4, 195.2 247.1 Q 194.8 247.7, 194.1 248.1 Q 193.3 248.4, 192.3 248.4 Q 191.3 248.4, 190.5 248.0 Q 189.8 247.7, 189.2 246.9 L 189.9 246.2 Q 190.5 246.8, 191.0 247.1 Q 191.5 247.3, 192.3 247.3 Q 193.2 247.3, 193.7 246.8 Q 194.3 246.4, 194.3 245.6 Q 194.3 244.6, 193.7 244.2 Q 193.2 243.8, 192.0 243.8 L 191.3 243.8 L 191.3 242.8 L 191.9 242.8 Q 193.0 242.8, 193.5 242.3 Q 194.1 241.9, 194.1 241.0 Q 194.1 240.4, 193.6 240.0 Q 193.1 239.6, 192.4 239.6 Q 191.6 239.6, 191.1 239.9 Q 190.6 240.2, 190.2 240.9 L 189.3 240.4 Q 189.6 239.6, 190.4 239.1 Q 191.2 238.6, 192.4 238.6 Q 193.8 238.6, 194.6 239.2 Q 195.4 239.9, 195.4 241.0 Q 195.4 241.8, 195.0 242.3 Q 194.6 242.9, 193.8 243.2 \" fill=\"#000000\"/>\n",
       "<path class=\"note\" d=\"M 271.8 277.9 L 273.9 277.9 L 273.9 270.8 L 271.6 271.5 L 271.3 270.7 L 274.2 269.4 L 275.2 269.5 L 275.2 277.9 L 277.0 277.9 L 277.0 279.0 L 271.8 279.0 L 271.8 277.9 \" fill=\"#000000\"/>\n",
       "<path class=\"note\" d=\"M 284.5 275.7 L 285.7 275.7 L 285.7 276.8 L 284.5 276.8 L 284.5 279.0 L 283.2 279.0 L 283.2 276.8 L 278.3 276.8 L 278.3 275.9 L 282.5 269.4 L 284.5 269.4 L 284.5 275.7 M 279.8 275.7 L 283.2 275.7 L 283.2 270.3 L 279.8 275.7 \" fill=\"#000000\"/>\n",
       "<path class=\"note\" d=\"M 321.1 249.7 L 323.2 249.7 L 323.2 242.5 L 320.9 243.2 L 320.6 242.4 L 323.5 241.1 L 324.5 241.3 L 324.5 249.7 L 326.4 249.7 L 326.4 250.7 L 321.1 250.7 L 321.1 249.7 \" fill=\"#000000\"/>\n",
       "<path class=\"note\" d=\"M 331.0 244.7 Q 331.9 244.7, 332.6 245.1 Q 333.3 245.5, 333.7 246.1 Q 334.1 246.8, 334.1 247.7 Q 334.1 248.7, 333.6 249.4 Q 333.1 250.1, 332.3 250.5 Q 331.5 250.8, 330.6 250.8 Q 329.7 250.8, 328.9 250.5 Q 328.1 250.2, 327.6 249.6 L 328.4 248.7 Q 328.8 249.2, 329.4 249.5 Q 330.0 249.8, 330.7 249.8 Q 331.5 249.8, 332.1 249.2 Q 332.7 248.7, 332.7 247.7 Q 332.7 246.7, 332.1 246.2 Q 331.5 245.8, 330.6 245.8 Q 329.7 245.8, 328.8 246.1 L 328.1 245.8 L 328.5 241.1 L 333.5 241.1 L 333.3 242.2 L 329.6 242.2 L 329.3 245.1 Q 330.2 244.7, 331.0 244.7 \" fill=\"#000000\"/>\n",
       "<path class=\"note\" d=\"M 321.0 193.2 L 323.1 193.2 L 323.1 186.1 L 320.8 186.8 L 320.5 186.0 L 323.4 184.7 L 324.4 184.8 L 324.4 193.2 L 326.2 193.2 L 326.2 194.3 L 321.0 194.3 L 321.0 193.2 \" fill=\"#000000\"/>\n",
       "<path class=\"note\" d=\"M 331.2 188.3 Q 332.0 188.3, 332.7 188.7 Q 333.4 189.1, 333.7 189.7 Q 334.1 190.4, 334.1 191.2 Q 334.1 192.2, 333.7 192.9 Q 333.3 193.6, 332.5 194.0 Q 331.8 194.4, 330.9 194.4 Q 329.2 194.4, 328.3 193.3 Q 327.4 192.1, 327.4 189.8 Q 327.4 187.3, 328.5 185.9 Q 329.6 184.6, 331.6 184.6 Q 332.2 184.6, 332.7 184.7 Q 333.2 184.9, 333.7 185.2 L 333.2 186.1 Q 332.5 185.7, 331.6 185.7 Q 330.3 185.7, 329.6 186.6 Q 328.9 187.4, 328.8 189.2 Q 329.3 188.8, 329.9 188.6 Q 330.5 188.3, 331.2 188.3 M 330.9 193.3 Q 331.4 193.3, 331.8 193.0 Q 332.2 192.8, 332.5 192.3 Q 332.7 191.8, 332.7 191.2 Q 332.7 190.4, 332.3 189.9 Q 331.8 189.4, 330.9 189.4 Q 330.4 189.4, 329.8 189.7 Q 329.2 189.9, 328.8 190.3 Q 328.9 191.9, 329.4 192.6 Q 329.9 193.3, 330.9 193.3 \" fill=\"#000000\"/>\n",
       "<path class=\"note\" d=\"M 291.8 165.0 L 293.9 165.0 L 293.9 157.8 L 291.6 158.6 L 291.3 157.8 L 294.2 156.4 L 295.2 156.6 L 295.2 165.0 L 297.0 165.0 L 297.0 166.1 L 291.8 166.1 L 291.8 165.0 \" fill=\"#000000\"/>\n",
       "<path class=\"note\" d=\"M 303.2 157.6 L 298.2 157.6 L 298.2 156.5 L 304.6 156.5 L 304.6 157.5 L 300.7 166.1 L 299.4 166.1 L 303.2 157.6 \" fill=\"#000000\"/>\n",
       "<path class=\"note\" d=\"M 272.0 108.6 L 274.1 108.6 L 274.1 101.4 L 271.8 102.1 L 271.4 101.3 L 274.4 100.0 L 275.3 100.2 L 275.3 108.6 L 277.2 108.6 L 277.2 109.7 L 272.0 109.7 L 272.0 108.6 \" fill=\"#000000\"/>\n",
       "<path class=\"note\" d=\"M 283.3 104.6 Q 284.2 105.0, 284.7 105.5 Q 285.2 106.1, 285.2 107.0 Q 285.2 107.8, 284.8 108.5 Q 284.4 109.1, 283.6 109.5 Q 282.9 109.8, 281.9 109.8 Q 280.3 109.8, 279.3 109.1 Q 278.4 108.3, 278.4 107.0 Q 278.4 106.2, 278.8 105.7 Q 279.2 105.1, 280.1 104.6 Q 279.5 104.3, 279.1 103.8 Q 278.8 103.2, 278.8 102.4 Q 278.8 101.3, 279.6 100.6 Q 280.4 100.0, 281.8 100.0 Q 283.2 100.0, 284.0 100.6 Q 284.8 101.3, 284.8 102.4 Q 284.8 103.1, 284.5 103.6 Q 284.1 104.2, 283.3 104.6 M 281.8 101.0 Q 281.0 101.0, 280.6 101.4 Q 280.1 101.7, 280.1 102.4 Q 280.1 102.9, 280.4 103.3 Q 280.7 103.6, 281.1 103.8 Q 281.6 104.0, 282.4 104.2 Q 283.0 103.8, 283.2 103.4 Q 283.5 103.0, 283.5 102.4 Q 283.5 101.7, 283.0 101.4 Q 282.6 101.0, 281.8 101.0 M 281.9 108.8 Q 282.8 108.8, 283.3 108.3 Q 283.8 107.8, 283.8 107.0 Q 283.8 106.5, 283.6 106.2 Q 283.3 105.9, 282.8 105.7 Q 282.4 105.5, 281.7 105.2 L 281.1 105.0 Q 280.4 105.4, 280.1 105.9 Q 279.8 106.4, 279.8 107.0 Q 279.8 107.8, 280.3 108.3 Q 280.9 108.8, 281.9 108.8 \" fill=\"#000000\"/>\n",
       "<path class=\"note\" d=\"M 65.1 77.2 L 65.1 87.5 L 64.1 87.5 L 63.9 86.7 Q 63.2 87.6, 61.9 87.6 Q 60.4 87.6, 59.6 86.7 Q 58.8 85.8, 58.8 84.2 Q 58.8 82.4, 59.8 81.4 Q 60.7 80.4, 62.4 80.4 Q 63.1 80.4, 63.9 80.6 L 63.9 77.2 L 65.1 77.2 M 62.0 86.6 Q 62.7 86.6, 63.2 86.3 Q 63.7 85.9, 63.9 85.2 L 63.9 81.6 Q 63.2 81.4, 62.4 81.4 Q 61.3 81.4, 60.7 82.2 Q 60.1 82.9, 60.1 84.2 Q 60.1 85.3, 60.6 86.0 Q 61.1 86.6, 62.0 86.6 \" fill=\"#000000\"/>\n",
       "<path class=\"note\" d=\"M 66.8 84.0 Q 66.8 82.3, 67.6 81.4 Q 68.5 80.4, 70.1 80.4 Q 71.6 80.4, 72.5 81.4 Q 73.4 82.3, 73.4 84.0 Q 73.4 85.7, 72.5 86.7 Q 71.6 87.6, 70.1 87.6 Q 68.5 87.6, 67.6 86.7 Q 66.8 85.7, 66.8 84.0 M 68.1 84.0 Q 68.1 85.3, 68.6 86.0 Q 69.1 86.6, 70.1 86.6 Q 71.0 86.6, 71.5 86.0 Q 72.1 85.3, 72.1 84.0 Q 72.1 82.8, 71.5 82.1 Q 71.0 81.4, 70.1 81.4 Q 69.1 81.4, 68.6 82.1 Q 68.1 82.8, 68.1 84.0 \" fill=\"#000000\"/>\n",
       "<path class=\"note\" d=\"M 80.4 80.6 L 80.4 87.5 L 79.4 87.5 L 79.2 86.6 Q 78.3 87.6, 76.9 87.6 Q 75.7 87.6, 75.1 87.0 Q 74.5 86.4, 74.5 85.2 L 74.5 80.6 L 75.8 80.6 L 75.8 85.1 Q 75.8 85.9, 76.1 86.3 Q 76.4 86.6, 77.1 86.6 Q 77.8 86.6, 78.3 86.4 Q 78.8 86.1, 79.2 85.5 L 79.2 80.6 L 80.4 80.6 \" fill=\"#000000\"/>\n",
       "<path class=\"note\" d=\"M 85.3 80.4 Q 86.8 80.4, 87.6 81.3 Q 88.4 82.2, 88.4 83.9 Q 88.4 85.7, 87.4 86.7 Q 86.5 87.6, 84.8 87.6 Q 83.7 87.6, 82.7 87.2 L 82.1 87.1 L 82.1 77.2 L 83.3 77.2 L 83.3 81.3 Q 84.1 80.4, 85.3 80.4 M 84.8 86.6 Q 85.9 86.6, 86.5 85.9 Q 87.1 85.2, 87.1 83.9 Q 87.1 82.7, 86.6 82.1 Q 86.1 81.4, 85.2 81.4 Q 84.5 81.4, 84.0 81.8 Q 83.5 82.2, 83.3 82.9 L 83.3 86.4 Q 84.0 86.6, 84.8 86.6 \" fill=\"#000000\"/>\n",
       "<path class=\"note\" d=\"M 89.5 77.2 L 90.8 77.2 L 90.8 87.5 L 89.5 87.5 L 89.5 77.2 \" fill=\"#000000\"/>\n",
       "<path class=\"note\" d=\"M 92.5 84.0 Q 92.5 82.3, 93.3 81.4 Q 94.2 80.4, 95.7 80.4 Q 97.3 80.4, 97.9 81.4 Q 98.6 82.3, 98.6 84.0 L 98.6 84.2 L 93.8 84.2 Q 93.8 85.4, 94.3 86.0 Q 94.9 86.6, 95.8 86.6 Q 96.4 86.6, 96.9 86.5 Q 97.4 86.4, 98.0 86.1 L 98.4 87.0 Q 97.7 87.3, 97.1 87.5 Q 96.4 87.6, 95.8 87.6 Q 94.2 87.6, 93.3 86.7 Q 92.5 85.7, 92.5 84.0 M 95.7 81.4 Q 94.9 81.4, 94.5 81.9 Q 94.0 82.4, 93.8 83.3 L 97.3 83.3 Q 97.2 82.3, 96.8 81.9 Q 96.4 81.4, 95.7 81.4 \" fill=\"#000000\"/>\n",
       "<path class=\"note\" d=\"\" fill=\"#000000\"/>\n",
       "<path class=\"note\" d=\"M 108.0 80.4 Q 109.4 80.4, 110.2 81.3 Q 111.0 82.2, 111.0 83.9 Q 111.0 85.7, 110.1 86.7 Q 109.1 87.6, 107.5 87.6 Q 106.4 87.6, 105.3 87.2 L 104.7 87.1 L 104.7 77.2 L 106.0 77.2 L 106.0 81.3 Q 106.7 80.4, 108.0 80.4 M 107.4 86.6 Q 108.5 86.6, 109.1 85.9 Q 109.7 85.2, 109.7 83.9 Q 109.7 82.7, 109.2 82.1 Q 108.8 81.4, 107.9 81.4 Q 107.2 81.4, 106.7 81.8 Q 106.2 82.2, 106.0 82.9 L 106.0 86.4 Q 106.7 86.6, 107.4 86.6 \" fill=\"#000000\"/>\n",
       "<path class=\"note\" d=\"M 112.2 84.0 Q 112.2 82.3, 113.0 81.4 Q 113.9 80.4, 115.5 80.4 Q 117.1 80.4, 117.9 81.4 Q 118.8 82.3, 118.8 84.0 Q 118.8 85.7, 117.9 86.7 Q 117.1 87.6, 115.5 87.6 Q 113.9 87.6, 113.0 86.7 Q 112.2 85.7, 112.2 84.0 M 113.5 84.0 Q 113.5 85.3, 114.0 86.0 Q 114.5 86.6, 115.5 86.6 Q 116.4 86.6, 117.0 86.0 Q 117.5 85.3, 117.5 84.0 Q 117.5 82.8, 117.0 82.1 Q 116.4 81.4, 115.5 81.4 Q 114.5 81.4, 114.0 82.1 Q 113.5 82.8, 113.5 84.0 \" fill=\"#000000\"/>\n",
       "<path class=\"note\" d=\"M 123.6 80.4 Q 124.7 80.4, 125.3 81.1 Q 125.9 81.7, 125.9 82.9 L 125.9 87.5 L 124.6 87.5 L 124.6 83.0 Q 124.6 82.2, 124.3 81.8 Q 124.0 81.4, 123.2 81.4 Q 122.6 81.4, 122.1 81.7 Q 121.6 82.0, 121.2 82.5 L 121.2 87.5 L 119.9 87.5 L 119.9 80.6 L 121.0 80.6 L 121.1 81.5 Q 122.1 80.4, 123.6 80.4 \" fill=\"#000000\"/>\n",
       "<path class=\"note\" d=\"M 133.8 77.2 L 133.8 87.5 L 132.7 87.5 L 132.6 86.7 Q 131.8 87.6, 130.5 87.6 Q 129.0 87.6, 128.2 86.7 Q 127.4 85.8, 127.4 84.2 Q 127.4 82.4, 128.4 81.4 Q 129.3 80.4, 131.0 80.4 Q 131.7 80.4, 132.5 80.6 L 132.5 77.2 L 133.8 77.2 M 130.6 86.6 Q 131.3 86.6, 131.8 86.3 Q 132.3 85.9, 132.5 85.2 L 132.5 81.6 Q 131.8 81.4, 131.0 81.4 Q 130.0 81.4, 129.3 82.2 Q 128.7 82.9, 128.7 84.2 Q 128.7 85.3, 129.2 86.0 Q 129.7 86.6, 130.6 86.6 \" fill=\"#000000\"/>\n",
       "<path class=\"note\" d=\"M 40.2 152.9 Q 40.8 153.2, 41.3 153.3 Q 41.7 153.4, 42.2 153.4 Q 42.8 153.4, 43.1 153.2 Q 43.5 152.9, 43.5 152.4 Q 43.5 152.1, 43.3 151.9 Q 43.1 151.7, 42.9 151.6 Q 42.7 151.5, 42.1 151.3 Q 42.0 151.3, 41.3 151.1 Q 40.7 150.9, 40.4 150.4 Q 40.0 149.9, 40.0 149.3 Q 40.0 148.4, 40.7 147.8 Q 41.4 147.3, 42.6 147.3 Q 43.1 147.3, 43.6 147.4 Q 44.1 147.5, 44.6 147.7 L 44.2 148.7 Q 43.8 148.5, 43.4 148.4 Q 43.0 148.3, 42.6 148.3 Q 42.0 148.3, 41.6 148.6 Q 41.3 148.8, 41.3 149.2 Q 41.3 149.6, 41.6 149.8 Q 41.8 150.0, 42.4 150.2 Q 42.6 150.2, 42.7 150.3 L 43.0 150.4 Q 43.6 150.6, 43.9 150.8 Q 44.3 151.0, 44.5 151.4 Q 44.8 151.7, 44.8 152.4 Q 44.8 153.4, 44.0 153.9 Q 43.3 154.5, 42.2 154.5 Q 41.5 154.5, 41.0 154.3 Q 40.4 154.2, 39.8 154.0 L 40.2 152.9 \" fill=\"#000000\"/>\n",
       "<path class=\"note\" d=\"M 45.9 144.8 L 47.2 144.8 L 47.2 145.9 L 45.9 145.9 L 45.9 144.8 M 45.9 147.4 L 47.2 147.4 L 47.2 154.4 L 45.9 154.4 L 45.9 147.4 \" fill=\"#000000\"/>\n",
       "<path class=\"note\" d=\"M 52.4 147.3 Q 53.6 147.3, 54.1 147.9 Q 54.7 148.5, 54.7 149.8 L 54.7 154.4 L 53.5 154.4 L 53.5 149.9 Q 53.5 149.0, 53.1 148.7 Q 52.8 148.3, 52.1 148.3 Q 51.5 148.3, 50.9 148.6 Q 50.4 148.9, 50.1 149.4 L 50.1 154.4 L 48.8 154.4 L 48.8 147.4 L 49.9 147.4 L 50.0 148.4 Q 50.9 147.3, 52.4 147.3 \" fill=\"#000000\"/>\n",
       "<path class=\"note\" d=\"M 62.6 147.4 L 62.6 154.8 Q 62.6 157.8, 59.4 157.8 Q 57.9 157.8, 56.5 157.1 L 56.9 156.1 Q 57.7 156.5, 58.2 156.6 Q 58.7 156.8, 59.4 156.8 Q 60.4 156.8, 60.8 156.3 Q 61.3 155.9, 61.3 154.8 L 61.3 153.6 Q 60.6 154.5, 59.3 154.5 Q 57.8 154.5, 57.0 153.6 Q 56.2 152.7, 56.2 151.0 Q 56.2 149.2, 57.2 148.3 Q 58.1 147.3, 59.8 147.3 Q 60.7 147.3, 61.5 147.5 L 61.5 147.4 L 62.6 147.4 M 59.4 153.5 Q 60.1 153.5, 60.6 153.1 Q 61.1 152.7, 61.3 152.0 L 61.3 148.5 Q 60.6 148.3, 59.8 148.3 Q 58.8 148.3, 58.1 149.0 Q 57.5 149.7, 57.5 151.0 Q 57.5 152.2, 58.0 152.8 Q 58.5 153.5, 59.4 153.5 \" fill=\"#000000\"/>\n",
       "<path class=\"note\" d=\"M 64.2 144.1 L 65.4 144.1 L 65.4 154.4 L 64.2 154.4 L 64.2 144.1 \" fill=\"#000000\"/>\n",
       "<path class=\"note\" d=\"M 67.0 150.9 Q 67.0 149.2, 67.9 148.2 Q 68.7 147.3, 70.3 147.3 Q 71.8 147.3, 72.5 148.2 Q 73.2 149.1, 73.2 150.8 L 73.2 151.0 L 68.3 151.0 Q 68.4 152.2, 68.9 152.8 Q 69.4 153.5, 70.4 153.5 Q 70.9 153.5, 71.4 153.3 Q 71.9 153.2, 72.6 152.9 L 72.9 153.8 Q 72.2 154.2, 71.6 154.3 Q 71.0 154.5, 70.3 154.5 Q 68.8 154.5, 67.9 153.5 Q 67.0 152.6, 67.0 150.9 M 70.3 148.3 Q 69.5 148.3, 69.0 148.7 Q 68.5 149.2, 68.4 150.1 L 71.9 150.1 Q 71.8 149.2, 71.4 148.7 Q 71.0 148.3, 70.3 148.3 \" fill=\"#000000\"/>\n",
       "<path class=\"note\" d=\"\" fill=\"#000000\"/>\n",
       "<path class=\"note\" d=\"M 82.4 147.3 Q 83.9 147.3, 84.7 148.2 Q 85.5 149.1, 85.5 150.8 Q 85.5 152.5, 84.5 153.5 Q 83.6 154.5, 81.9 154.5 Q 80.8 154.5, 79.8 154.1 L 79.2 153.9 L 79.2 144.1 L 80.4 144.1 L 80.4 148.2 Q 81.2 147.3, 82.4 147.3 M 81.9 153.5 Q 82.9 153.5, 83.6 152.8 Q 84.2 152.0, 84.2 150.8 Q 84.2 149.6, 83.7 148.9 Q 83.2 148.3, 82.3 148.3 Q 81.6 148.3, 81.1 148.7 Q 80.6 149.0, 80.4 149.7 L 80.4 153.3 Q 81.1 153.5, 81.9 153.5 \" fill=\"#000000\"/>\n",
       "<path class=\"note\" d=\"M 86.6 150.9 Q 86.6 149.2, 87.4 148.2 Q 88.3 147.3, 89.9 147.3 Q 91.4 147.3, 92.3 148.2 Q 93.2 149.2, 93.2 150.9 Q 93.2 152.6, 92.3 153.5 Q 91.4 154.5, 89.9 154.5 Q 88.3 154.5, 87.4 153.5 Q 86.6 152.6, 86.6 150.9 M 87.9 150.9 Q 87.9 152.1, 88.4 152.8 Q 88.9 153.5, 89.9 153.5 Q 90.8 153.5, 91.3 152.8 Q 91.9 152.1, 91.9 150.9 Q 91.9 149.6, 91.3 148.9 Q 90.8 148.3, 89.9 148.3 Q 88.9 148.3, 88.4 148.9 Q 87.9 149.6, 87.9 150.9 \" fill=\"#000000\"/>\n",
       "<path class=\"note\" d=\"M 97.9 147.3 Q 99.0 147.3, 99.6 147.9 Q 100.2 148.5, 100.2 149.8 L 100.2 154.4 L 98.9 154.4 L 98.9 149.9 Q 98.9 149.0, 98.6 148.7 Q 98.3 148.3, 97.6 148.3 Q 96.9 148.3, 96.4 148.6 Q 95.9 148.9, 95.5 149.4 L 95.5 154.4 L 94.3 154.4 L 94.3 147.4 L 95.3 147.4 L 95.4 148.4 Q 96.4 147.3, 97.9 147.3 \" fill=\"#000000\"/>\n",
       "<path class=\"note\" d=\"M 108.0 144.1 L 108.0 154.3 L 107.0 154.3 L 106.8 153.5 Q 106.0 154.5, 104.7 154.5 Q 103.3 154.5, 102.5 153.6 Q 101.7 152.7, 101.7 151.0 Q 101.7 149.2, 102.6 148.3 Q 103.6 147.3, 105.3 147.3 Q 106.0 147.3, 106.7 147.5 L 106.7 144.1 L 108.0 144.1 M 104.8 153.5 Q 105.5 153.5, 106.0 153.1 Q 106.5 152.7, 106.7 152.0 L 106.7 148.5 Q 106.0 148.3, 105.3 148.3 Q 104.2 148.3, 103.6 149.0 Q 103.0 149.7, 103.0 151.0 Q 103.0 152.2, 103.5 152.8 Q 103.9 153.5, 104.8 153.5 \" fill=\"#000000\"/>\n",
       "</svg>"
      ],
      "text/plain": [
       "<IPython.core.display.SVG object>"
      ]
     },
     "execution_count": 13,
     "metadata": {},
     "output_type": "execute_result"
    }
   ],
   "source": [
    "# 带有键注释的\n",
    "cp = Chem.Mol(diclofenac)\n",
    "cp.GetBondWithIdx(0).SetProp(\"bondNote\",\"double bond\") # this line\n",
    "cp.GetBondWithIdx(1).SetProp(\"bondNote\",\"single bond\") # this line\n",
    "d2d = rdMolDraw2D.MolDraw2DSVG(350,300)\n",
    "d2d.drawOptions().addAtomIndices=True\n",
    "d2d.drawOptions().setHighlightColour((0.8,0.8,0.8))\n",
    "d2d.DrawMolecule(cp,highlightAtoms=[],highlightBonds=[0,1])\n",
    "d2d.FinishDrawing()\n",
    "SVG(d2d.GetDrawingText())"
   ]
  }
 ],
 "metadata": {
  "kernelspec": {
   "display_name": "Python 3 (ipykernel)",
   "language": "python",
   "name": "python3"
  },
  "language_info": {
   "codemirror_mode": {
    "name": "ipython",
    "version": 3
   },
   "file_extension": ".py",
   "mimetype": "text/x-python",
   "name": "python",
   "nbconvert_exporter": "python",
   "pygments_lexer": "ipython3",
   "version": "3.9.17"
  }
 },
 "nbformat": 4,
 "nbformat_minor": 2
}
